{
  "nbformat": 4,
  "nbformat_minor": 0,
  "metadata": {
    "colab": {
      "provenance": []
    },
    "kernelspec": {
      "name": "python3",
      "display_name": "Python 3"
    },
    "language_info": {
      "name": "python"
    }
  },
  "cells": [
    {
      "cell_type": "code",
      "metadata": {
        "colab": {
          "base_uri": "https://localhost:8080/"
        },
        "id": "UP0d66bG7oMy",
        "outputId": "9231b12c-446b-4fc9-810d-aa51d8da6959"
      },
      "source": [
        "# zensar problem 1\n",
        "import math\n",
        "a, b = map(int, input().split())\n",
        "gcd=math.gcd(a,b)\n",
        "GCD=print(bin(gcd))\n",
        "s=str(bin(gcd))\n",
        "\n",
        "count=0\n",
        "for i in s :\n",
        "    if (i==\"1\"):\n",
        "        count=count+1\n",
        "        \n",
        "        \n",
        "print(count)"
      ],
      "execution_count": null,
      "outputs": [
        {
          "output_type": "stream",
          "name": "stdout",
          "text": [
            "2 4\n",
            "0b10\n",
            "1\n"
          ]
        }
      ]
    },
    {
      "cell_type": "code",
      "metadata": {
        "colab": {
          "base_uri": "https://localhost:8080/"
        },
        "id": "mFaI1jmE7urP",
        "outputId": "f39b5c09-2211-4648-b11b-040ac38cc19f"
      },
      "source": [
        "# zensar problem 2\n",
        "s = input()\n",
        "end = s.find('@')\n",
        "username=s[:end]\n",
        "print(username)"
      ],
      "execution_count": null,
      "outputs": [
        {
          "output_type": "stream",
          "name": "stdout",
          "text": [
            "abcdefg@gmail.com\n",
            "abcdefg\n"
          ]
        }
      ]
    },
    {
      "cell_type": "code",
      "metadata": {
        "colab": {
          "base_uri": "https://localhost:8080/"
        },
        "id": "38GpLmow8Ib4",
        "outputId": "a4d14366-bd64-42d9-958a-92d9f8094d58"
      },
      "source": [
        "# Write a program to add two numbers\n",
        "a=int(input(\"Enter the Value of a\\n\"))\n",
        "b=int(input(\"Enter the Value of b\\n\"))\n",
        "c=a+b\n",
        "print(\"a+b=\",c)\n"
      ],
      "execution_count": null,
      "outputs": [
        {
          "output_type": "stream",
          "name": "stdout",
          "text": [
            "Enter the Value of a\n",
            "4\n",
            "Enter the Value of b\n",
            "6\n",
            "a+b= 10\n"
          ]
        }
      ]
    },
    {
      "cell_type": "code",
      "metadata": {
        "colab": {
          "base_uri": "https://localhost:8080/"
        },
        "id": "3Og0ROpw98fX",
        "outputId": "bdd17f35-73f4-4f75-e68a-2e5a8ec05541"
      },
      "source": [
        "# Program to find the maximum of two numbers\n",
        "a=int(input(\"Enter the value of a\\n\"))\n",
        "b=int(input(\"Entyer the value of b\\n\"))\n",
        "if a>b:\n",
        "  print(\"{0} is greater Than {1}\".format(a,b))\n",
        "else:\n",
        "  print(\"{0} is greater Than {1}\".format(b,a))"
      ],
      "execution_count": null,
      "outputs": [
        {
          "output_type": "stream",
          "name": "stdout",
          "text": [
            "Enter the value of a\n",
            "2\n",
            "Entyer the value of b\n",
            "4\n",
            "4 is greater Than 2\n"
          ]
        }
      ]
    },
    {
      "cell_type": "code",
      "metadata": {
        "colab": {
          "base_uri": "https://localhost:8080/"
        },
        "id": "_r179Jhr_8d4",
        "outputId": "e58b369a-ba75-48fe-c87d-7f7f7265e2b8"
      },
      "source": [
        "# Python program to find  the factorial of the given input number\n",
        "number=int(input(\"Enter the Number\\n\"))\n",
        "if number==0:\n",
        "  print(\"Factorial of one is zero\")\n",
        "i=1\n",
        "fact=1 \n",
        "while i<=number:  \n",
        "  fact=fact*i\n",
        "  i=i+1\n",
        "  \n",
        "print(\"Factorial of the number is\",fact)"
      ],
      "execution_count": null,
      "outputs": [
        {
          "output_type": "stream",
          "name": "stdout",
          "text": [
            "Enter the Number\n",
            "5\n",
            "Factorial of the number is 120\n"
          ]
        }
      ]
    },
    {
      "cell_type": "code",
      "metadata": {
        "colab": {
          "base_uri": "https://localhost:8080/"
        },
        "id": "3kLaevTCEOiW",
        "outputId": "76cb3f41-3a8d-438f-d7b1-bad04f0562c3"
      },
      "source": [
        "# Python program to find factorial of the number using the factorial function from math module\n",
        "import math\n",
        "num=int(input(\"Enter the number\\n\"))\n",
        "print(\"the factorial of\",num,\"is\",math.factorial(num))"
      ],
      "execution_count": null,
      "outputs": [
        {
          "output_type": "stream",
          "name": "stdout",
          "text": [
            "Enter the number\n",
            "4\n",
            "the factorial of 4 is 24\n"
          ]
        }
      ]
    },
    {
      "cell_type": "code",
      "metadata": {
        "colab": {
          "base_uri": "https://localhost:8080/"
        },
        "id": "qMSg5cu2Axlg",
        "outputId": "22519f44-8e40-4e9e-a82d-8ffd3b948b06"
      },
      "source": [
        "# Program to find the simple intrest\n",
        "principal=float(input(\"Enter the principal\\n\"))\n",
        "rate=float(input(\"Enter the rate\\n\"))\n",
        "time=float(input(\"Enter the Time\\n\"))\n",
        "si= principal*rate*time/100 # simple intrest\n",
        "print(\"The simple intrest is\",si)"
      ],
      "execution_count": null,
      "outputs": [
        {
          "output_type": "stream",
          "name": "stdout",
          "text": [
            "Enter the principal\n",
            "8\n",
            "Enter the rate\n",
            "8\n",
            "Enter the Time\n",
            "6\n",
            "The simple intrest is 3.84\n"
          ]
        }
      ]
    },
    {
      "cell_type": "code",
      "metadata": {
        "colab": {
          "base_uri": "https://localhost:8080/"
        },
        "id": "cXrdOvkCN0w3",
        "outputId": "5a249ae1-90d8-4ae6-a93c-2d19583b4ebc"
      },
      "source": [
        "# Program to find compound Intrest\n",
        " \n",
        "principal=float(input(\"Enter the principal\\n\"))\n",
        "rate=float(input(\"Enter the rate\\n\"))\n",
        "time=float(input(\"Enter the Time\\n\"))\n",
        "amount=principal*(pow(1+rate/100,time))\n",
        "ci=amount-principal  # compount intrest                                  \n",
        "print(\"the compound intrest is \",ci)"
      ],
      "execution_count": null,
      "outputs": [
        {
          "output_type": "stream",
          "name": "stdout",
          "text": [
            "Enter the principal\n",
            "1200\n",
            "Enter the rate\n",
            "5.4\n",
            "Enter the Time\n",
            "2\n",
            "the compound intrest is  133.0992000000001\n"
          ]
        }
      ]
    },
    {
      "cell_type": "code",
      "metadata": {
        "colab": {
          "base_uri": "https://localhost:8080/"
        },
        "id": "YLYTKtOhQRHk",
        "outputId": "389aa4cc-3a0d-4df1-f2af-88ad38d19d43"
      },
      "source": [
        "#  Python Program  to check the number is armsstrong number or not\n",
        "\n",
        "def power(n):\n",
        "  power=0\n",
        "  \n",
        "  while n!=0:\n",
        "    n=n//10\n",
        "    power=power+1\n",
        "  return power\n",
        "    \n",
        "\n",
        "\n",
        "\n",
        "def check(n):\n",
        "    \n",
        "    p=power(n)\n",
        "    sum=0\n",
        "    num=n\n",
        "    while n!=0:\n",
        "        \n",
        "        number=n%10\n",
        "        sum=sum+number**p\n",
        "        n=n//10\n",
        "    \n",
        "    if sum==num:\n",
        "      print(\"An armstrong  number\")\n",
        "    else:\n",
        "      print(\"Not an armstrong number\")\n",
        "       \n",
        "  \n",
        "\n",
        "\n",
        "\n",
        "\n",
        "\n",
        "n=int(input(\"Enter the value of n\\n\"))\n",
        "check(n)\n",
        "\n",
        "\n",
        "\n",
        "\n",
        "\n",
        "\n",
        "\n",
        "\n",
        "\n",
        "      \n"
      ],
      "execution_count": null,
      "outputs": [
        {
          "output_type": "stream",
          "name": "stdout",
          "text": [
            "Enter the value of n\n",
            "1634\n",
            "An armstrong  number\n"
          ]
        }
      ]
    },
    {
      "cell_type": "code",
      "metadata": {
        "colab": {
          "base_uri": "https://localhost:8080/"
        },
        "id": "w94g-VVu5kza",
        "outputId": "894593c3-bfaa-446b-8b78-55f3082f29b1"
      },
      "source": [
        "# Python program to find the area of the circle\n",
        "import math\n",
        "radius=float(input(\"Enter the Radius\\n\"))\n",
        "area=math.pi*radius*radius\n",
        "print(\"area of the circle is\",area)\n",
        "\n",
        "\n"
      ],
      "execution_count": null,
      "outputs": [
        {
          "output_type": "stream",
          "name": "stdout",
          "text": [
            "Enter the Radius\n",
            "3\n",
            "area of the circle is 28.274333882308138\n"
          ]
        }
      ]
    },
    {
      "cell_type": "code",
      "metadata": {
        "colab": {
          "base_uri": "https://localhost:8080/"
        },
        "id": "NsMGJIktESXw",
        "outputId": "e1cbd0af-3eae-45b1-e4a7-23a0b9c9276b"
      },
      "source": [
        "# Program to check whther the number is prime number or  not\n",
        "num=int(input(\"Enter the number\"))\n",
        "\n",
        "for i in range(2,int(num/2 +1 )):\n",
        "  if num%i==0:\n",
        "    print(\"it is prime not prime  number\")\n",
        "    break\n",
        "  else:\n",
        "    print(\"It is a prime number\")\n",
        "\n",
        "\n",
        "\n"
      ],
      "execution_count": null,
      "outputs": [
        {
          "output_type": "stream",
          "name": "stdout",
          "text": [
            "Enter the number56\n",
            "it is prime not prime  number\n"
          ]
        }
      ]
    },
    {
      "cell_type": "code",
      "metadata": {
        "colab": {
          "base_uri": "https://localhost:8080/"
        },
        "id": "JLS3Oxm4GYj3",
        "outputId": "5524bf48-e9ff-433d-bb17-913deb238511"
      },
      "source": [
        "# program to print the prime numbers in the given interval\n",
        "\n",
        "start=int(input(\"enter the start\"))\n",
        "end=int(input(\"Enter the end\"))\n",
        "for i in range (start,end+1):\n",
        "  if i>1:\n",
        "    for j in range(2,i):\n",
        "      if(i%j==0):\n",
        "        break\n",
        "    else:\n",
        "       print(i)\n",
        "\n",
        "\n",
        "\n",
        "\n",
        "\n",
        "     \n",
        "\n",
        "\n"
      ],
      "execution_count": null,
      "outputs": [
        {
          "output_type": "stream",
          "name": "stdout",
          "text": [
            "enter the start11\n",
            "Enter the end25\n",
            "11\n",
            "13\n",
            "17\n",
            "19\n",
            "23\n"
          ]
        }
      ]
    },
    {
      "cell_type": "code",
      "metadata": {
        "colab": {
          "base_uri": "https://localhost:8080/"
        },
        "id": "uNasFrnGbiWR",
        "outputId": "3bd33760-1975-4dc4-eca4-6d0d0cc7d6bb"
      },
      "source": [
        "# Program to check the number is fibonacci number or not\n",
        "\n",
        "import math\n",
        "n=int(input(\"n\\n\")) # Enter the number\n",
        "codition1=math.sqrt(5*n*n+4) is float\n",
        "condition2=math.sqrt(5*n*n+4) is float\n",
        "if ((statement1 or statement)==1):\n",
        "  print(\"no\")\n",
        "else:\n",
        "  print('yes')\n",
        "\n",
        "\n",
        "\n",
        "\n"
      ],
      "execution_count": null,
      "outputs": [
        {
          "output_type": "stream",
          "name": "stdout",
          "text": [
            "n\n",
            "34\n",
            "yes\n"
          ]
        }
      ]
    },
    {
      "cell_type": "code",
      "metadata": {
        "colab": {
          "base_uri": "https://localhost:8080/"
        },
        "id": "7ghYfo_Hq1GO",
        "outputId": "6213727e-04bd-4662-e034-bf0c78b5982b"
      },
      "source": [
        "# Function for nth Fibonacci number\n",
        "def Fibonacci(n):\n",
        "   \n",
        "    # Check if input is 0 then it will\n",
        "    # print incorrect input\n",
        "    if n < 0:\n",
        "        print(\"Incorrect input\")\n",
        " \n",
        "    # Check if n is 0\n",
        "    # then it will return 0\n",
        "    elif n == 0:\n",
        "        return 0\n",
        " \n",
        "    # Check if n is 1,2\n",
        "    # it will return 1\n",
        "    elif n == 1 or n == 2:\n",
        "        return 1\n",
        " \n",
        "    else:\n",
        "        return Fibonacci(n-1) + Fibonacci(n-2)\n",
        "n=int(input(\"Enter the position of the fibonacci\\n\"))\n",
        " \n",
        "# Driver Program\n",
        "print(Fibonacci(n))"
      ],
      "execution_count": null,
      "outputs": [
        {
          "output_type": "stream",
          "name": "stdout",
          "text": [
            "Enter the position of the fibonacci\n",
            "8\n",
            "21\n"
          ]
        }
      ]
    },
    {
      "cell_type": "code",
      "metadata": {
        "colab": {
          "base_uri": "https://localhost:8080/"
        },
        "id": "hXEFNFpVKENw",
        "outputId": "11f90648-7c25-4bc1-8ca2-eec71464cb61"
      },
      "source": [
        "#  program to find position of the nth multiple of kth number in the fibonnaci series\n",
        "def findposition(k,n):\n",
        "  f1=0\n",
        "  f2=1\n",
        "  i=2\n",
        "  while i!=0:\n",
        "    f3=f1+f2\n",
        "    f1=f2\n",
        "    f2=f3\n",
        "    if f2%k==0:\n",
        "      return n*i\n",
        "    i+=1\n",
        "  return\n",
        "findposition(2,9)\n"
      ],
      "execution_count": null,
      "outputs": [
        {
          "output_type": "execute_result",
          "data": {
            "text/plain": [
              "27"
            ]
          },
          "metadata": {},
          "execution_count": 3
        }
      ]
    },
    {
      "cell_type": "code",
      "metadata": {
        "colab": {
          "base_uri": "https://localhost:8080/"
        },
        "id": "rH21oPsJkaaT",
        "outputId": "f8dc2658-284a-4707-8e0b-d6dbf376a7ff"
      },
      "source": [
        "# program to print the Ascii value of the character\n",
        "a=input(\"enter the character\\n\")\n",
        "print(\"ascii value of the  character is:\",ord(a))\n"
      ],
      "execution_count": null,
      "outputs": [
        {
          "output_type": "stream",
          "name": "stdout",
          "text": [
            "enter the character\n",
            "A\n",
            "ascii value of the  character is: 65\n"
          ]
        }
      ]
    },
    {
      "cell_type": "code",
      "metadata": {
        "colab": {
          "base_uri": "https://localhost:8080/"
        },
        "id": "PVvTz5OhmBCZ",
        "outputId": "ead92a71-fc24-47c8-a399-3c0509f30db3"
      },
      "source": [
        "# Program for the sum of the squares of first n natural numbers\n",
        "n=int(input(\"Enter the value of n\\n\"))\n",
        "sum=0\n",
        "for i in range(1,n+1):\n",
        "  sum=sum+i*i\n",
        "print(sum)"
      ],
      "execution_count": null,
      "outputs": [
        {
          "output_type": "stream",
          "name": "stdout",
          "text": [
            "Enter the value of n\n",
            "5\n",
            "55\n"
          ]
        }
      ]
    },
    {
      "cell_type": "code",
      "metadata": {
        "colab": {
          "base_uri": "https://localhost:8080/"
        },
        "id": "uw9k1f3RnO2p",
        "outputId": "32ad062e-8618-4363-e548-5b00612cedec"
      },
      "source": [
        "# Program to find the cube sum of n natural numbers\n",
        "n=int(input(\"Enter the value of n\\n\"))\n",
        "sum=0\n",
        "for i in range(1,n+1):\n",
        "  sum=sum+i*i*i\n",
        "print(sum)\n"
      ],
      "execution_count": null,
      "outputs": [
        {
          "output_type": "stream",
          "name": "stdout",
          "text": [
            "Enter the value of n\n",
            "7\n",
            "784\n"
          ]
        }
      ]
    },
    {
      "cell_type": "code",
      "metadata": {
        "colab": {
          "base_uri": "https://localhost:8080/"
        },
        "id": "pUGle4stoGLT",
        "outputId": "8c4a71b3-5817-4afc-871b-58719fb2c18a"
      },
      "source": [
        "# Recusive program to find the factorial\n",
        "def factorial(x):\n",
        "    \"\"\"This is a recursive function\n",
        "    to find the factorial of an integer\"\"\"\n",
        "\n",
        "    if x == 1:\n",
        "        return 1\n",
        "    else:\n",
        "        return (x * factorial(x-1))\n",
        "\n",
        "\n",
        "num \n",
        "print(\"The factorial of\", num, \"is\", factorial(num))"
      ],
      "execution_count": null,
      "outputs": [
        {
          "output_type": "stream",
          "name": "stdout",
          "text": [
            "The factorial of 3 is 6\n"
          ]
        }
      ]
    },
    {
      "cell_type": "code",
      "metadata": {
        "colab": {
          "base_uri": "https://localhost:8080/"
        },
        "id": "n5syrhtTbYfj",
        "outputId": "7d30964e-b5b4-41e6-addc-ff746f9656f9"
      },
      "source": [
        "x = \"global \"\n",
        "\n",
        "def foo():\n",
        "    global x\n",
        "    y = \"local\"\n",
        "    x = x * 2\n",
        "    print(x)\n",
        "    print(y)\n",
        "\n",
        "foo()\n",
        "print(x)"
      ],
      "execution_count": null,
      "outputs": [
        {
          "output_type": "stream",
          "name": "stdout",
          "text": [
            "global global \n",
            "local\n",
            "global global \n"
          ]
        }
      ]
    },
    {
      "cell_type": "code",
      "metadata": {
        "colab": {
          "base_uri": "https://localhost:8080/"
        },
        "id": "-8iUnUO_Tfes",
        "outputId": "7d58da7b-5e83-42f5-bc61-64887ea4521e"
      },
      "source": [
        "# ex use of the global keyword\n",
        "c=1 # By default declared in the global scope\n",
        "def foo():\n",
        "  global c\n",
        "  c=c+1\n",
        "  print(\"inside the function:\",c)\n",
        "\n",
        "foo()\n",
        "print(\"outside the function:\",c)\n",
        "\n",
        "\n"
      ],
      "execution_count": null,
      "outputs": [
        {
          "output_type": "stream",
          "name": "stdout",
          "text": [
            "inside the function: 2\n",
            "outside the function 2\n"
          ]
        }
      ]
    },
    {
      "cell_type": "code",
      "metadata": {
        "id": "R2920SZYTugM",
        "colab": {
          "base_uri": "https://localhost:8080/"
        },
        "outputId": "4b5dac58-44f5-4b46-f34f-c87654ea2cd8"
      },
      "source": [
        "# Global in nested functions\n",
        "\n",
        "def foo():\n",
        "  x=20\n",
        "  def bar():\n",
        "    global x\n",
        "    x=25\n",
        "  print(\"x before bar\",x)\n",
        "  bar()\n",
        "  print(\"x after the bar\",x)\n",
        "foo()\n",
        "print(\"X in main\",x)\n",
        "  \n",
        "  \n"
      ],
      "execution_count": null,
      "outputs": [
        {
          "output_type": "stream",
          "name": "stdout",
          "text": [
            "x before bar 20\n",
            "x after the bar 20\n",
            "X in main 25\n"
          ]
        }
      ]
    },
    {
      "cell_type": "code",
      "metadata": {
        "colab": {
          "base_uri": "https://localhost:8080/"
        },
        "id": "jETLRJxm_ze4",
        "outputId": "763db043-8951-4432-e5c0-05434cd59980"
      },
      "source": [
        "# Import the specific functions from the module\n",
        "from math import sqrt,e,pi\n",
        "print(pi)\n",
        "print(e)\n",
        "print(sqrt(4))"
      ],
      "execution_count": null,
      "outputs": [
        {
          "output_type": "stream",
          "name": "stdout",
          "text": [
            "3.141592653589793\n",
            "2.718281828459045\n",
            "2.0\n"
          ]
        }
      ]
    },
    {
      "cell_type": "code",
      "metadata": {
        "colab": {
          "base_uri": "https://localhost:8080/"
        },
        "id": "RIZ8GdKtVqkp",
        "outputId": "f32be7e5-3dee-4a96-d88f-cf48c96f9af7"
      },
      "source": [
        "# dir() function\n",
        "import math\n",
        "dir()\n"
      ],
      "execution_count": null,
      "outputs": [
        {
          "output_type": "execute_result",
          "data": {
            "text/plain": [
              "['In',\n",
              " 'Out',\n",
              " '_',\n",
              " '__',\n",
              " '___',\n",
              " '__builtin__',\n",
              " '__builtins__',\n",
              " '__doc__',\n",
              " '__loader__',\n",
              " '__name__',\n",
              " '__package__',\n",
              " '__spec__',\n",
              " '_dh',\n",
              " '_i',\n",
              " '_i1',\n",
              " '_i2',\n",
              " '_i3',\n",
              " '_i4',\n",
              " '_i5',\n",
              " '_i6',\n",
              " '_i7',\n",
              " '_i8',\n",
              " '_i9',\n",
              " '_ih',\n",
              " '_ii',\n",
              " '_iii',\n",
              " '_oh',\n",
              " '_sh',\n",
              " 'c',\n",
              " 'e',\n",
              " 'exit',\n",
              " 'foo',\n",
              " 'get_ipython',\n",
              " 'math',\n",
              " 'pi',\n",
              " 'quit',\n",
              " 'sqrt',\n",
              " 'x']"
            ]
          },
          "metadata": {},
          "execution_count": 9
        }
      ]
    },
    {
      "cell_type": "code",
      "metadata": {
        "colab": {
          "base_uri": "https://localhost:8080/"
        },
        "id": "eWFMFmOsNpf0",
        "outputId": "fa133fb7-052d-45ae-99f4-007c08e5d780"
      },
      "source": [
        "# nested list\n",
        "my_list=[\"happy\",[0,1,2,3]]\n",
        "print(my_list[0][2])"
      ],
      "execution_count": null,
      "outputs": [
        {
          "output_type": "stream",
          "name": "stdout",
          "text": [
            "p\n"
          ]
        }
      ]
    },
    {
      "cell_type": "code",
      "metadata": {
        "colab": {
          "base_uri": "https://localhost:8080/"
        },
        "id": "w478mTGQ2GYf",
        "outputId": "8116289e-5d85-41bc-ac28-fa1d3e5d4294"
      },
      "source": [
        "# Python numbers\n",
        "a=5\n",
        "b=5.0\n",
        "c=3+5j\n",
        "# now to check whether the variable belongs to a particular class\n",
        "print(type(a))\n",
        "print(type(b))\n",
        "print(type(c))\n",
        "print(isinstance(c,complex))\n",
        "print(isinstance(b,float))\n",
        "print(isinstance(a,int))"
      ],
      "execution_count": null,
      "outputs": [
        {
          "output_type": "stream",
          "name": "stdout",
          "text": [
            "<class 'int'>\n",
            "<class 'float'>\n",
            "<class 'complex'>\n",
            "True\n",
            "True\n",
            "True\n"
          ]
        }
      ]
    },
    {
      "cell_type": "code",
      "metadata": {
        "id": "0a_VuSTy5dPN"
      },
      "source": [
        "a"
      ],
      "execution_count": null,
      "outputs": []
    },
    {
      "cell_type": "code",
      "metadata": {
        "colab": {
          "base_uri": "https://localhost:8080/"
        },
        "id": "G-H_Enxv3E1c",
        "outputId": "3145db82-e5b5-4b81-e4dc-582c601f1d2d"
      },
      "source": [
        "# coercion or the type conversion\n",
        "a=\"300\"\n",
        "print(complex(3+2j)) # This function can also be used to convert string to pargtgicular data type\n",
        "print(float(a))\n",
        "print(int(a)) \n",
        "b=0.5\n",
        "print(int(b)) # This function removes the  floating point ie is called truncatio\n",
        "from decimal import Decimal as d\n",
        "1.1+2.2 is d(1.1+2.2)\n",
        "print(d(3.3))\n",
        "\n",
        "\n"
      ],
      "execution_count": null,
      "outputs": [
        {
          "output_type": "stream",
          "name": "stdout",
          "text": [
            "(3+2j)\n",
            "300.0\n",
            "300\n",
            "0\n",
            "3.29999999999999982236431605997495353221893310546875\n"
          ]
        }
      ]
    },
    {
      "cell_type": "code",
      "metadata": {
        "colab": {
          "base_uri": "https://localhost:8080/"
        },
        "id": "9ym7-Sh3-mTD",
        "outputId": "fe175b6d-70bb-4062-bb01-59faac17366a"
      },
      "source": [
        "# fractions in python\n",
        "from fractions import Fraction\n",
        "print(Fraction(0.25))"
      ],
      "execution_count": null,
      "outputs": [
        {
          "output_type": "stream",
          "name": "stdout",
          "text": [
            "1/4\n"
          ]
        }
      ]
    },
    {
      "cell_type": "code",
      "metadata": {
        "colab": {
          "base_uri": "https://localhost:8080/"
        },
        "id": "PxeMcmPt4_o1",
        "outputId": "b41fa725-77c9-418c-db6b-de63ed670ea0"
      },
      "source": [
        "# Fractional operations\n",
        "from fractions import Fraction as F\n",
        "print(F(1,2)+F(2,3))\n",
        "print(F(1,2)/F(2/3))\n",
        "print(F(-1/2)>0)\n",
        "print(F(-2/3)<0)"
      ],
      "execution_count": null,
      "outputs": [
        {
          "output_type": "stream",
          "name": "stdout",
          "text": [
            "7/6\n",
            "4503599627370496/6004799503160661\n",
            "False\n",
            "True\n"
          ]
        }
      ]
    },
    {
      "cell_type": "code",
      "metadata": {
        "colab": {
          "base_uri": "https://localhost:8080/"
        },
        "id": "ANaDCXXF2Jjk",
        "outputId": "1aab6529-1a04-430c-e458-17932eac1699"
      },
      "source": [
        "# Python mathematics Operations\n",
        "\n",
        "import math\n",
        "\n",
        "print(math.pi)\n",
        "print(math.cos(math.pi))\n",
        "print(math.log10(1000))\n",
        "print(math.exp(10))\n",
        "print(math.sinh(1))\n",
        "print(math.factorial(6))"
      ],
      "execution_count": null,
      "outputs": [
        {
          "output_type": "stream",
          "name": "stdout",
          "text": [
            "3.141592653589793\n",
            "-1.0\n",
            "3.0\n",
            "22026.465794806718\n",
            "1.1752011936438014\n",
            "720\n"
          ]
        }
      ]
    },
    {
      "cell_type": "code",
      "metadata": {
        "colab": {
          "base_uri": "https://localhost:8080/"
        },
        "id": "GYYq_7Kpd5Uc",
        "outputId": "8f924eba-435e-489f-f0d5-ea6159fe736d"
      },
      "source": [
        "# Random Module\n",
        "import random\n",
        "print(random.randrange(0,10))\n",
        "x=[2,4,5,6,8]\n",
        "print(random.choice(x))\n",
        "random.shuffle(x)\n",
        "print(x)\n",
        "print(random.random())"
      ],
      "execution_count": null,
      "outputs": [
        {
          "output_type": "stream",
          "name": "stdout",
          "text": [
            "6\n",
            "2\n",
            "[8, 4, 6, 5, 2]\n",
            "0.8705940578324077\n"
          ]
        }
      ]
    },
    {
      "cell_type": "code",
      "metadata": {
        "colab": {
          "base_uri": "https://localhost:8080/"
        },
        "id": "kMCxJdJKee8Y",
        "outputId": "b79407b7-1478-4561-efee-633c7d611ba6"
      },
      "source": [
        "# Python list\n",
        "list1=[1,2,3,4,5,6,7,8,8,9,0,5,6,56,6,7] # A list can have any number of elements\n",
        "list2=[\"sarvadnya\",2,2+3j,3.00,2+3j,\"SSSSS\"] # A python list can have items with the different data types\n",
        "list3=[2,4,5,[23,\"45\",3+4j]] # A python list  can contain a list as an item and it is called as the nested list\n",
        "my_list=[2,3,4,\"Mouse\", \"Keyboard\",\"monitor\"]\n",
        "# Ways for accessing the items in the list\n",
        "print(my_list[0]) # 1st item in the list\n",
        "print(my_list[1]) # 2nd item in the list\n",
        "print(my_list[2]) # 3rd item in the list\n",
        "print(my_list[3]) # 4th item in the list\n",
        "print(my_list[4]) # 5th item in the list\n",
        "print(my_list[5]) # 6th item in the list\n",
        "# nested indexing\n",
        "print(list3[3][0])\n",
        "print(list3[3][1])\n",
        "print(list3[3][2])\n",
        "\n",
        "\n",
        "\n"
      ],
      "execution_count": null,
      "outputs": [
        {
          "output_type": "stream",
          "name": "stdout",
          "text": [
            "2\n",
            "3\n",
            "4\n",
            "Mouse\n",
            "Keyboard\n",
            "monitor\n",
            "23\n",
            "45\n",
            "(3+4j)\n"
          ]
        }
      ]
    },
    {
      "cell_type": "code",
      "metadata": {
        "colab": {
          "base_uri": "https://localhost:8080/"
        },
        "id": "SKbbe6GlhwFH",
        "outputId": "9360214a-b433-4a7f-e39e-6e756393cdc4"
      },
      "source": [
        "# python negative indexing\n",
        "my_list=['p','r',\"o\",\"b\",\"e\"]\n",
        "\n",
        "print(my_list[-1])\n",
        "print(my_list[-5])"
      ],
      "execution_count": null,
      "outputs": [
        {
          "output_type": "stream",
          "name": "stdout",
          "text": [
            "e\n",
            "p\n"
          ]
        }
      ]
    },
    {
      "cell_type": "code",
      "metadata": {
        "colab": {
          "base_uri": "https://localhost:8080/"
        },
        "id": "X-Gd4co8lSQ4",
        "outputId": "d30aeb5c-cb72-42f8-e9ec-2c0605ae1448"
      },
      "source": [
        "# Slicing the list in the python\n",
        "list0=[\"s\",\"a\",\"r\",\"v\",\"a\",\"d\",\"n\",\"y\",\"a\"]\n",
        "print(list0[0:5]) # elements from 0 to 4\n",
        "print(list0[5:]) # elements from 5 to end\n",
        "print(list0[:]) # all the elements in the list"
      ],
      "execution_count": null,
      "outputs": [
        {
          "output_type": "stream",
          "name": "stdout",
          "text": [
            "['s', 'a', 'r', 'v', 'a']\n",
            "['d', 'n', 'y', 'a']\n",
            "['s', 'a', 'r', 'v', 'a', 'd', 'n', 'y', 'a']\n"
          ]
        }
      ]
    },
    {
      "cell_type": "code",
      "metadata": {
        "colab": {
          "base_uri": "https://localhost:8080/"
        },
        "id": "DJjE7exrnrpE",
        "outputId": "f86413b5-5d8d-4ce3-c748-c83e22ad9d81"
      },
      "source": [
        "# changing the list items\n",
        "''' unlike string, tuple the list is mutable we can use the assignment operator to carry out the change of the item or to change the range of the item'''\n",
        "odd=[2,4,6,8]\n",
        "odd[0]=24\n",
        "print(odd)\n",
        "\"\"\" Printing changing the range of the items\"\"\"\n",
        "odd[0:2]=[36,48]\n",
        "print(odd)\n",
        "# We can add the item to the list by append() method and add  several numbers of items using the extend function\n"
      ],
      "execution_count": null,
      "outputs": [
        {
          "output_type": "stream",
          "name": "stdout",
          "text": [
            "[24, 4, 6, 8]\n",
            "[36, 48, 6, 8]\n"
          ]
        }
      ]
    },
    {
      "cell_type": "code",
      "metadata": {
        "colab": {
          "base_uri": "https://localhost:8080/"
        },
        "id": "D9BmAcSJtmjp",
        "outputId": "b8ff0b32-8238-40ed-9831-cc72434351c2"
      },
      "source": [
        "# adding an item in the  list\n",
        "odd=[2,4,6,8]\n",
        "odd.append(10)\n",
        "print(odd)\n",
        "# adding the several items in the list\n",
        "odd.extend([12,14,16,18])\n",
        "print(odd)\n",
        "# concatinating the two lists \n",
        "odd=[2,4,6,8]\n",
        "even=[1,3,5,7]\n",
        "print(odd+even)\n",
        "print([\"repeat\"]*10) # repetation of the item in the list\n"
      ],
      "execution_count": null,
      "outputs": [
        {
          "output_type": "stream",
          "name": "stdout",
          "text": [
            "[2, 4, 6, 8, 10]\n",
            "[2, 4, 6, 8, 10, 12, 14, 16, 18]\n",
            "[2, 4, 6, 8, 1, 3, 5, 7]\n",
            "['repeat', 'repeat', 'repeat', 'repeat', 'repeat', 'repeat', 'repeat', 'repeat', 'repeat', 'repeat']\n"
          ]
        }
      ]
    },
    {
      "cell_type": "code",
      "metadata": {
        "colab": {
          "base_uri": "https://localhost:8080/"
        },
        "id": "Ts29W0IExgLQ",
        "outputId": "2872eda1-8b87-49ec-bfee-91bf5c583769"
      },
      "source": [
        "# inserting the one item at the desired location\n",
        "odd=[2,4,6,8]\n",
        "\n",
        "\n",
        "print(odd)\n",
        "odd[2:3]=[5,7]\n",
        "print(odd)\n",
        "odd[2:2]=[5,7]\n",
        "print(odd)\n",
        "\n"
      ],
      "execution_count": null,
      "outputs": [
        {
          "output_type": "stream",
          "name": "stdout",
          "text": [
            "[2, 4, 6, 8]\n",
            "[2, 4, 5, 7, 8]\n",
            "[2, 4, 5, 7, 5, 7, 8]\n"
          ]
        }
      ]
    },
    {
      "cell_type": "code",
      "metadata": {
        "colab": {
          "base_uri": "https://localhost:8080/"
        },
        "id": "oS-aV_7qzhtW",
        "outputId": "853b4a70-0c46-4369-88a1-e0b3584fa348"
      },
      "source": [
        "# Deleting an element in the list\n",
        "# we can delete the item in the list by using the del kewor\n",
        "mylist=[1,2,3,4,5,6,7,8,9,10]\n",
        "del mylist[0]\n",
        "print(mylist)\n",
        "# we can  remove the paticular item from the list by using remove method\n",
        "mylist.remove(3)\n",
        "print(mylist)\n",
        "# we can also remove the item from the list by using the index  ie by the pop() method that removes and return the element from the index if we doesnot pass it an index it will pop the last element\n",
        "print(mylist.pop(0))\n",
        "print(mylist)\n",
        "# we can also delete the item from the list by assigning the empty list to the slice of the list\n",
        "mylist[2:3]=[]\n",
        "print(mylist)\n",
        "mylist.index(7)\n",
        "list1=[2,4,5,6,8,8,9,10,11]\n",
        "print(list1.count(8))\n",
        "list1.sort()\n",
        "print(list1)\n",
        "list1.reverse()\n",
        "print(list1)\n",
        "list1.copy()\n",
        "\n",
        "\n",
        "\n",
        "\n"
      ],
      "execution_count": null,
      "outputs": [
        {
          "output_type": "stream",
          "name": "stdout",
          "text": [
            "[2, 3, 4, 5, 6, 7, 8, 9, 10]\n",
            "[2, 4, 5, 6, 7, 8, 9, 10]\n",
            "2\n",
            "[4, 5, 6, 7, 8, 9, 10]\n",
            "[4, 5, 7, 8, 9, 10]\n",
            "2\n",
            "[2, 4, 5, 6, 8, 8, 9, 10, 11]\n",
            "[11, 10, 9, 8, 8, 6, 5, 4, 2]\n"
          ]
        },
        {
          "output_type": "execute_result",
          "data": {
            "text/plain": [
              "[11, 10, 9, 8, 8, 6, 5, 4, 2]"
            ]
          },
          "metadata": {},
          "execution_count": 61
        }
      ]
    },
    {
      "cell_type": "code",
      "metadata": {
        "colab": {
          "base_uri": "https://localhost:8080/"
        },
        "id": "JbmlC3GB7Zdk",
        "outputId": "9df6030c-e48a-42c3-f31f-6ec548f47160"
      },
      "source": [
        "# list compresion\n",
        "power=[x**2 for x in range(10)]\n",
        "print(power)"
      ],
      "execution_count": null,
      "outputs": [
        {
          "output_type": "stream",
          "name": "stdout",
          "text": [
            "[0, 1, 4, 9, 16, 25, 36, 49, 64, 81]\n"
          ]
        }
      ]
    },
    {
      "cell_type": "code",
      "metadata": {
        "colab": {
          "base_uri": "https://localhost:8080/"
        },
        "id": "MzCjQbuR7sdz",
        "outputId": "f3f74081-567f-41a7-f9c1-2290b29278fc"
      },
      "source": [
        "# equivalent code for the above list\n",
        "power=[]\n",
        "for x in range(10):\n",
        "  power.append(x**2)\n",
        "print(power)\n",
        "# checking whether the element is present in the list\n",
        "print(4 in power)\n",
        "print(8 in power)\n",
        "print(16 not in power)\n"
      ],
      "execution_count": null,
      "outputs": [
        {
          "output_type": "stream",
          "name": "stdout",
          "text": [
            "[0, 1, 4, 9, 16, 25, 36, 49, 64, 81]\n",
            "True\n",
            "False\n",
            "False\n"
          ]
        }
      ]
    },
    {
      "cell_type": "code",
      "metadata": {
        "colab": {
          "base_uri": "https://localhost:8080/"
        },
        "id": "OeRUlMcWAWdJ",
        "outputId": "08b831f3-2564-4acd-9fbd-26fc24fd8b7e"
      },
      "source": [
        "# iterating in the list\n",
        "fruits=[\"apple\",\"bannana\",\"orange\", \"Jackfruit\",\"kiwi\"]\n",
        "for fruit in  fruits:\n",
        "  print(\"i love\",fruit)"
      ],
      "execution_count": null,
      "outputs": [
        {
          "output_type": "stream",
          "name": "stdout",
          "text": [
            "i love apple\n",
            "i love bannana\n",
            "i love orange\n",
            "i love Jackfruit\n",
            "i love kiwi\n"
          ]
        }
      ]
    },
    {
      "cell_type": "code",
      "metadata": {
        "colab": {
          "base_uri": "https://localhost:8080/"
        },
        "id": "XuHHYnHr528h",
        "outputId": "6935a5c2-0ec8-42d2-a6c9-053029d3c8c9"
      },
      "source": [
        "# Creating the tuple in the python\n",
        "# 1 empty tuple\n",
        "mytuple=()\n",
        "print(mytuple)\n",
        "# Creating the tuple with integer\n",
        "mytuple=(1,2,3,4)\n",
        "print(mytuple)\n",
        "# Creating the tuple with mixed datatypes\n",
        "mytuple=(1,2,3,\"apple\",\"kiwi\")\n",
        "print(mytuple)\n",
        "# Creating the nested tuple\n",
        "mytuple=(1,2,[\"apple\",\"bannan\",\"kiwi\"],(2+3j,2.05,2/5))\n",
        "print(mytuple)\n"
      ],
      "execution_count": null,
      "outputs": [
        {
          "output_type": "stream",
          "name": "stdout",
          "text": [
            "()\n",
            "(1, 2, 3, 4)\n",
            "(1, 2, 3, 'apple', 'kiwi')\n",
            "(1, 2, ['apple', 'bannan', 'kiwi'], ((2+3j), 2.05, 0.4))\n"
          ]
        }
      ]
    },
    {
      "cell_type": "code",
      "metadata": {
        "colab": {
          "base_uri": "https://localhost:8080/"
        },
        "id": "JwQHjJLhCRqb",
        "outputId": "25f9d45b-5b0d-4f17-df00-e5ce690db8dd"
      },
      "source": [
        "# Tuple can also be created without parenthesis\n",
        "mytuple=1,2,3\n",
        "print(mytuple)\n",
        "# Unpacking of the tuple\n",
        "a,b,c=mytuple\n",
        "print(a,b,c)\n",
        "# creating the tuple with one element can be little tricky\n",
        "mytuple=(\"apple\")\n",
        "print(type(mytuple))\n",
        "mytuple=(\"apple\",)\n",
        "print(type(mytuple))\n",
        "\n",
        "\n"
      ],
      "execution_count": null,
      "outputs": [
        {
          "output_type": "stream",
          "name": "stdout",
          "text": [
            "(1, 2, 3)\n",
            "1 2 3\n",
            "<class 'str'>\n",
            "<class 'tuple'>\n"
          ]
        }
      ]
    },
    {
      "cell_type": "code",
      "metadata": {
        "colab": {
          "base_uri": "https://localhost:8080/"
        },
        "id": "nj8RovGNqeaZ",
        "outputId": "d9ac9f9a-287f-49d4-833a-3a06f98d7c1c"
      },
      "source": [
        "# accessing the tuple during indexing\n",
        "mytuple=(\"P\",\"R\",\"O\",\"G\",\"R\",\"A\",\"M\",\"I\",\"Z\")\n",
        "print(mytuple)\n",
        "print(mytuple[0])\n",
        "print(mytuple[4])\n",
        "print(mytuple[6])\n",
        "# nested tuple  accesing the element using the nested indexing\n",
        "mytuple=(\"apple\",\"bannana\",(\"Sam\",\"sabestian\",\"Roy\"),[2,2+3j,3.43])\n",
        "print(mytuple[2][2])\n",
        "print(mytuple[3][1])\n"
      ],
      "execution_count": null,
      "outputs": [
        {
          "output_type": "stream",
          "name": "stdout",
          "text": [
            "('P', 'R', 'O', 'G', 'R', 'A', 'M', 'I', 'Z')\n",
            "P\n",
            "R\n",
            "M\n",
            "Roy\n",
            "(2+3j)\n"
          ]
        }
      ]
    },
    {
      "cell_type": "code",
      "metadata": {
        "colab": {
          "base_uri": "https://localhost:8080/"
        },
        "id": "Dzc9NHaYs_1b",
        "outputId": "923e4207-ca41-4027-8af6-3c2a4004c9a5"
      },
      "source": [
        "# Python allows the negative indexing  the negative indexing starts from the -1 index where the last item is -1 and the secondlast item have the -2 index\n",
        "mytuple=(\"p\",\"e\",\"r\",\"m\",\"i\",\"t\")\n",
        "print(mytuple[-1])\n",
        "print(mytuple[-6])\n"
      ],
      "execution_count": null,
      "outputs": [
        {
          "output_type": "stream",
          "name": "stdout",
          "text": [
            "t\n",
            "p\n"
          ]
        }
      ]
    },
    {
      "cell_type": "code",
      "metadata": {
        "colab": {
          "base_uri": "https://localhost:8080/"
        },
        "id": "KLrrPsESuHDJ",
        "outputId": "fd26a73d-e287-4811-f9e2-bb822efaa862"
      },
      "source": [
        "# accesing the tuple element using the slicing\n",
        "mytuple=(\"P\",\"R\",\"O\",\"G\",\"R\",\"A\",\"M\",\"I\",\"z\")\n",
        "print(mytuple[0:])\n",
        "print(mytuple[:])\n",
        "print(mytuple[:5])\n",
        "print(mytuple[5:6])\n",
        "print(mytuple[:-7])\n",
        "print(mytuple)"
      ],
      "execution_count": null,
      "outputs": [
        {
          "output_type": "stream",
          "name": "stdout",
          "text": [
            "('P', 'R', 'O', 'G', 'R', 'A', 'M', 'I', 'z')\n",
            "('P', 'R', 'O', 'G', 'R', 'A', 'M', 'I', 'z')\n",
            "('P', 'R', 'O', 'G', 'R')\n",
            "('A',)\n",
            "('P', 'R')\n",
            "('P', 'R', 'O', 'G', 'R', 'A', 'M', 'I', 'z')\n"
          ]
        }
      ]
    },
    {
      "cell_type": "code",
      "metadata": {
        "colab": {
          "base_uri": "https://localhost:8080/"
        },
        "id": "lvNewQ-ywr4n",
        "outputId": "18eb4c3b-9ee5-40c5-b47d-a8b4e4c566b4"
      },
      "source": [
        "# changing the elements in the tuple\n",
        "mytuple=(0,1,2,3,[\"a\",\"b\",\"c\",\"d\"],(\"e\",\"f\",\"g\",\"h\"))\n",
        "mytuple[4][3]=\"D\"\n",
        "print(mytuple)\n",
        "# Tuple can be reassigned\n",
        "\n",
        "mytuple=(\"I\",\"LOVE\",\"YOU\")\n",
        "print(mytuple)\n",
        "# Concatinating the two tuples \"+\" operator\n",
        "tuple1=1,2,3,4\n",
        "tuple2=5,6,7,8\n",
        "tuple3=tuple1+tuple2\n",
        "print(tuple3)\n",
        "tuple4=((\"repeat\",)*3)\n",
        "print(tuple4)"
      ],
      "execution_count": null,
      "outputs": [
        {
          "output_type": "stream",
          "name": "stdout",
          "text": [
            "(0, 1, 2, 3, ['a', 'b', 'c', 'D'], ('e', 'f', 'g', 'h'))\n",
            "('I', 'LOVE', 'YOU')\n",
            "(1, 2, 3, 4, 5, 6, 7, 8)\n",
            "('repeat', 'repeat', 'repeat')\n"
          ]
        }
      ]
    },
    {
      "cell_type": "code",
      "metadata": {
        "colab": {
          "base_uri": "https://localhost:8080/"
        },
        "id": "1JqMJluWyzIA",
        "outputId": "2568ee7d-a93e-41f7-8e53-d717d4920c28"
      },
      "source": [
        "# Deleting a tuple ,we cannot delete an element from the tuple but we can  delete the entire tuple\n",
        "mytuple=(0,1,2,3,4)\n",
        "print(mytuple)\n",
        "del(mytuple)\n",
        "\n"
      ],
      "execution_count": null,
      "outputs": [
        {
          "output_type": "stream",
          "name": "stdout",
          "text": [
            "(0, 1, 2, 3, 4)\n"
          ]
        }
      ]
    },
    {
      "cell_type": "code",
      "metadata": {
        "colab": {
          "base_uri": "https://localhost:8080/"
        },
        "id": "DYjKJU1BzoG8",
        "outputId": "18c1f2c8-e1ae-48df-fcb9-778d72161e4f"
      },
      "source": [
        "# methods of the tuple\n",
        "# Count method\n",
        "# index method\n",
        "\n",
        "my_tuple=(\"a\",\"p\",\"p\",\"l\",\"e\")\n",
        "print(my_tuple.count('p'))\n",
        "print(my_tuple.index(\"a\"))"
      ],
      "execution_count": null,
      "outputs": [
        {
          "output_type": "stream",
          "name": "stdout",
          "text": [
            "2\n",
            "0\n"
          ]
        }
      ]
    },
    {
      "cell_type": "code",
      "metadata": {
        "colab": {
          "base_uri": "https://localhost:8080/"
        },
        "id": "qVmnBVA03H-j",
        "outputId": "a777946b-7b5c-4a85-ba9a-e9f909fc53d2"
      },
      "source": [
        "# Tuple membership test\n",
        "# membership operator in and not in\n",
        "my_tuple=(\"a\",\"p\",\"p\",\"l\",\"e\")\n",
        "print(\"a\" in my_tuple)\n",
        "print(\"a\" not in my_tuple)"
      ],
      "execution_count": null,
      "outputs": [
        {
          "output_type": "stream",
          "name": "stdout",
          "text": [
            "True\n",
            "False\n"
          ]
        }
      ]
    },
    {
      "cell_type": "code",
      "metadata": {
        "colab": {
          "base_uri": "https://localhost:8080/"
        },
        "id": "Rd2owvm_4Qpi",
        "outputId": "cc139fb6-de30-4994-bc79-7213eea50830"
      },
      "source": [
        "# iterating in the tuple\n",
        "names=(\"Jhon\",\"hardin\",\"tessa\",\"lissa\")\n",
        "for name in names:\n",
        "  print(\"Goodmorning \",name)"
      ],
      "execution_count": null,
      "outputs": [
        {
          "output_type": "stream",
          "name": "stdout",
          "text": [
            "Goodmorning  Jhon\n",
            "Goodmorning  hardin\n",
            "Goodmorning  tessa\n",
            "Goodmorning  lissa\n"
          ]
        }
      ]
    },
    {
      "cell_type": "code",
      "metadata": {
        "colab": {
          "base_uri": "https://localhost:8080/"
        },
        "id": "y5wlGY-l4lum",
        "outputId": "02373adb-474a-46d0-f628-962b005c9b52"
      },
      "source": [
        "# Ways to create the strings\n",
        "my_string=\"Hello\"\n",
        "print(my_string)\n",
        "my_string='Hello'\n",
        "print(my_string)\n",
        "my_string=\"\"\" Hello welcome to the word of the python\"\"\"\n",
        "print(my_string)"
      ],
      "execution_count": null,
      "outputs": [
        {
          "output_type": "stream",
          "name": "stdout",
          "text": [
            "Hello\n",
            "Hello\n",
            " Hello welcome to the word of the python\n"
          ]
        }
      ]
    },
    {
      "cell_type": "code",
      "metadata": {
        "colab": {
          "base_uri": "https://localhost:8080/"
        },
        "id": "toQHsjcQDTWC",
        "outputId": "711eea57-4021-4e29-9bd2-e9ea7ad4c0c3"
      },
      "source": [
        "# Accesing string Characters in python\n",
        "# using indexing\n",
        "my_string=\"Engineering\"\n",
        "print(my_string[3])\n",
        "# Using negative indexing\n",
        "print(my_string[-7])\n",
        "# accessing the range of characters in the string\n",
        "print(my_string[:8])\n",
        "print(my_string[5:10]\n"
      ],
      "execution_count": null,
      "outputs": [
        {
          "output_type": "stream",
          "name": "stdout",
          "text": [
            "i\n",
            "n\n",
            "Engineer\n",
            "eerin\n",
            "11\n"
          ]
        }
      ]
    },
    {
      "cell_type": "code",
      "metadata": {
        "colab": {
          "base_uri": "https://localhost:8080/"
        },
        "id": "wfN6mzt3FCBw",
        "outputId": "97ac07f6-8938-47cc-e68d-97ce3de2b23d"
      },
      "source": [
        "# Deleting A string\n",
        "\"\"\" deleting the a particular character  from the string is not poissible as the strings are not mutable as the tuple\n",
        "However the string can be deleted entirely\"\"\"\n",
        "my_string=\"ycce\"\n",
        "del my_string\n",
        "my_string=\"Yeswhwantrao chavan college of enginnering\"\n",
        "print(my_string)\n"
      ],
      "execution_count": null,
      "outputs": [
        {
          "output_type": "stream",
          "name": "stdout",
          "text": [
            "Yeswhwantrao chavan college of enginnering\n"
          ]
        }
      ]
    },
    {
      "cell_type": "code",
      "metadata": {
        "colab": {
          "base_uri": "https://localhost:8080/"
        },
        "id": "VuTeBVH7LQ0h",
        "outputId": "14f7a5bf-62de-4e82-8dd9-15033ec512ff"
      },
      "source": [
        "# string operations \n",
        "# ways of concatinating the strings\n",
        "string1=\"Hello!\"\n",
        "string2=\"World\"\n",
        "print(string1 + string2)\n",
        "print(string1*3)\n",
        "# Concatinating the string in two different lines\n",
        "print(\"hello\"\n",
        "\"world\")\n"
      ],
      "execution_count": null,
      "outputs": [
        {
          "output_type": "stream",
          "name": "stdout",
          "text": [
            "Hello!World\n",
            "Hello!Hello!Hello!\n",
            "helloworld\n"
          ]
        }
      ]
    },
    {
      "cell_type": "code",
      "metadata": {
        "colab": {
          "base_uri": "https://localhost:8080/"
        },
        "id": "WsCFbdA7MTzD",
        "outputId": "5a8ff84e-3317-4e0c-fcdc-fc84126e4fa4"
      },
      "source": [
        "# iterating through the strings\n",
        "my_string=\"Ycce\"\n",
        "count=0\n",
        "for letter in my_string:\n",
        "  count=count+1\n",
        "print(count)\\\n",
        "# Membership in a string\n",
        "print(\"a\" not in my_string)\n",
        "\"b\" in \"battle\""
      ],
      "execution_count": null,
      "outputs": [
        {
          "output_type": "stream",
          "name": "stdout",
          "text": [
            "4\n",
            "True\n"
          ]
        },
        {
          "output_type": "execute_result",
          "data": {
            "text/plain": [
              "True"
            ]
          },
          "metadata": {},
          "execution_count": 51
        }
      ]
    },
    {
      "cell_type": "code",
      "metadata": {
        "colab": {
          "base_uri": "https://localhost:8080/"
        },
        "id": "TAeSZL8jNbbf",
        "outputId": "6475cfb0-14ee-4ca5-8c87-80469da76ddd"
      },
      "source": [
        "#  operations with strings\n",
        "college=\"Ycce\"\n",
        "print(list(enumerate(college)))\n",
        "print(len(college))"
      ],
      "execution_count": null,
      "outputs": [
        {
          "output_type": "stream",
          "name": "stdout",
          "text": [
            "[(0, 'Y'), (1, 'c'), (2, 'c'), (3, 'e')]\n",
            "4\n"
          ]
        }
      ]
    },
    {
      "cell_type": "code",
      "metadata": {
        "colab": {
          "base_uri": "https://localhost:8080/"
        },
        "id": "wC7t2XXTTgzX",
        "outputId": "6d18d445-6ced-48f3-8a3d-d52871cda46e"
      },
      "source": [
        "# Escape sequence\n",
        "print('hello, \"what\\\"s your name\" ')"
      ],
      "execution_count": null,
      "outputs": [
        {
          "output_type": "stream",
          "name": "stdout",
          "text": [
            "hello, \"what\"s your name\" \n"
          ]
        }
      ]
    },
    {
      "cell_type": "code",
      "metadata": {
        "colab": {
          "base_uri": "https://localhost:8080/"
        },
        "id": "xBDfk83PUkJI",
        "outputId": "19512eff-6ea0-4b58-bf9c-18bbaff1c783"
      },
      "source": [
        "# Raw string to ignore escape sequence in the string\n",
        "print('hello,what\\'s your name')\n",
        "print(r'hello,what\\'s your name')"
      ],
      "execution_count": null,
      "outputs": [
        {
          "output_type": "stream",
          "name": "stdout",
          "text": [
            "hello,what's your name\n",
            "hello,what\\'s your name\n"
          ]
        }
      ]
    },
    {
      "cell_type": "code",
      "metadata": {
        "colab": {
          "base_uri": "https://localhost:8080/"
        },
        "id": "1305MB_SyG5P",
        "outputId": "75df0a7e-7246-4a11-d1aa-0361266b1049"
      },
      "source": [
        "# Python string format method\n",
        "\"\"\" Using the default argument \"\"\"\n",
        "default_order=\"{},{} & {}\".format(\"apple\",\"mango\",\"Bannana\")\n",
        "print(default_order)\n",
        "\"\"\" using the positional argument\"\"\"\n",
        "positional_order=\"{1},{0} & {2}\".format(\"apple\",\"mango\",\"bannana\")\n",
        "print(positional_order)\n",
        "\"\"\" Using the Keyword argument \"\"\"\n",
        "keyword_order=\"{i},{j}&{k}\".format(i=\"bannana\",k=\"orange\",j=\"kiwi\")\n",
        "print(keyword_order)"
      ],
      "execution_count": null,
      "outputs": [
        {
          "output_type": "stream",
          "name": "stdout",
          "text": [
            "apple,mango & Bannana\n",
            "mango,apple & bannana\n",
            "bannana,kiwi&orange\n"
          ]
        }
      ]
    },
    {
      "cell_type": "code",
      "metadata": {
        "colab": {
          "base_uri": "https://localhost:8080/",
          "height": 35
        },
        "id": "RTttmWGiz_Ht",
        "outputId": "3bbfcf3f-1fb3-4892-bbfa-1afb112ed8cb"
      },
      "source": [
        "# formatting integers\n",
        "\"The of the {0} is {0:b}\".format(2)\n",
        "# formatting floats\n",
        "\" the exponent representation {0:e}\".format(12.5)\n",
        "\" th e roundoff of the float {0:0.15f}\".format(1/3)"
      ],
      "execution_count": null,
      "outputs": [
        {
          "output_type": "execute_result",
          "data": {
            "application/vnd.google.colaboratory.intrinsic+json": {
              "type": "string"
            },
            "text/plain": [
              "' th e roundoff of the float 0.333333333333333'"
            ]
          },
          "metadata": {},
          "execution_count": 24
        }
      ]
    },
    {
      "cell_type": "code",
      "metadata": {
        "colab": {
          "base_uri": "https://localhost:8080/"
        },
        "id": "ejvTH0-B1WeV",
        "outputId": "c6b45402-16ec-4e29-9568-9be5003763a6"
      },
      "source": [
        "# String alignment\n",
        "\"|{0:<10}|{2:^10}|{1:>10}\".format(\"bread\",\"butter\",\"ham\")\n",
        "# old style formattting\n",
        "x=19.055555555555555556899\n",
        "print(\"the value of x is %3.2f\"%x)\n",
        "print(\"the value of x is % 3.4f\"%x)"
      ],
      "execution_count": null,
      "outputs": [
        {
          "output_type": "stream",
          "name": "stdout",
          "text": [
            "the value of x is 19.06\n",
            "the value of x is  19.0556\n"
          ]
        }
      ]
    },
    {
      "cell_type": "code",
      "metadata": {
        "colab": {
          "base_uri": "https://localhost:8080/",
          "height": 88
        },
        "id": "0HnSx66Z2-PZ",
        "outputId": "e03392b7-03ce-4c47-fe75-bc4f1176bf66"
      },
      "source": [
        "# methods o the strings\n",
        "\n",
        "# method that converts the upper case letters into lower\n",
        "college=\"YCCE\"\n",
        "print(college.lower())\n",
        "fruit=\"apple\"\n",
        "print(fruit.upper())\n",
        "college= \" yeshwantrao chavan college of engineering\"\n",
        "c=college.split()\n",
        "print(college.split())\n",
        "\n",
        "name=\"Hamister\"\n",
        "name.find(\"s\")\n",
        "\"Happy new year\".replace(\"Happy\",\"good\")\n"
      ],
      "execution_count": null,
      "outputs": [
        {
          "output_type": "stream",
          "name": "stdout",
          "text": [
            "ycce\n",
            "APPLE\n",
            "['yeshwantrao', 'chavan', 'college', 'of', 'engineering']\n"
          ]
        },
        {
          "output_type": "execute_result",
          "data": {
            "application/vnd.google.colaboratory.intrinsic+json": {
              "type": "string"
            },
            "text/plain": [
              "'good new year'"
            ]
          },
          "metadata": {},
          "execution_count": 34
        }
      ]
    },
    {
      "cell_type": "code",
      "metadata": {
        "colab": {
          "base_uri": "https://localhost:8080/"
        },
        "id": "56a9LtgZ6v0G",
        "outputId": "01b66946-2d7d-460a-b274-75ea1fb5893b"
      },
      "source": [
        "# Creating the set\n",
        "my_set={1,2,3,4}\n",
        "print(my_set)\n",
        "my_set={1,2,3,\"apple\",(23,\"orange\",\"nagpur\")} # set with mix data types\n",
        "print(my_set)\n",
        "\"\"\" sets cannot have duplicates\"\"\"\n",
        "my_set={1,1,2,3,4,5,6,7,8,9,10}\n",
        "print(my_set)\n",
        "# set can be made from list by using the the set function\n",
        "mylist=[1,2,3,4,5,(\"apple\",\"orange\")]\n",
        "print(set(mylist))\n",
        "# creating an empty list\n",
        "a={}\n",
        "print(type(a))\n",
        "a=set()\n",
        "print(type(a))\n"
      ],
      "execution_count": null,
      "outputs": [
        {
          "output_type": "stream",
          "name": "stdout",
          "text": [
            "{1, 2, 3, 4}\n",
            "{1, 2, 3, (23, 'orange', 'nagpur'), 'apple'}\n",
            "{1, 2, 3, 4, 5, 6, 7, 8, 9, 10}\n",
            "{1, 2, 3, 4, 5, ('apple', 'orange')}\n",
            "<class 'dict'>\n",
            "<class 'set'>\n"
          ]
        }
      ]
    },
    {
      "cell_type": "code",
      "metadata": {
        "colab": {
          "base_uri": "https://localhost:8080/"
        },
        "id": "X1s21yfa76Yb",
        "outputId": "3865d5f1-8818-47d4-beeb-a9cc901220eb"
      },
      "source": [
        "# adding the item or the range of the items in the sets\n",
        "myset={1,2,\"apple\",(\"ram\",\"laxman\",\"hanuman\")}\n",
        "myset.add((24,45,67))\n",
        "print(myset)\n",
        "myset.update([200,400,500])\n",
        "print(myset)"
      ],
      "execution_count": null,
      "outputs": [
        {
          "output_type": "stream",
          "name": "stdout",
          "text": [
            "{1, 2, 'apple', (24, 45, 67), ('ram', 'laxman', 'hanuman')}\n",
            "{1, 2, 'apple', 200, (24, 45, 67), 400, 500, ('ram', 'laxman', 'hanuman')}\n"
          ]
        }
      ]
    },
    {
      "cell_type": "code",
      "metadata": {
        "colab": {
          "base_uri": "https://localhost:8080/"
        },
        "id": "PutlIiba-buN",
        "outputId": "02ee4275-7631-4b85-b019-3672ce4a806f"
      },
      "source": [
        "# eleminating an item from the set\n",
        "# discard() method\n",
        "# remove() method\n",
        "myset={\"apple \",\"mango\",\"bannana\",\"Sunflower\",23}\n",
        "myset.discard(\"mango\")\n",
        "print(myset)\n",
        "myset.remove(23)\n",
        "print(myset)\n",
        "myset={1,2,\"apple\",\"tie\",\"pizza\",\"Pasta\",\"noodels\"}\n",
        "myset.pop()\n",
        "# clearing all the elements of the set\n",
        "myset.clear()\n",
        "print(myset)"
      ],
      "execution_count": null,
      "outputs": [
        {
          "output_type": "stream",
          "name": "stdout",
          "text": [
            "{'apple ', 'Sunflower', 'bannana', 23}\n",
            "{'apple ', 'Sunflower', 'bannana'}\n",
            "set()\n"
          ]
        }
      ]
    },
    {
      "cell_type": "code",
      "metadata": {
        "colab": {
          "base_uri": "https://localhost:8080/"
        },
        "id": "tIM9Ak3ODBSD",
        "outputId": "e8c75bca-cc56-4979-b483-e9706c515e2c"
      },
      "source": [
        "# we can also perform the mathematical set operations such as the union , intesection ,difference & finite difference using various operators and the  method\n",
        "\"\"\" Union of the two sets\"\"\"\n",
        "A={1,2,3,4,5,6}\n",
        "B={1,3,5,7,8,9,10000}\n",
        "\"\"\" Using the operator\"\"\"\n",
        "print(A|B)\n",
        "\"\"\" using the union function \"\"\"\n",
        "print(A.union(B))\n",
        "print(B.union(A))\n",
        "\"\"\" intesection of the two sets using the operator\"\"\"\n",
        "print(A&B)\n",
        "print(B&A)\n",
        "\"\"\" intesection of the two sets using the intersection() method\"\"\"\n",
        "print(A.intersection(B))\n",
        "print(B.intersection(A))\n",
        "\"\"\" Difference between two sets using the operator\"\"\"\n",
        "print(A-B)\n",
        "print(B-A)\n",
        "\"\"\" Difference between the two sets using the difference method \"\"\"\n",
        "print(A.difference(B))\n",
        "print(B.difference(A))\n",
        "\"\"\" Symmetric difference between the two sets using the '^' operator\"\"\"\n",
        "print(A^B)\n",
        "print(B^A)\n",
        "\n",
        "\"\"\" Symmetric difference between the two sets using the Symmetric_difference()\"\"\"\n",
        "print(A.symmetric_difference(B))\n",
        "print(B.symmetric_difference(A))\n",
        "print(A.update(B))\n",
        "print(A)\n",
        "\n",
        "\n",
        "\n"
      ],
      "execution_count": null,
      "outputs": [
        {
          "output_type": "stream",
          "name": "stdout",
          "text": [
            "{1, 2, 3, 4, 5, 6, 7, 8, 9, 10000}\n",
            "{1, 2, 3, 4, 5, 6, 7, 8, 9, 10000}\n",
            "{1, 2, 3, 4, 5, 6, 7, 8, 9, 10000}\n",
            "{1, 3, 5}\n",
            "{1, 3, 5}\n",
            "{1, 3, 5}\n",
            "{1, 3, 5}\n",
            "{2, 4, 6}\n",
            "{8, 9, 10000, 7}\n",
            "{2, 4, 6}\n",
            "{8, 9, 10000, 7}\n",
            "{2, 4, 6, 7, 8, 9, 10000}\n",
            "{2, 4, 6, 7, 8, 9, 10000}\n",
            "{2, 4, 6, 7, 8, 9, 10000}\n",
            "{2, 4, 6, 7, 8, 9, 10000}\n",
            "None\n",
            "{1, 2, 3, 4, 5, 6, 7, 8, 9, 10000}\n"
          ]
        }
      ]
    },
    {
      "cell_type": "code",
      "metadata": {
        "colab": {
          "base_uri": "https://localhost:8080/"
        },
        "id": "uT7pDVVTKUXe",
        "outputId": "7bee97f7-d7f4-4b53-a037-b273ce58b64f"
      },
      "source": [
        "# various methods of the sets \n",
        "A={1,2,3,4,5,6}\n",
        "B={1,2,3,4,5,6,10000}\n",
        "\n",
        "print(A.intersection_update(B))\n",
        "print(A)\n",
        "print(B)\n",
        "\n",
        "B.isdisjoint(A)\n"
      ],
      "execution_count": null,
      "outputs": [
        {
          "output_type": "stream",
          "name": "stdout",
          "text": [
            "None\n",
            "{1, 2, 3, 4, 5, 6}\n",
            "{1, 2, 3, 4, 5, 6, 10000}\n"
          ]
        },
        {
          "output_type": "execute_result",
          "data": {
            "text/plain": [
              "False"
            ]
          },
          "metadata": {},
          "execution_count": 84
        }
      ]
    },
    {
      "cell_type": "code",
      "metadata": {
        "colab": {
          "base_uri": "https://localhost:8080/"
        },
        "id": "0CMn0whyZKZU",
        "outputId": "99a5a459-1578-4020-eda8-d7777eb54d81"
      },
      "source": [
        "# other operations in the sets\n",
        "\"\"\" Set membership test using in and not in key words \"\"\"\n",
        "a={2,3,\"apple\",\"Mango\",\"Lays\"}\n",
        "\"apple\" in a\n",
        "\"bananna \" not in a\n"
      ],
      "execution_count": null,
      "outputs": [
        {
          "output_type": "execute_result",
          "data": {
            "text/plain": [
              "True"
            ]
          },
          "metadata": {},
          "execution_count": 86
        }
      ]
    },
    {
      "cell_type": "code",
      "metadata": {
        "colab": {
          "base_uri": "https://localhost:8080/"
        },
        "id": "SHPx9S44ZxmI",
        "outputId": "f073d3e9-40f1-4d7a-87cc-0676e3970301"
      },
      "source": [
        "# Iterating through the set\n",
        "\"\"\" We can iterate through the each item in the set using for loop\"\"\"\n",
        "names={\"virat\",\"rohit\",\"ronald\",\"messi\",\"salah\"}\n",
        "for name in names:\n",
        "  print(\"awesome\",name)"
      ],
      "execution_count": null,
      "outputs": [
        {
          "output_type": "stream",
          "name": "stdout",
          "text": [
            "awesome rohit\n",
            "awesome salah\n",
            "awesome messi\n",
            "awesome ronald\n",
            "awesome virat\n"
          ]
        }
      ]
    },
    {
      "cell_type": "code",
      "metadata": {
        "colab": {
          "base_uri": "https://localhost:8080/"
        },
        "id": "ClihCAteadZe",
        "outputId": "6652126b-3636-4fcc-b080-032d2b5f98e8"
      },
      "source": [
        "# Built-in functions with set\n",
        "A={1,2,3,4,5,6,0}\n",
        "print(A)\n",
        "any(A)\n",
        "print(list(enumerate(A)))\n",
        "print(len(A))\n",
        "print(min(A))\n",
        "print(max(A))\n",
        "print(sum(A))\n"
      ],
      "execution_count": null,
      "outputs": [
        {
          "output_type": "stream",
          "name": "stdout",
          "text": [
            "{0, 1, 2, 3, 4, 5, 6}\n",
            "[(0, 0), (1, 1), (2, 2), (3, 3), (4, 4), (5, 5), (6, 6)]\n",
            "7\n",
            "0\n",
            "6\n",
            "21\n"
          ]
        }
      ]
    },
    {
      "cell_type": "code",
      "metadata": {
        "colab": {
          "base_uri": "https://localhost:8080/"
        },
        "id": "Z5Z3mn1Cc9vb",
        "outputId": "8608e036-96ac-40ff-fd40-31dc28478cfd"
      },
      "source": [
        "# Frozensets\n",
        "# Frozen sets are immutable sets\n",
        "A=frozenset([1,2,3,4,5])\n",
        "B=frozenset([1,2,3,4,5,6,7,8,9,10])\n",
        "print(A|B)\n",
        "print(A&B)\n",
        "\n",
        "A.issubset(B)\n"
      ],
      "execution_count": null,
      "outputs": [
        {
          "output_type": "stream",
          "name": "stdout",
          "text": [
            "frozenset({1, 2, 3, 4, 5, 6, 7, 8, 9, 10})\n",
            "frozenset({1, 2, 3, 4, 5})\n"
          ]
        },
        {
          "output_type": "execute_result",
          "data": {
            "text/plain": [
              "True"
            ]
          },
          "metadata": {},
          "execution_count": 109
        }
      ]
    },
    {
      "cell_type": "code",
      "metadata": {
        "colab": {
          "base_uri": "https://localhost:8080/"
        },
        "id": "_Je9NppSfrpq",
        "outputId": "8a40979f-a4e3-496e-f034-19330cfc06aa"
      },
      "source": [
        "# creating the dictionary\n",
        "# empty dictionary\n",
        "my_dict={}\n",
        "print(my_dict)\n",
        "# dictinary of integers keys\n",
        "my_dict={1:\"apple\",2:\"bannana\",3:\"Orange\"}\n",
        "print(my_dict)\n",
        "# dictionary with the mix datatypes as a key\n",
        "my_dict={1:\"apple\",\"name\":\"jhon\",3:[1,2,3]}\n",
        "print(my_dict)\n",
        "# from dict function\n",
        "my_dict=dict([(1,'apple'),(2,'Orange'),(3,'mango')])\n",
        "print(my_dict)\n"
      ],
      "execution_count": null,
      "outputs": [
        {
          "output_type": "stream",
          "name": "stdout",
          "text": [
            "{}\n",
            "{1: 'apple', 2: 'bannana', 3: 'Orange'}\n",
            "{1: 'apple', 'name': 'jhon', 3: [1, 2, 3]}\n",
            "{1: 'apple', 2: 'Orange', 3: 'mango'}\n"
          ]
        }
      ]
    },
    {
      "cell_type": "code",
      "metadata": {
        "colab": {
          "base_uri": "https://localhost:8080/"
        },
        "id": "gJnH41n8jKj3",
        "outputId": "904bb76c-c750-4a9e-d9f3-d6c862839ab7"
      },
      "source": [
        "# accessing the element from the dictionary\n",
        "# using the get method and the indexing\n",
        "my_dict={\"name\":\"jhon\",\"age\":26,\"gender\":\"male\"}\n",
        "print(my_dict[\"name\"],my_dict[\"age\"],my_dict[\"gender\"])\n",
        "print(my_dict.get(\"name\"),my_dict.get(\"age\"),my_dict.get(\"height\"))\n",
        "# updating the age\n",
        "my_dict[\"age\"]=56\n",
        "print(my_dict[\"age\"])\n",
        "# adding the address key\n",
        "my_dict[\"address\"]=\"Downtown\"\n",
        "print(my_dict)"
      ],
      "execution_count": null,
      "outputs": [
        {
          "output_type": "stream",
          "name": "stdout",
          "text": [
            "jhon 26 male\n",
            "jhon 26 None\n",
            "56\n",
            "{'name': 'jhon', 'age': 56, 'gender': 'male', 'address': 'Downtown'}\n"
          ]
        }
      ]
    },
    {
      "cell_type": "code",
      "metadata": {
        "colab": {
          "base_uri": "https://localhost:8080/"
        },
        "id": "UeBmxvnJlDpA",
        "outputId": "7c1da7ed-d503-47f9-d080-dc8abdb766f2"
      },
      "source": [
        "# removng an element from the dictionary\n",
        "squares={1:1,2:4,3:9,4:16,5:25,6:36}\n",
        "# Removing the particular item\n",
        "print(squares.pop(4))\n",
        "print(squares)\n",
        "# removing an arbitrary items\n",
        "print(squares.popitem())\n",
        "print(squares)\n",
        "\n",
        "# making dictionary from key'\n",
        "squares.items()\n",
        "squares.keys()\n",
        "squares.values()\n",
        "squares.setdefault(\"salary\")\n",
        "squares[\"slary\"]=22\n",
        "\n",
        "\n"
      ],
      "execution_count": null,
      "outputs": [
        {
          "output_type": "stream",
          "name": "stdout",
          "text": [
            "16\n",
            "{1: 1, 2: 4, 3: 9, 5: 25, 6: 36}\n",
            "(6, 36)\n",
            "{1: 1, 2: 4, 3: 9, 5: 25}\n",
            "None\n"
          ]
        }
      ]
    },
    {
      "cell_type": "code",
      "metadata": {
        "colab": {
          "base_uri": "https://localhost:8080/"
        },
        "id": "xMUVCoPz1oOG",
        "outputId": "95a71406-11e3-42f6-df73-c38cf22f5c7d"
      },
      "source": [
        "\n",
        "squares={}\n",
        "for x in range(6):\n",
        "  squares[x]=x**2\n",
        "print(squares)"
      ],
      "execution_count": null,
      "outputs": [
        {
          "output_type": "stream",
          "name": "stdout",
          "text": [
            "{0: 0, 1: 1, 2: 4, 3: 9, 4: 16, 5: 25}\n"
          ]
        }
      ]
    },
    {
      "cell_type": "code",
      "metadata": {
        "colab": {
          "base_uri": "https://localhost:8080/"
        },
        "id": "xYXRMntP3mky",
        "outputId": "1c0eafac-0377-4d73-f18e-9d897eb12a70"
      },
      "source": [
        "# python profram to find sum of all the elements in array\n",
        "arr=(1,4,6,8,9,10)\n",
        "\n",
        "max(arr)"
      ],
      "execution_count": null,
      "outputs": [
        {
          "output_type": "execute_result",
          "data": {
            "text/plain": [
              "10"
            ]
          },
          "metadata": {},
          "execution_count": 1
        }
      ]
    },
    {
      "cell_type": "code",
      "metadata": {
        "colab": {
          "base_uri": "https://localhost:8080/"
        },
        "id": "AW-jR5vWuTZM",
        "outputId": "7697d2e4-00b4-42f0-89cf-121c2805478d"
      },
      "source": [
        "# python program to find the maximum of the two numbers\n",
        "def max(a,b):\n",
        "  if a>b:\n",
        "    greater=a\n",
        "  else:\n",
        "    greater=b\n",
        "  return greater\n",
        "\n",
        "max(2,8)\n",
        "\n",
        "  "
      ],
      "execution_count": null,
      "outputs": [
        {
          "output_type": "execute_result",
          "data": {
            "text/plain": [
              "8"
            ]
          },
          "metadata": {},
          "execution_count": 3
        }
      ]
    },
    {
      "cell_type": "code",
      "metadata": {
        "colab": {
          "base_uri": "https://localhost:8080/"
        },
        "id": "HoiOKYwtvRcO",
        "outputId": "c1381e20-cdd2-48ec-b85f-250d323cb931"
      },
      "source": [
        "# program for the array Rotation\n",
        "def rotate_array(length,shift_size):\n",
        "    array=[]\n",
        "    i=0\n",
        "    \n",
        "\n",
        "    while i<=length:\n",
        "      array.append(i)\n",
        "      i+=1\n",
        "    print(array)\n",
        "    \n",
        "    j=0\n",
        "    while j<=length:\n",
        "      array[j]=array[j]+shift_size\n",
        "      j+=1\n",
        "    return array\n",
        "\n",
        "rotate_array(10,2)\n",
        "\n"
      ],
      "execution_count": null,
      "outputs": [
        {
          "output_type": "stream",
          "name": "stdout",
          "text": [
            "[0, 1, 2, 3, 4, 5, 6, 7, 8, 9, 10]\n"
          ]
        },
        {
          "output_type": "execute_result",
          "data": {
            "text/plain": [
              "[2, 3, 4, 5, 6, 7, 8, 9, 10, 11, 12]"
            ]
          },
          "metadata": {},
          "execution_count": 17
        }
      ]
    },
    {
      "cell_type": "code",
      "source": [
        "#code\n",
        "T=input()\n",
        "\n",
        "N=int(input())\n",
        "\n",
        "A=input()\n",
        "\n",
        "print(A[1])"
      ],
      "metadata": {
        "colab": {
          "base_uri": "https://localhost:8080/"
        },
        "id": "z2X7nQ7c5wZA",
        "outputId": "209edf54-37d2-47ca-f140-7dd95f041d27"
      },
      "execution_count": null,
      "outputs": [
        {
          "output_type": "stream",
          "name": "stdout",
          "text": [
            "1\n",
            "4\n",
            "1 2 3 4\n",
            " \n"
          ]
        }
      ]
    },
    {
      "cell_type": "code",
      "source": [
        "def reverseList(A, start, end):\n",
        "    if start >= end:\n",
        "        return\n",
        "    A[start], A[end] = A[end], A[start]\n",
        "    reverseList(A, start+1, end-1)\n",
        " \n",
        "# Driver function to test above function\n",
        "A = [1, 2, 3, 4, 5, 6]\n",
        "print(A)\n",
        "reverseList(A, 0, 5)\n",
        "print(\"Reversed list is\")\n",
        "print(A)\n",
        "# This program is contributed by Pratik Chhajer"
      ],
      "metadata": {
        "id": "Lry6rdM7cuUM",
        "outputId": "d2905579-f462-4417-eba8-6be3218cb039",
        "colab": {
          "base_uri": "https://localhost:8080/"
        }
      },
      "execution_count": null,
      "outputs": [
        {
          "output_type": "stream",
          "name": "stdout",
          "text": [
            "[1, 2, 3, 4, 5, 6]\n",
            "Reversed list is\n",
            "[6, 5, 4, 3, 2, 1]\n"
          ]
        }
      ]
    },
    {
      "cell_type": "code",
      "source": [
        "# infytq\n",
        "number=input(\"Enter the number\\n\")\n",
        "otp=\"\"\n",
        "for i in range(0,len(number)-1):\n",
        "  if i%2!=0:\n",
        "    otp=otp+str(int(number[i])**2)\n",
        "print(otp[0:4])"
      ],
      "metadata": {
        "colab": {
          "base_uri": "https://localhost:8080/"
        },
        "id": "VQApgvYDGYaO",
        "outputId": "29de0e1f-318c-477b-a572-23a485537265"
      },
      "execution_count": null,
      "outputs": [
        {
          "output_type": "stream",
          "name": "stdout",
          "text": [
            "Enter the number\n",
            "7564168\n",
            "2516\n"
          ]
        }
      ]
    },
    {
      "cell_type": "code",
      "source": [
        "# infy tq problem\n",
        "string=input(\"Enter the string\\n\")\n",
        "newstr=string.split(\":\")\n",
        "print(newstr)\n",
        "name=newstr[0]\n",
        "key=newstr[1]\n",
        "print(type(key))\n",
        "sss=\"\"\n",
        "strrr=\"\"\n",
        "for i in key:\n",
        "  if int(i)<=len(name):\n",
        "    sss=sss+i\n",
        "\n",
        "maximum=int(max(sss))\n",
        "strrr=strrr+name[maximum]\n",
        "print(strrr)"
      ],
      "metadata": {
        "colab": {
          "base_uri": "https://localhost:8080/"
        },
        "id": "bD3t3FVgGpnp",
        "outputId": "477d4330-92c6-4ca8-bbc4-9d464b0203d5"
      },
      "execution_count": null,
      "outputs": [
        {
          "output_type": "stream",
          "name": "stdout",
          "text": [
            "Enter the string\n",
            "mayur:3729\n",
            "['mayur', '3729']\n",
            "<class 'str'>\n",
            "xxu\n"
          ]
        }
      ]
    },
    {
      "cell_type": "code",
      "source": [
        "# Programmiz problems'\n",
        "# Program to print Hello world\n",
        "print(\"Hello world!\")\n",
        "# Program to add two numbers\n",
        "a=2\n",
        "b=5.9\n",
        "c=a+b\n",
        "print(\"the sum is\",c)\n",
        "\n",
        "\n"
      ],
      "metadata": {
        "colab": {
          "base_uri": "https://localhost:8080/"
        },
        "id": "GbkOztHxaJQg",
        "outputId": "2a2ceaf6-90a7-43f2-dfcc-49269cf6dd85"
      },
      "execution_count": null,
      "outputs": [
        {
          "output_type": "stream",
          "name": "stdout",
          "text": [
            "Hello world!\n",
            "the sum is 7.9\n"
          ]
        }
      ]
    },
    {
      "cell_type": "code",
      "source": [
        "# Program to find squareroot of the number\n",
        "import math\n",
        "a=int(input(\"Enter the number\"))\n",
        "squareroot=math.sqrt(a)\n",
        "print(\"The squareroot is \",squareroot)\n",
        "\n"
      ],
      "metadata": {
        "colab": {
          "base_uri": "https://localhost:8080/"
        },
        "id": "9MpuvMtYW4HJ",
        "outputId": "9c6723ad-15bf-486a-c841-6df25f83a73d"
      },
      "execution_count": null,
      "outputs": [
        {
          "output_type": "stream",
          "name": "stdout",
          "text": [
            "Enter the number16\n",
            "The squareroot is  4.0\n"
          ]
        }
      ]
    },
    {
      "cell_type": "code",
      "source": [
        "# Program to find the area of the triangle \n",
        "import math\n",
        "a=float(input(\"Enter the side 1 length\\n\"))\n",
        "b=float(input(\"Enter the side 2 length\\n\"))\n",
        "c=float(input(\"Enter the side 3 length\\n\"))\n",
        "\n",
        "s=(a+b+c)/2\n",
        "area=(s*(s-a)*(s-b)*(s-c))**0.5\n",
        "print(\"The area of the triangle is :\\n\",area)\n"
      ],
      "metadata": {
        "colab": {
          "base_uri": "https://localhost:8080/"
        },
        "id": "fu06HGJeXf8u",
        "outputId": "f52ca387-46b7-429b-fb11-6b2613ec20ee"
      },
      "execution_count": null,
      "outputs": [
        {
          "output_type": "stream",
          "name": "stdout",
          "text": [
            "Enter the side 1 length\n",
            "23\n",
            "Enter the side 2 length\n",
            "45\n",
            "Enter the side 3 length\n",
            "67\n",
            "The area of the triangle is :\n",
            " 183.82651468164215\n"
          ]
        }
      ]
    },
    {
      "cell_type": "code",
      "source": [
        "# Python program to solve quadratic equations\n",
        "import math\n",
        "a=int(input(\"Enter the coefficient of x^2\"))\n",
        "b=int(input(\"Enter the coefficient of x\"))\n",
        "c=int(input(\"Enter the constant\"))\n",
        "D=int(b**2-(4*a*c))**0.5\n",
        "\n",
        "r1=(-(b)+D)/2*a\n",
        "r2=(-(b)-D)/2*a\n",
        "print(\"The roots of the given equation are \",r1,r2)\n",
        "\n"
      ],
      "metadata": {
        "colab": {
          "base_uri": "https://localhost:8080/"
        },
        "id": "W7JfavHbZS1C",
        "outputId": "750f3041-3751-45c0-f664-f7902ef6967f"
      },
      "execution_count": null,
      "outputs": [
        {
          "output_type": "stream",
          "name": "stdout",
          "text": [
            "Enter the coefficient of x^212\n",
            "Enter the coefficient of x16\n",
            "Enter the constant24\n",
            "The roots of the given equation are  (-95.99999999999999+179.5995545651492j) (-96.00000000000003-179.5995545651492j)\n"
          ]
        }
      ]
    },
    {
      "cell_type": "code",
      "source": [
        "# python program to swap two variables\n",
        "x=input(\"Enter the value of x\\n\")\n",
        "y=input(\"Enter the value of y\\n\")\n",
        "print(x,y)\n",
        "temp=x\n",
        "x=y\n",
        "y=temp\n",
        "print(x,y)"
      ],
      "metadata": {
        "colab": {
          "base_uri": "https://localhost:8080/"
        },
        "id": "ndveXEvRbyfx",
        "outputId": "72ed5236-fa4e-4e05-fc3e-f7908c343d1f"
      },
      "execution_count": null,
      "outputs": [
        {
          "output_type": "stream",
          "name": "stdout",
          "text": [
            "Enter the value of x\n",
            "2\n",
            "Enter the value of y\n",
            "3\n",
            "2 3\n",
            "3 2\n"
          ]
        }
      ]
    },
    {
      "cell_type": "code",
      "source": [
        "# Python program to generate the random integer \n",
        "import random\n",
        "print(random.random())"
      ],
      "metadata": {
        "colab": {
          "base_uri": "https://localhost:8080/"
        },
        "id": "SxZJ_UsKeVp-",
        "outputId": "aeac9e27-c191-4bd7-9edc-79b32f6cea5f"
      },
      "execution_count": null,
      "outputs": [
        {
          "output_type": "stream",
          "name": "stdout",
          "text": [
            "0.722836830264476\n"
          ]
        }
      ]
    },
    {
      "cell_type": "code",
      "source": [
        "# python programs to convert kilometeres to miles\n",
        "kilometers=float(input(\"Enter the values in kilometers \"))\n",
        "conv_fac=0.621371\n",
        "miles=kilometers*conv_fac\n",
        "print(\"The miles:\\n\",miles)"
      ],
      "metadata": {
        "colab": {
          "base_uri": "https://localhost:8080/"
        },
        "id": "lC89gdVFkfBY",
        "outputId": "a0c135ef-1b1e-41d2-ab5b-ea136e9d496a"
      },
      "execution_count": null,
      "outputs": [
        {
          "output_type": "stream",
          "name": "stdout",
          "text": [
            "Enter the values in kilometers 23\n",
            "The miles:\n",
            " 14.291533\n"
          ]
        }
      ]
    },
    {
      "cell_type": "code",
      "source": [
        "# python program to convert celcius into fahrenheit\n",
        "celcius=float(input(\"Enter the temperature in celsius\\n\"))\n",
        "fahrenhiet=celcius*1.8+32\n",
        "print(\" the temperature in the faharenhiet is\",fahrenhiet)\n"
      ],
      "metadata": {
        "colab": {
          "base_uri": "https://localhost:8080/"
        },
        "id": "ar3vkICnlliT",
        "outputId": "90908910-2888-4664-e114-340b780c10c7"
      },
      "execution_count": null,
      "outputs": [
        {
          "output_type": "stream",
          "name": "stdout",
          "text": [
            "Enter the temperature in celsius\n",
            "9\n",
            " the temperature in the faharenhiet is 48.2\n"
          ]
        }
      ]
    },
    {
      "cell_type": "code",
      "source": [
        "# python program to check whether is positive negative or zero\n",
        "number=int(input(\"Enter the number\\n \"))\n",
        "if(number==0):\n",
        "  print(\"The given number is 0\")\n",
        "elif(number>0):\n",
        "  print(\"The given number is positive\")\n",
        "elif(number<0):\n",
        "  print(\"The given number is Negative\")\n",
        "else:\n",
        "  print(\"Wrong input\")\n"
      ],
      "metadata": {
        "colab": {
          "base_uri": "https://localhost:8080/"
        },
        "id": "hudAQdeFnEQ9",
        "outputId": "2e7d7c31-18e9-4b75-c177-2c2a0c0557b3"
      },
      "execution_count": null,
      "outputs": [
        {
          "output_type": "stream",
          "name": "stdout",
          "text": [
            "Enter the number\n",
            " 0\n",
            "The given number is 0\n"
          ]
        }
      ]
    },
    {
      "cell_type": "code",
      "source": [
        "# Python program to check whether the number is even or odd\n",
        "number=int(input(\"Enter the number\\n \"))\n",
        "if(number%2==0):\n",
        "  print(\"The Number is even\")\n",
        "else:\n",
        "  print(\" the number is odd\")\n",
        "\n"
      ],
      "metadata": {
        "colab": {
          "base_uri": "https://localhost:8080/"
        },
        "id": "nHY0ov53oWuP",
        "outputId": "ed7d4b87-92ca-4330-e2b1-98b2b4fb9768"
      },
      "execution_count": null,
      "outputs": [
        {
          "output_type": "stream",
          "name": "stdout",
          "text": [
            "Enter the number\n",
            " 0\n",
            "The Number is even\n"
          ]
        }
      ]
    },
    {
      "cell_type": "code",
      "source": [
        "# Python program to check whether the year is leap year or not \n",
        "year=int(input(\"enter the year\\n\"))\n",
        "if(year%400==0):\n",
        "  print(\"leap year\")\n",
        "elif(year%4==0 and year%100!=0):\n",
        "  print(\"leap year\")\n",
        "else:\n",
        "  print(\"Not a leap year\")"
      ],
      "metadata": {
        "colab": {
          "base_uri": "https://localhost:8080/"
        },
        "id": "nKxYlP2TsCTS",
        "outputId": "bba173a5-c35f-4a5b-f893-335a04486ab8"
      },
      "execution_count": null,
      "outputs": [
        {
          "output_type": "stream",
          "name": "stdout",
          "text": [
            "enter the year\n",
            "2020\n",
            "leap year\n"
          ]
        }
      ]
    },
    {
      "cell_type": "code",
      "source": [
        "# Python program find the largest number among the three numbers\n",
        "a=int(input(\"Enter the number 1\"))\n",
        "b=int(input(\"Enter the number 2\"))\n",
        "c=int(input(\"Enter the number 3\"))\n",
        "if(a>b):\n",
        "  if(a>c):\n",
        "    print(a,\"is greater\")\n",
        "elif(b>c):\n",
        "  print(b,'is greater')\n",
        "else:\n",
        "  print(c,\" is greater\")"
      ],
      "metadata": {
        "colab": {
          "base_uri": "https://localhost:8080/"
        },
        "id": "0M2yTvZ3tP8B",
        "outputId": "ca6078e8-eba1-40e5-fe6c-fde142814688"
      },
      "execution_count": null,
      "outputs": [
        {
          "output_type": "stream",
          "name": "stdout",
          "text": [
            "Enter the number 123\n",
            "Enter the number 224\n",
            "Enter the number 325\n",
            "25  is greater\n"
          ]
        }
      ]
    },
    {
      "cell_type": "code",
      "source": [
        "# Python program to checkwhether the number is prime number or not\n",
        "num=int(input(\" Enter the number\"))\n",
        "flag=False\n",
        "\n",
        "if num>1:\n",
        "  for i in range(2,num):\n",
        "    if(num%i==0):\n",
        "      flag=True\n",
        "if flag:\n",
        "  print(num,\"is not a prime number\")\n",
        "else: \n",
        "  print(num,\"the number is prime number\")\n",
        "\n",
        "\n",
        "    \n",
        "       \n",
        "    \n",
        "\n",
        "\n"
      ],
      "metadata": {
        "colab": {
          "base_uri": "https://localhost:8080/"
        },
        "id": "9i1sPg_URz_j",
        "outputId": "4f7e1b13-9c3c-42bf-b070-9bab7462600b"
      },
      "execution_count": null,
      "outputs": [
        {
          "output_type": "stream",
          "name": "stdout",
          "text": [
            " Enter the number3\n",
            "3 the number is prime number\n"
          ]
        }
      ]
    },
    {
      "cell_type": "code",
      "source": [
        "# python program to print all prime numbers in a given interval\n",
        "lower=int(input(\"Enter the number\"))\n",
        "upper=int(input(\"Enter the number\"))\n",
        "print(\"all the numbers between\",lower,\"and\" , upper,\"are\")\n",
        "for num in range(lower,upper+1):\n",
        "  if num>1:\n",
        "    for i in range(2,num):\n",
        "      if (num %2)==0:\n",
        "        break\n",
        "    else:\n",
        "      print(num)\n",
        "              \n",
        "    \n",
        "   \n",
        "  \n",
        "\n",
        "  \n",
        "\n"
      ],
      "metadata": {
        "colab": {
          "base_uri": "https://localhost:8080/"
        },
        "id": "SFTVb2oIUlZD",
        "outputId": "391d143d-7bb7-46d8-b2fa-bab2224306d3"
      },
      "execution_count": null,
      "outputs": [
        {
          "output_type": "stream",
          "name": "stdout",
          "text": [
            "Enter the number23\n",
            "Enter the number34\n",
            "all the numbers between 34 and {23} are\n",
            "23\n",
            "25\n",
            "27\n",
            "29\n",
            "31\n",
            "33\n"
          ]
        }
      ]
    },
    {
      "cell_type": "code",
      "source": [
        "# Program to find factorial of the nuber\n",
        "import math\n",
        "num=int(input(\"Enter the number\"))\n",
        "print(math.factorial(num))"
      ],
      "metadata": {
        "colab": {
          "base_uri": "https://localhost:8080/"
        },
        "id": "oRtimjYyZGbS",
        "outputId": "4fc20518-3d12-439c-cc17-0915898fa300"
      },
      "execution_count": null,
      "outputs": [
        {
          "output_type": "stream",
          "name": "stdout",
          "text": [
            "Enter the number4\n",
            "24\n"
          ]
        }
      ]
    },
    {
      "cell_type": "code",
      "source": [
        "# program to display the multiplication table \n",
        "num=int(input(\"Enter the number\"))\n",
        "for i in range(1,10+1):\n",
        "  print(num,\"X\", i,\"=\",num*i)"
      ],
      "metadata": {
        "colab": {
          "base_uri": "https://localhost:8080/"
        },
        "id": "m_GOpGQNWwwE",
        "outputId": "00d6f35b-0b55-4133-fb5e-22140435b416"
      },
      "execution_count": null,
      "outputs": [
        {
          "output_type": "stream",
          "name": "stdout",
          "text": [
            "Enter the number7\n",
            "7 X 1 = 7\n",
            "7 X 2 = 14\n",
            "7 X 3 = 21\n",
            "7 X 4 = 28\n",
            "7 X 5 = 35\n",
            "7 X 6 = 42\n",
            "7 X 7 = 49\n",
            "7 X 8 = 56\n",
            "7 X 9 = 63\n",
            "7 X 10 = 70\n"
          ]
        }
      ]
    },
    {
      "cell_type": "code",
      "source": [
        "# Python program to print the fibonnaci sequence\n",
        "n=int(input(\"How many terms?\"))\n",
        "a=0\n",
        "b=1\n",
        "i=0\n",
        "if(n<0): \n",
        "  print(\"Enter the positive integer\")\n",
        "elif(n==1):\n",
        "  print(\"fibonnaci sequence upto\",n,\"is\")\n",
        "  print(a)\n",
        "else:\n",
        "  while(i<n):\n",
        "    print(a)   \n",
        "    c=a+b   \n",
        "    a=ba\n",
        "    b=c\n",
        "    i+=1\n",
        "\n",
        "\n",
        "\n",
        "  \n"
      ],
      "metadata": {
        "colab": {
          "base_uri": "https://localhost:8080/"
        },
        "id": "d_ueyZgctQ7J",
        "outputId": "ef5578db-c27e-45bf-8bc0-261f56ab838a"
      },
      "execution_count": null,
      "outputs": [
        {
          "output_type": "stream",
          "name": "stdout",
          "text": [
            "How many terms?7\n",
            "0\n",
            "1\n",
            "1\n",
            "2\n",
            "3\n",
            "5\n",
            "8\n"
          ]
        }
      ]
    },
    {
      "cell_type": "code",
      "source": [
        "# Python program to check whether the given number is armstrong number or not\n",
        "num=int(input(\"Enter the number\"))\n",
        "sum=0\n",
        "temp=num\n",
        "while(temp>0):\n",
        "  digit=temp%10\n",
        "  sum+=digit**3\n",
        "  temp//=10\n",
        "if(sum==num):\n",
        "  print(\"Armstrong number\")\n",
        "else:\n",
        "  print(\"Not an armstrong number\")\n"
      ],
      "metadata": {
        "id": "NoD6CNX5z7IU",
        "colab": {
          "base_uri": "https://localhost:8080/"
        },
        "outputId": "accfefbe-f8aa-4dfe-ac11-c5ff3351a406"
      },
      "execution_count": null,
      "outputs": [
        {
          "output_type": "stream",
          "name": "stdout",
          "text": [
            "Enter the number456\n",
            "Not an armstrong number\n"
          ]
        }
      ]
    },
    {
      "cell_type": "code",
      "source": [
        "# Python program to print all armstrong numbers in an interval\n",
        "lower=int(input(\"Enter the lower limit\"))\n",
        "upper=int(input(\"Enter the upper limit\"))\n",
        "\n",
        "\n",
        "for num in range(lower,upper+1):\n",
        "  order=len(str(num))\n",
        "  sum=0\n",
        "  \n",
        "  temp=num\n",
        "  while(temp>0):\n",
        "    digit=temp%10\n",
        "    sum+=digit**order\n",
        "    temp//=10\n",
        "  \n",
        "  if(num==sum):\n",
        "    print(num)\n",
        "    \n",
        "\n",
        "  \n",
        "\n",
        "\n",
        "\n",
        "\n"
      ],
      "metadata": {
        "colab": {
          "base_uri": "https://localhost:8080/"
        },
        "id": "s7ztexDXMekf",
        "outputId": "c80f25ad-465f-4ece-d280-278d8d606509"
      },
      "execution_count": null,
      "outputs": [
        {
          "output_type": "stream",
          "name": "stdout",
          "text": [
            "Enter the lower limit100\n",
            "Enter the upper limit2000\n",
            "153\n",
            "370\n",
            "371\n",
            "407\n",
            "1634\n"
          ]
        }
      ]
    },
    {
      "cell_type": "code",
      "source": [
        "# program to print n natural numbers \n",
        "n=int(input(\"specify the number of elements to be printed\"))\n",
        "for number in range(0,n):\n",
        "  print(number)\n",
        "\n"
      ],
      "metadata": {
        "colab": {
          "base_uri": "https://localhost:8080/"
        },
        "id": "eLtwHmEKPs0k",
        "outputId": "6169db36-776e-4b52-f53e-79f8e059f025"
      },
      "execution_count": null,
      "outputs": [
        {
          "output_type": "stream",
          "name": "stdout",
          "text": [
            "specify the number of elements to be printed8\n",
            "0\n",
            "1\n",
            "2\n",
            "3\n",
            "4\n",
            "5\n",
            "6\n",
            "7\n"
          ]
        }
      ]
    },
    {
      "cell_type": "code",
      "source": [
        "# Python program to print the sum of n natural numbers\n",
        "n=int(input(\"Enter the number\"))\n",
        "sum=0\n",
        "for number in range(0,n+1):\n",
        "  sum=sum+number\n",
        "  number=number+1\n",
        "print(\"the sum of \",n,\"natural numbers is:\",sum)"
      ],
      "metadata": {
        "colab": {
          "base_uri": "https://localhost:8080/"
        },
        "id": "yvql4IScQw9E",
        "outputId": "c8e98e81-5258-4ba3-8c0a-93bb9c0701f1"
      },
      "execution_count": null,
      "outputs": [
        {
          "output_type": "stream",
          "name": "stdout",
          "text": [
            "Enter the number16\n",
            "the sum of  16 natural numbers is: 136\n"
          ]
        }
      ]
    },
    {
      "cell_type": "code",
      "source": [
        "# Display the power of 2 using ananymous function\n",
        "terms=int(input(\"How many terms?\"))\n",
        "result=list(map(lambda x:2**x,range(terms)))\n",
        "for i in range(terms):\n",
        "  print(\"2 raised to power \",i,\"is:\",result[i])\n"
      ],
      "metadata": {
        "colab": {
          "base_uri": "https://localhost:8080/"
        },
        "id": "VtvsjkWUUVap",
        "outputId": "5ea9a577-461b-4925-86e1-fc4f275782c0"
      },
      "execution_count": null,
      "outputs": [
        {
          "output_type": "stream",
          "name": "stdout",
          "text": [
            "How many terms?10\n",
            "2 raised to power  0 is: 1\n",
            "2 raised to power  1 is: 2\n",
            "2 raised to power  2 is: 4\n",
            "2 raised to power  3 is: 8\n",
            "2 raised to power  4 is: 16\n",
            "2 raised to power  5 is: 32\n",
            "2 raised to power  6 is: 64\n",
            "2 raised to power  7 is: 128\n",
            "2 raised to power  8 is: 256\n",
            "2 raised to power  9 is: 512\n"
          ]
        }
      ]
    },
    {
      "cell_type": "code",
      "source": [
        "# python program to print output without the newline\n",
        "print(\"python is \",end=\"\")\n",
        "print(\"Easy to learn\")\n",
        "\n"
      ],
      "metadata": {
        "colab": {
          "base_uri": "https://localhost:8080/"
        },
        "id": "DbDaV10TWiQX",
        "outputId": "e90bc2c0-3057-4155-e104-1c12e55e9406"
      },
      "execution_count": null,
      "outputs": [
        {
          "output_type": "stream",
          "name": "stdout",
          "text": [
            "python is Easy to learn\n"
          ]
        }
      ]
    },
    {
      "cell_type": "markdown",
      "source": [
        "  0 1 2 3 4\n",
        "0 *\n",
        "1 * * \n",
        "2 * * *\n",
        "3 * * * *\n",
        "4 * * * * *\n",
        "\n"
      ],
      "metadata": {
        "id": "aSHtwGS9iiri"
      }
    },
    {
      "cell_type": "code",
      "source": [
        "# python program to print pyramid pattern\n",
        "rows=int(input(\"Enter the number of rows\"))\n",
        "columns=int(input(\"Enter the number of columns\"))\n",
        "for i in range(1,rows):\n",
        "  for j in range(1,i+1):\n",
        "    print(\"*\",end=\"\")\n",
        "  print(\"\\n5\")"
      ],
      "metadata": {
        "colab": {
          "base_uri": "https://localhost:8080/"
        },
        "id": "bNtZGAmNfl-f",
        "outputId": "c5f1c7d5-8f22-461f-92c8-261323a371d5"
      },
      "execution_count": null,
      "outputs": [
        {
          "output_type": "stream",
          "name": "stdout",
          "text": [
            "Enter the number of rows5\n",
            "Enter the number of columns5\n",
            "*\n",
            "\n",
            "**\n",
            "\n",
            "***\n",
            "\n",
            "****\n",
            "\n"
          ]
        }
      ]
    },
    {
      "cell_type": "code",
      "source": [
        "# 2)\n",
        "row=int(input(\"enter the number of rows\"))\n",
        "column=int(input(\"enter the number of columns\"))\n",
        "for i in range(row):\n",
        "  for j in range(i+1):\n",
        "    print(j+1,end=\" \n",
        "    \")\n",
        "  print(\"\\n\")"
      ],
      "metadata": {
        "colab": {
          "base_uri": "https://localhost:8080/"
        },
        "id": "4qXZEns5fpbf",
        "outputId": "1702025a-bda4-43c4-c873-4c8beca56006"
      },
      "execution_count": null,
      "outputs": [
        {
          "output_type": "stream",
          "name": "stdout",
          "text": [
            "enter the number of rows5\n",
            "enter the number of columns5\n",
            "1 \n",
            "\n",
            "1 2 \n",
            "\n",
            "1 2 3 \n",
            "\n",
            "1 2 3 4 \n",
            "\n",
            "1 2 3 4 5 \n",
            "\n"
          ]
        }
      ]
    },
    {
      "cell_type": "code",
      "source": [
        "# program to iterate over a dictionary and print key value pair\n",
        "dt={\"a\":\"apple\",\"b\":\"ball\",\"c\":\"cat\",\"d\":\"dog\"}\n",
        "for key,value in dt.items():\n",
        "  print(key,value)\n"
      ],
      "metadata": {
        "colab": {
          "base_uri": "https://localhost:8080/"
        },
        "id": "k5BaU6-IpGGr",
        "outputId": "a67b77f1-d0f1-4e26-f080-5cb514b94906"
      },
      "execution_count": null,
      "outputs": [
        {
          "output_type": "stream",
          "name": "stdout",
          "text": [
            "a apple\n",
            "b ball\n",
            "c cat\n",
            "d dog\n"
          ]
        }
      ]
    },
    {
      "cell_type": "code",
      "source": [
        "# python program to reverse a number\n",
        "num=int(input(\"enter the number\"))\n",
        "number=str(num)\n",
        "print(number[::-1])\n"
      ],
      "metadata": {
        "colab": {
          "base_uri": "https://localhost:8080/"
        },
        "id": "t72V2UMPpr9Q",
        "outputId": "88ddacf0-8586-4e9b-c7d5-3846031e6037"
      },
      "execution_count": null,
      "outputs": [
        {
          "output_type": "stream",
          "name": "stdout",
          "text": [
            "enter the number1234\n",
            "4321\n"
          ]
        }
      ]
    },
    {
      "cell_type": "code",
      "source": [
        "# python program to claculate the power of the number\n",
        "base=int(input(\"Enter the base\"))\n",
        "exponent=int(input(\"Enter the exponent\"))\n",
        "power=pow(base,exponent)\n",
        "print(power)"
      ],
      "metadata": {
        "colab": {
          "base_uri": "https://localhost:8080/"
        },
        "id": "TYdbuuReyhvg",
        "outputId": "ad4ffdb3-8c65-4ad5-ccce-6285d6d411cd"
      },
      "execution_count": null,
      "outputs": [
        {
          "output_type": "stream",
          "name": "stdout",
          "text": [
            "Enter the base2\n",
            "Enter the exponent3\n",
            "8\n"
          ]
        }
      ]
    },
    {
      "cell_type": "code",
      "source": [
        "# pyton program to check whether the string is palindrome or not\n",
        "string=str(input(\"Enter the string\"))\n",
        "reverse_string=string[::-1]\n",
        "if(string==reverse_string):\n",
        "  print(string,\" is palindrome\")\n",
        "else:\n",
        "  print(string,\" is not a palindrome\")"
      ],
      "metadata": {
        "colab": {
          "base_uri": "https://localhost:8080/"
        },
        "id": "vyMQnBx01T4n",
        "outputId": "27f9ed61-f6a3-4b8c-c9b8-b446579ed0e9"
      },
      "execution_count": null,
      "outputs": [
        {
          "output_type": "stream",
          "name": "stdout",
          "text": [
            "Enter the stringdad\n",
            "dad  is palindrome\n"
          ]
        }
      ]
    },
    {
      "cell_type": "code",
      "source": [
        "# python program to remove the puntuation from string\n",
        "string=str(input(\"Enter the string\"))\n",
        "punctuations=''':\"'?%#@,'''\n",
        "not_punc=\"\"\n",
        "for char in string:\n",
        "  if char not in punctuations:\n",
        "    not_punc=not_punc+char\n",
        "print(not_punc)\n",
        "  \n"
      ],
      "metadata": {
        "colab": {
          "base_uri": "https://localhost:8080/"
        },
        "id": "QKMyaJ--2H1l",
        "outputId": "d1576389-1437-4957-a0c8-b5d1077ff525"
      },
      "execution_count": null,
      "outputs": [
        {
          "output_type": "stream",
          "name": "stdout",
          "text": [
            "Enter the stringa,b,\"c\"@\"d\",\n",
            "abcd\n"
          ]
        }
      ]
    },
    {
      "cell_type": "code",
      "source": [
        "# Python programs to sort the words in alphbetical order\n",
        "word=str(input(\"Enter the word\"))\n",
        "temp=[]\n",
        "temp.append(word.split())\n",
        "print(temp)\n",
        "words=temp\n",
        "words.sort()\n",
        "print(words)\n",
        "\n",
        "\n"
      ],
      "metadata": {
        "colab": {
          "base_uri": "https://localhost:8080/"
        },
        "id": "qz6cbFrk1erT",
        "outputId": "c0f6b67f-9eb8-499f-c40f-351a8b917625"
      },
      "execution_count": null,
      "outputs": [
        {
          "output_type": "stream",
          "name": "stdout",
          "text": [
            "Enter the wordsarvadnya sanjay rajurkar\n",
            "[['sarvadnya', 'sanjay', 'rajurkar']]\n",
            "[['sarvadnya', 'sanjay', 'rajurkar']]\n"
          ]
        }
      ]
    },
    {
      "cell_type": "code",
      "source": [
        "set1=set()\n",
        "for i in range(0,9):\n",
        "  set1.add(i)\n",
        "set2=set()\n",
        "for j in range(14,2,24):\n",
        "  set2.add(j)\n",
        "# Intersection of two sets\n",
        "print(\"The intersection of two sets is:\",set1&set2)\n",
        "# union of the two sets \n",
        "print(\"The union of the two sets is:\",set1|set2)\n",
        "# Difference of two sets\n",
        "print(\"The difference of two sets is:\",set1-set2)\n",
        "# Symmetric difference of two sets is\n",
        "print(\"Symmetric difference of two sets is\",set1^set2)\n"
      ],
      "metadata": {
        "colab": {
          "base_uri": "https://localhost:8080/"
        },
        "id": "T2MKl3Ol9uCC",
        "outputId": "75db92a9-db54-4d53-e334-9790d3eb71cc"
      },
      "execution_count": null,
      "outputs": [
        {
          "output_type": "stream",
          "name": "stdout",
          "text": [
            "The intersection of two sets is: set()\n",
            "The union of the two sets is: {0, 1, 2, 3, 4, 5, 6, 7, 8}\n",
            "The difference of two sets is: {0, 1, 2, 3, 4, 5, 6, 7, 8}\n",
            "Symmetric difference of two sets is {0, 1, 2, 3, 4, 5, 6, 7, 8}\n"
          ]
        }
      ]
    },
    {
      "cell_type": "code",
      "source": [
        "# Python program to count number of each vowel in a string\n",
        "string=str(input(\"Enter the string\"))\n",
        "counta=0\n",
        "counte=0\n",
        "counti=0\n",
        "counto=0\n",
        "countu=0\n",
        "for i in string:\n",
        "  if(i==\"a\")or(i==\"A\"):\n",
        "    counta+=1\n",
        "  elif((i==\"e\")or(i==\"E\")):\n",
        "    counte+=1\n",
        "  elif((i==\"o\"))or(i==\"O\"):\n",
        "    counto+=1\n",
        "  elif((i==\"i\"))or(i==\"I\"):\n",
        "    counti+=1\n",
        "  elif((i==\"u\"))or(i==\"U\"):\n",
        "    countu+=1\n",
        "print(\"number of a\",counta)\n",
        "print(\"number of e\",counte)\n",
        "print(\"number of i\",counti)\n",
        "print(\"number of o\",counto)\n",
        "print(\"number of u\",countu)\n",
        "\n",
        "\n",
        "  "
      ],
      "metadata": {
        "colab": {
          "base_uri": "https://localhost:8080/"
        },
        "id": "LSD1COaaAHVr",
        "outputId": "8104b946-2972-4e6b-f055-aa3b67cc437f"
      },
      "execution_count": null,
      "outputs": [
        {
          "output_type": "stream",
          "name": "stdout",
          "text": [
            "Enter the stringsarvadnya sanjay Rajurkar\n",
            "number of a 7\n",
            "number of e 0\n",
            "number of i 0\n",
            "number of o 0\n",
            "number of u 1\n"
          ]
        }
      ]
    },
    {
      "cell_type": "code",
      "source": [
        "# python program to combine two dictionaries\n",
        "dict1={'a':\"apple\",'b':\"ball\",'c':\"cat\"}\n",
        "dict2={\"d\":\"doll\",'e':\"elephant\",\"f\":\"frog\"}\n",
        "print({**dict1,**dict2})"
      ],
      "metadata": {
        "colab": {
          "base_uri": "https://localhost:8080/"
        },
        "id": "UW7Vk2W3VUOf",
        "outputId": "bd2f01f7-7868-4080-d8af-148a2043b9bf"
      },
      "execution_count": null,
      "outputs": [
        {
          "output_type": "stream",
          "name": "stdout",
          "text": [
            "{'a': 'apple', 'b': 'ball', 'c': 'cat', 'd': 'doll', 'e': 'elephant', 'f': 'frog'}\n"
          ]
        }
      ]
    },
    {
      "cell_type": "code",
      "source": [
        "#  indexing of list using the for loop\n",
        "my_list=[34,45,56,67,89]\n",
        "for index,value in enumerate(my_list):\n",
        "  print(index,value)\n"
      ],
      "metadata": {
        "colab": {
          "base_uri": "https://localhost:8080/"
        },
        "id": "8pXpIhqtXCZ3",
        "outputId": "157b38c0-1497-4d64-f415-65fedee3ecf6"
      },
      "execution_count": null,
      "outputs": [
        {
          "output_type": "stream",
          "name": "stdout",
          "text": [
            "0 34\n",
            "1 45\n",
            "2 56\n",
            "3 67\n",
            "4 89\n"
          ]
        }
      ]
    },
    {
      "cell_type": "code",
      "source": [
        "# python program to flatten the nested list\n",
        "my_list=[[1,2],[\"a\",\"b\",\"C\"],[\"%\",\"#\",\"^^\"]]\n",
        "flat_list=[]\n",
        "for sublist in my_list:\n",
        "  for element in sublist:\n",
        "    flat_list.append(element)\n",
        "print(flat_list)\n",
        "\n",
        "\n",
        "\n"
      ],
      "metadata": {
        "colab": {
          "base_uri": "https://localhost:8080/"
        },
        "id": "kQExh2jYX3C9",
        "outputId": "3dbf85e1-33f7-4ef4-dc50-86eed7a337af"
      },
      "execution_count": null,
      "outputs": [
        {
          "output_type": "stream",
          "name": "stdout",
          "text": [
            "[1, 2, 'a', 'b', 'C', '%', '#', '^^']\n"
          ]
        }
      ]
    },
    {
      "cell_type": "code",
      "source": [
        "#  python program to sort the dictionary by value\n",
        "dict={2:\"a\",3:\"b\",4:\"c\"}\n",
        "my_list=sorted(dt.values())\n",
        "for i in my_list:\n",
        "  print(i)"
      ],
      "metadata": {
        "colab": {
          "base_uri": "https://localhost:8080/"
        },
        "id": "cSjomd6Echtz",
        "outputId": "0f32f59d-ae30-459b-f22c-651d70cc40e2"
      },
      "execution_count": null,
      "outputs": [
        {
          "output_type": "stream",
          "name": "stdout",
          "text": [
            "apple\n",
            "ball\n",
            "cat\n",
            "dog\n"
          ]
        }
      ]
    },
    {
      "cell_type": "code",
      "source": [
        "# code to check whether the list is empty or not\n",
        "my_list=[]\n",
        "if not my_list:\n",
        "  print(\"list is empty\")"
      ],
      "metadata": {
        "colab": {
          "base_uri": "https://localhost:8080/"
        },
        "id": "mNNuVv7Xd96l",
        "outputId": "6b712a3f-6c3a-4cbd-b7b9-be25eb4e3169"
      },
      "execution_count": null,
      "outputs": [
        {
          "output_type": "stream",
          "name": "stdout",
          "text": [
            "list is empty\n"
          ]
        }
      ]
    },
    {
      "cell_type": "code",
      "source": [
        "# Program to concatinate two lists\n",
        "list1=[\"a\",\"b\",\"C\",\"d\"]\n",
        "list2=[\"1\",\"2\",\"3\",\"4\"]\n",
        "print(list1+list2)\n"
      ],
      "metadata": {
        "colab": {
          "base_uri": "https://localhost:8080/"
        },
        "id": "hnfqwAgBeYvZ",
        "outputId": "76662a36-3cb0-4321-a5c9-35c27185c235"
      },
      "execution_count": null,
      "outputs": [
        {
          "output_type": "stream",
          "name": "stdout",
          "text": [
            "['a', 'b', 'C', 'd', '1', '2', '3', '4']\n"
          ]
        }
      ]
    },
    {
      "cell_type": "code",
      "source": [
        "# python program to check whether the key is present in the dictionary\n",
        "dict={\"a\": \"apple\",\"b\":\"ball\",\"c\":\"cat\",\"D\":\"Dog\",\"e\":\"elephant\"}\n",
        "if \"f\" in dict:\n",
        "  print(\"Presernt in the dict\")\n",
        "else:\n",
        "  print(\"Not present in the dictionary\")"
      ],
      "metadata": {
        "colab": {
          "base_uri": "https://localhost:8080/"
        },
        "id": "LT2AdlvXwdC0",
        "outputId": "752e13c9-5ae6-4b34-a7cb-333bd2691194"
      },
      "execution_count": null,
      "outputs": [
        {
          "output_type": "stream",
          "name": "stdout",
          "text": [
            "Not present in the dictionary\n"
          ]
        }
      ]
    },
    {
      "cell_type": "code",
      "source": [
        "# Python program to print the colored text to the terminal\n",
        "import termcolor\n",
        "My_text=str(input(\"Enter The Text\"))\n",
        "print(termcolor.colored(My_text,\"yellow\"))"
      ],
      "metadata": {
        "colab": {
          "base_uri": "https://localhost:8080/"
        },
        "id": "LZ2RKGB-xr4g",
        "outputId": "b8f763dd-94fb-4b2c-e205-62e3bd61d4d9"
      },
      "execution_count": null,
      "outputs": [
        {
          "output_type": "stream",
          "name": "stdout",
          "text": [
            "Enter The Text\" I Love python\"\n",
            "\u001b[33m\" I Love python\"\u001b[0m\n"
          ]
        }
      ]
    },
    {
      "cell_type": "code",
      "source": [
        "# Python program to print the last element of the list\n",
        "my_list=[]\n",
        "for i in range(0,10):\n",
        "  my_list.append(i)\n",
        "print(my_list)\n",
        "print(my_list[-1])\n"
      ],
      "metadata": {
        "id": "s3uc0pWwyJBR",
        "colab": {
          "base_uri": "https://localhost:8080/"
        },
        "outputId": "fad69c52-f898-4bea-c18f-28857be2c0b2"
      },
      "execution_count": null,
      "outputs": [
        {
          "output_type": "stream",
          "name": "stdout",
          "text": [
            "[0, 1, 2, 3, 4, 5, 6, 7, 8, 9]\n",
            "9\n"
          ]
        }
      ]
    },
    {
      "cell_type": "code",
      "source": [
        "# Python program to get thesubstring from a input string\n",
        "string=str(input(\"Enter the string\"))\n",
        "print(len(string))\n",
        "print(string[2:])"
      ],
      "metadata": {
        "colab": {
          "base_uri": "https://localhost:8080/"
        },
        "id": "wRlzS4b_5_88",
        "outputId": "c3b7bee8-07b6-4225-a2d0-1d841b4d9634"
      },
      "execution_count": null,
      "outputs": [
        {
          "output_type": "stream",
          "name": "stdout",
          "text": [
            "Enter the stringI LOVE PYTHON\n",
            "13\n",
            "LOVE PYTHON\n"
          ]
        }
      ]
    },
    {
      "cell_type": "code",
      "source": [
        "# Python program to randomly select an element from the list\n",
        "import random\n",
        "my_list=[]\n",
        "for i in range(1,9):\n",
        "  my_list.append(i)\n",
        "\n",
        "print(my_list)\n",
        "print(random.choice(my_list))\n"
      ],
      "metadata": {
        "colab": {
          "base_uri": "https://localhost:8080/"
        },
        "id": "SO25lF087cMu",
        "outputId": "d15404b4-f46b-44d3-e119-35976d242323"
      },
      "execution_count": null,
      "outputs": [
        {
          "output_type": "stream",
          "name": "stdout",
          "text": [
            "[1, 2, 3, 4, 5, 6, 7, 8]\n",
            "7\n"
          ]
        }
      ]
    },
    {
      "cell_type": "code",
      "source": [
        "# python function to check whether the sgtring is float\n",
        "def check_float(num):\n",
        "  try:\n",
        "    float(num)\n",
        "    return True\n",
        "  except ValueError:\n",
        "    return False\n",
        "print(check_float(\"2.56\"))\n",
        "print(check_float(\"6.ad\"))"
      ],
      "metadata": {
        "colab": {
          "base_uri": "https://localhost:8080/"
        },
        "id": "ZUnth-4U8gpk",
        "outputId": "eaa06a12-8497-408b-8260-e7817bcd3e83"
      },
      "execution_count": null,
      "outputs": [
        {
          "output_type": "stream",
          "name": "stdout",
          "text": [
            "True\n",
            "False\n"
          ]
        }
      ]
    },
    {
      "cell_type": "code",
      "source": [
        "# Python Program to print number of ocurrences of an item in the list\n",
        "my_list=[\"a\",\"b\",1,2,3,\"$\",\"#\",2,8,9,\"-\"]\n",
        "print(my_list.count(\"a\"))\n",
        "print(my_list.count(2))\n"
      ],
      "metadata": {
        "id": "vY8DkHcA_vOc",
        "colab": {
          "base_uri": "https://localhost:8080/"
        },
        "outputId": "4382f797-91c2-4c3f-c513-bc2a9382b6d3"
      },
      "execution_count": null,
      "outputs": [
        {
          "output_type": "stream",
          "name": "stdout",
          "text": [
            "1\n",
            "2\n"
          ]
        }
      ]
    },
    {
      "cell_type": "code",
      "source": [
        "# Python Program to delete an element from the dictionary\n",
        "dict1={\"a\":1,\"b\":2,\"c\":3,\"d\":4}\n",
        "dict1.pop(\"a\")\n",
        "print(dict1)\n",
        "\n"
      ],
      "metadata": {
        "colab": {
          "base_uri": "https://localhost:8080/"
        },
        "id": "GalJewjCCVdE",
        "outputId": "ff1c9b47-8474-46ca-e0fb-05227c211511"
      },
      "execution_count": null,
      "outputs": [
        {
          "output_type": "stream",
          "name": "stdout",
          "text": [
            "{'b': 2, 'c': 3, 'd': 4}\n"
          ]
        }
      ]
    },
    {
      "cell_type": "code",
      "source": [
        "# Python program to create a long multiline string\n",
        "string=\"\"\" My name is sarvadnya sanjay rajurkar , I am proficient in java, python , c++, C and have basic knowledge of mysql and database design \"\"\"\n",
        "print(string)"
      ],
      "metadata": {
        "colab": {
          "base_uri": "https://localhost:8080/"
        },
        "id": "FLto4_7UE9ds",
        "outputId": "a015971e-fe89-4d38-f72e-1f22abd62a7e"
      },
      "execution_count": null,
      "outputs": [
        {
          "output_type": "stream",
          "name": "stdout",
          "text": [
            " My name is sarvadnya sanjay rajurkar , I am proficient in java, python , c++, C and have basic knowledge of mysql and database design \n"
          ]
        }
      ]
    },
    {
      "cell_type": "code",
      "source": [
        "# Python program to convert two lists into dictionary\n",
        "list1=['a','b','c','d']\n",
        "list2=[1,2,3,4]\n",
        "dict1=dict(zip(list1,list2))\n",
        "print(dict1)"
      ],
      "metadata": {
        "colab": {
          "base_uri": "https://localhost:8080/"
        },
        "id": "sTob9EzJGEa0",
        "outputId": "b70824eb-025f-4b8e-c66f-8d150f295c77"
      },
      "execution_count": null,
      "outputs": [
        {
          "output_type": "stream",
          "name": "stdout",
          "text": [
            "{'a': 1, 'b': 2, 'c': 3, 'd': 4}\n"
          ]
        }
      ]
    },
    {
      "cell_type": "code",
      "source": [
        "# python program to trim the whitespace from the string\n",
        "string=str(input(\"My String \"))\n",
        "new_string=\"\"\n",
        "for i in string:\n",
        "  if(i==\" \"):\n",
        "    continue\n",
        "  else:\n",
        "    new_string=new_string+i\n",
        "print(new_string)"
      ],
      "metadata": {
        "colab": {
          "base_uri": "https://localhost:8080/"
        },
        "id": "NBZJKK9zHMNQ",
        "outputId": "9c9757cb-b03d-4a46-edad-0c52706378e8"
      },
      "execution_count": null,
      "outputs": [
        {
          "output_type": "stream",
          "name": "stdout",
          "text": [
            "My String I Love Python\n",
            "ILovePython\n"
          ]
        }
      ]
    },
    {
      "cell_type": "code",
      "source": [
        "# Python program to iterate through the two lists in parallel\n",
        "list_1=[1,2,3,4]\n",
        "list_2=[\"a\",\"b\",\"c\",\"d\"]\n",
        "for i,j in zip(list1,list2):\n",
        "  print(i,j)"
      ],
      "metadata": {
        "colab": {
          "base_uri": "https://localhost:8080/"
        },
        "id": "3_TBQ1oTIOTM",
        "outputId": "d984b6ee-c190-44d4-b9b3-5031c00d52d0"
      },
      "execution_count": null,
      "outputs": [
        {
          "output_type": "stream",
          "name": "stdout",
          "text": [
            "a 1\n",
            "b 2\n",
            "c 3\n",
            "d 4\n"
          ]
        }
      ]
    },
    {
      "cell_type": "code",
      "source": [
        "# Python program to count number of digits present in the number\n",
        "num=int(input(\"enter the number\"))\n",
        "count=0\n",
        "while(num!=0):\n",
        "  temp=num//10\n",
        "  count+=1\n",
        "  num=temp\n",
        "print(count) \n"
      ],
      "metadata": {
        "colab": {
          "base_uri": "https://localhost:8080/"
        },
        "id": "W6tt1pCQKNev",
        "outputId": "64fdc951-153c-430a-f343-7eaea68e6a99"
      },
      "execution_count": null,
      "outputs": [
        {
          "output_type": "stream",
          "name": "stdout",
          "text": [
            "enter the number134\n",
            "3\n"
          ]
        }
      ]
    },
    {
      "cell_type": "code",
      "source": [
        "# Python program to check if the two strings are anagram\n",
        "string1=str(input(\"enter the string\"))\n",
        "string2=str(input(\"Enter the string \"))\n",
        "string1.lower()\n",
        "string2.lower()\n",
        "if(len(string1)==len(string2)):\n",
        "  sorted_string1=sorted(string1)\n",
        "  sorted_string2=sorted(string2)\n",
        "  if(sorted_string1==sorted_string2):\n",
        "    print(string1,\"and \",string2,\"are\",\"Anagram\")\n",
        "  else:\n",
        "     print(string1,\"and \",string2,\"are not\",\"Anagram\")\n",
        "else:\n",
        "  print(string1,\"and \",string2,\"are not\",\"Anagram\")\n",
        "  \n"
      ],
      "metadata": {
        "colab": {
          "base_uri": "https://localhost:8080/"
        },
        "id": "rwla4ctVLP06",
        "outputId": "0361e413-a395-4078-db07-2686a994c201"
      },
      "execution_count": null,
      "outputs": [
        {
          "output_type": "stream",
          "name": "stdout",
          "text": [
            "enter the stringrace\n",
            "Enter the string care\n",
            "race and  care are Anagram\n"
          ]
        }
      ]
    },
    {
      "cell_type": "code",
      "source": [
        "# Python program to print the string with first capital letter\n",
        "# The captalize function is used to capitalize the first chracter of the string\n",
        "string=str(input(\"Enter the String \"))\n",
        "print(string.capitalize())\n"
      ],
      "metadata": {
        "colab": {
          "base_uri": "https://localhost:8080/"
        },
        "id": "7zPHshXyKaFf",
        "outputId": "36496c0e-2b1f-4cfc-b6ce-0c51add94582"
      },
      "execution_count": null,
      "outputs": [
        {
          "output_type": "stream",
          "name": "stdout",
          "text": [
            "Enter the String cristiano ronaldo\n",
            "Cristiano ronaldo\n"
          ]
        }
      ]
    },
    {
      "cell_type": "code",
      "source": [
        "# Python program to print the number of occurences of the character in a string\n",
        "string=str(input(\"enter the string\"))\n",
        "my_char=str(input(\"enter the character\"))\n",
        "count=0\n",
        "for i in string:\n",
        "  if(i==my_char):\n",
        "    count+=1\n",
        "print(\"The number of occurences of the \",my_char,\"are:\",count)\n"
      ],
      "metadata": {
        "colab": {
          "base_uri": "https://localhost:8080/"
        },
        "id": "YZ6cIpESdRu3",
        "outputId": "ef434e6f-d736-4291-f6c2-931cb70cfbc4"
      },
      "execution_count": null,
      "outputs": [
        {
          "output_type": "stream",
          "name": "stdout",
          "text": [
            "enter the stringProgrammiz\n",
            "enter the characterm\n",
            "The number of occurences of the  m are: 2\n"
          ]
        }
      ]
    },
    {
      "cell_type": "code",
      "source": [
        "# Python program to remove duplicate from the string\n",
        "my_list=[1,2,3,4,5,6,7,8,9,0,1,3]\n",
        "new_list=list(set(my_list))\n",
        "print(new_list)"
      ],
      "metadata": {
        "colab": {
          "base_uri": "https://localhost:8080/"
        },
        "id": "8CiTwvgQgtKG",
        "outputId": "44205c74-fcce-4a0b-e9e4-d6cb80739d2e"
      },
      "execution_count": null,
      "outputs": [
        {
          "output_type": "stream",
          "name": "stdout",
          "text": [
            "[0, 1, 2, 3, 4, 5, 6, 7, 8, 9]\n"
          ]
        }
      ]
    },
    {
      "cell_type": "code",
      "source": [
        "# Python program to convert the decimal number into other number systems \n",
        "dec=int(input(\"enter the decimal number\"))\n",
        "print(hex(dec))\n",
        "print(oct(dec))\n",
        "print(bin(dec))\n"
      ],
      "metadata": {
        "colab": {
          "base_uri": "https://localhost:8080/"
        },
        "id": "DOXEBdAWhFMj",
        "outputId": "5ef4a6c9-0389-4df0-9543-7fa55123902a"
      },
      "execution_count": null,
      "outputs": [
        {
          "output_type": "stream",
          "name": "stdout",
          "text": [
            "enter the decimal number345\n",
            "0x159\n",
            "0o531\n",
            "0b101011001\n"
          ]
        }
      ]
    },
    {
      "cell_type": "code",
      "source": [
        "# Pythonn program to print the ascii value of a character\n",
        "# to conver character in ascii we use ord function\n",
        "a=input(\"enter the character\")\n",
        "print(ord(a))"
      ],
      "metadata": {
        "colab": {
          "base_uri": "https://localhost:8080/"
        },
        "id": "meXR7EJ_jlvJ",
        "outputId": "68c6c26a-b4e0-42b4-b961-816479341885"
      },
      "execution_count": null,
      "outputs": [
        {
          "output_type": "stream",
          "name": "stdout",
          "text": [
            "enter the characterA\n",
            "65\n"
          ]
        }
      ]
    },
    {
      "cell_type": "code",
      "source": [
        "# Python program to find the gcd of the  two numbers\n",
        "import math\n",
        "a=int(input(\"enter the first number\\n\"))\n",
        "b=int(input(\"enter the second number\\n\"))\n",
        "print(math.gcd(a,b))\n"
      ],
      "metadata": {
        "colab": {
          "base_uri": "https://localhost:8080/"
        },
        "id": "ofLd_06QkXTW",
        "outputId": "230bd2d2-4f54-4e8e-adfa-ca75d4efa191"
      },
      "execution_count": null,
      "outputs": [
        {
          "output_type": "stream",
          "name": "stdout",
          "text": [
            "enter the first number\n",
            "8\n",
            "enter the second number\n",
            "24\n",
            "8\n"
          ]
        }
      ]
    },
    {
      "cell_type": "code",
      "source": [
        "# Python program to find the lcm of two num of two numbers\n",
        "import math\n",
        "def lcm(a,b):\n",
        "  lcm=(a*b)//math.gcd(a,b)\n",
        "  return lcm\n",
        "\n",
        "lcm(54,24)\n"
      ],
      "metadata": {
        "colab": {
          "base_uri": "https://localhost:8080/"
        },
        "id": "gi0aXf4NlFfM",
        "outputId": "51beb2dc-d55c-4cad-fd95-781898dae3de"
      },
      "execution_count": null,
      "outputs": [
        {
          "output_type": "execute_result",
          "data": {
            "text/plain": [
              "216"
            ]
          },
          "metadata": {},
          "execution_count": 57
        }
      ]
    },
    {
      "cell_type": "code",
      "source": [
        "# Python program to fing the factors of the input number\n",
        "def factor(num):\n",
        "  for i in range(1,num+1):\n",
        "    if(num%i==0):\n",
        "      print(i)\n",
        "factor(320)"
      ],
      "metadata": {
        "colab": {
          "base_uri": "https://localhost:8080/"
        },
        "id": "V92CgoNi6g-Q",
        "outputId": "285dd24a-aaab-44da-f7e5-b8f4284087aa"
      },
      "execution_count": null,
      "outputs": [
        {
          "output_type": "stream",
          "name": "stdout",
          "text": [
            "1\n",
            "2\n",
            "4\n",
            "5\n",
            "8\n",
            "10\n",
            "16\n",
            "20\n",
            "32\n",
            "40\n",
            "64\n",
            "80\n",
            "160\n",
            "320\n"
          ]
        }
      ]
    },
    {
      "cell_type": "code",
      "source": [
        "# Python function to print the calendar of the month and the year\n",
        "import calendar\n",
        "def calen(mm,yy):\n",
        "   print(calendar.month(yy, mm))\n",
        "calen(2,2022)\n"
      ],
      "metadata": {
        "colab": {
          "base_uri": "https://localhost:8080/"
        },
        "id": "uqqUbdgi7KVk",
        "outputId": "8c56b282-95bf-4861-bbca-4a2a33dab446"
      },
      "execution_count": null,
      "outputs": [
        {
          "output_type": "stream",
          "name": "stdout",
          "text": [
            "   February 2022\n",
            "Mo Tu We Th Fr Sa Su\n",
            "    1  2  3  4  5  6\n",
            " 7  8  9 10 11 12 13\n",
            "14 15 16 17 18 19 20\n",
            "21 22 23 24 25 26 27\n",
            "28\n",
            "\n"
          ]
        }
      ]
    },
    {
      "cell_type": "markdown",
      "source": [
        "Python Practice examples from basic to advance\n"
      ],
      "metadata": {
        "id": "9OyAar990RB5"
      }
    },
    {
      "cell_type": "code",
      "source": [
        "# PYTHON PROGRAM TO PRINT HELLO WORLD\n",
        "print(\"Hello world\")\n",
        "print(\"HI,my name is python\")\n",
        "# identifiers \n",
        "# keywords cannot be identifiers\n",
        "# name of identifiers should never start with the  number\n",
        "# the name should be have alphanumeric chracters\n",
        "# use underscore to seperate two words\n"
      ],
      "metadata": {
        "colab": {
          "base_uri": "https://localhost:8080/"
        },
        "id": "wBweHrb20XEC",
        "outputId": "734ac2e1-e999-4684-ff9f-d48d8e8bf937"
      },
      "execution_count": null,
      "outputs": [
        {
          "output_type": "stream",
          "name": "stdout",
          "text": [
            "Hello world\n",
            "HI,my name is python\n"
          ]
        }
      ]
    },
    {
      "cell_type": "code",
      "source": [
        "# data types\n",
        "rating=4.7\n",
        "name=\"python\"\n",
        "marks=98\n",
        "is_passed=True\n",
        "my_complex_number=4+2J\n",
        "fruit_list=[\"apple\",\"banana\",\"grapes\"]\n",
        "print(type(rating))\n",
        "print(type(fruit_list))\n",
        "print(type(name))\n",
        "print(type(marks))\n",
        "print(type(is_passed))\n",
        "print(type(fruit_list))"
      ],
      "metadata": {
        "colab": {
          "base_uri": "https://localhost:8080/"
        },
        "id": "Q4bziixY2tO7",
        "outputId": "25eed2e1-4e77-413c-faf7-ef32949eed7d"
      },
      "execution_count": null,
      "outputs": [
        {
          "output_type": "stream",
          "name": "stdout",
          "text": [
            "<class 'float'>\n",
            "<class 'list'>\n",
            "<class 'str'>\n",
            "<class 'int'>\n",
            "<class 'bool'>\n",
            "<class 'list'>\n"
          ]
        }
      ]
    },
    {
      "cell_type": "code",
      "source": [
        "# Python data type example\n",
        "name=str(input(\"Enter the name\"))\n",
        "age=int(input(\"enter the age\"))\n",
        "year_of_birth=int(input(\"enter the year of birth\"))\n",
        "is_new_user=True\n",
        "food_list=[\"Pizza\",\"Macroni\",\"Shawarma\",\"manchrian rice\"]\n",
        "print(name,age,year_of_birth,is_new_user,food_list)"
      ],
      "metadata": {
        "colab": {
          "base_uri": "https://localhost:8080/"
        },
        "id": "G-fvbB9E3pHK",
        "outputId": "ffd35be7-1e69-4e52-dd47-8afec950c664"
      },
      "execution_count": null,
      "outputs": [
        {
          "output_type": "stream",
          "name": "stdout",
          "text": [
            "Enter the namePython Java\n",
            "enter the age25\n",
            "enter the year of birth2022\n",
            "Python Java 25 2022 True ['Pizza', 'Macroni', 'Shawarma', 'manchrian rice']\n"
          ]
        }
      ]
    },
    {
      "cell_type": "code",
      "source": [
        "# Python Operators\n",
        "# arithematic operators\n",
        "# Comments are started in python by #\n",
        "# Multiple line comments by \"\"\"\" or '''\n",
        "a=int(input())\n",
        "b=int(input())\n",
        "print(a+b)\n",
        "print(a-b)\n",
        "print(a%b)\n",
        "print(a*b)\n",
        "print(a//b)\n",
        "print(a/b)\n",
        "print(a**b)\n"
      ],
      "metadata": {
        "colab": {
          "base_uri": "https://localhost:8080/"
        },
        "id": "L7gAx2aw5WyW",
        "outputId": "800c5373-71b0-45cd-d14a-c4e30bd8e5a8"
      },
      "execution_count": null,
      "outputs": [
        {
          "output_type": "stream",
          "name": "stdout",
          "text": [
            "24\n",
            "64\n",
            "88\n",
            "-40\n",
            "24\n",
            "1536\n",
            "0\n",
            "0.375\n",
            "21553582667127297807356245630088233396078302617053397105733859049568556071131586049867776\n"
          ]
        }
      ]
    },
    {
      "cell_type": "code",
      "source": [
        "# write the program to take the average of three numbers \n",
        "def avg(num1,num2,num3):\n",
        "  average=(num1+num2+num3)/3\n",
        "  return average\n",
        "\n",
        "avg(3,6,9)\n"
      ],
      "metadata": {
        "colab": {
          "base_uri": "https://localhost:8080/"
        },
        "id": "guPdtbBn5fuN",
        "outputId": "c4136829-7601-41b5-b989-04453d8abe67"
      },
      "execution_count": null,
      "outputs": [
        {
          "output_type": "execute_result",
          "data": {
            "text/plain": [
              "6.0"
            ]
          },
          "metadata": {},
          "execution_count": 13
        }
      ]
    },
    {
      "cell_type": "code",
      "source": [
        "# Assignment operators\n",
        "a=int(input(\"enter the string\"))\n",
        "a+=5\n",
        "a*=5\n",
        "a/=5\n",
        "a//=5\n",
        "print(a)"
      ],
      "metadata": {
        "colab": {
          "base_uri": "https://localhost:8080/"
        },
        "id": "1y0DdfF47Shi",
        "outputId": "f7ba5919-6fe2-4302-aaaf-2846a1342e64"
      },
      "execution_count": null,
      "outputs": [
        {
          "name": "stdout",
          "output_type": "stream",
          "text": [
            "enter the string6\n"
          ]
        }
      ]
    },
    {
      "cell_type": "code",
      "source": [
        "# Relational operator\n",
        "a=int(input(\"Enter the value of a\\n\"))\n",
        "b=int(input(\"Enter the value of b\\n\"))\n",
        "print(a>b)\n",
        "print(a<b)\n",
        "print(a>=b)\n",
        "print(a<=b)\n",
        "print(a==b)\n",
        "print(a!=b)"
      ],
      "metadata": {
        "colab": {
          "base_uri": "https://localhost:8080/"
        },
        "id": "Dd0P9TFD7-Op",
        "outputId": "8f2c532c-1971-4fe8-ddf9-7feb5488a77b"
      },
      "execution_count": null,
      "outputs": [
        {
          "output_type": "stream",
          "name": "stdout",
          "text": [
            "Enter the value of a\n",
            "98\n",
            "Enter the value of b\n",
            "98\n",
            "False\n",
            "False\n",
            "True\n",
            "True\n",
            "True\n",
            "False\n"
          ]
        }
      ]
    },
    {
      "cell_type": "code",
      "source": [
        "# logical operators\n",
        "# And or NOt\n",
        "x=True\n",
        "y=False\n",
        "print(\"X and Y\", x and y)\n",
        "print(\"X or Y\",x and y)\n",
        "print(\"Not X\",not x)\n",
        "print(\"Not Y\",not y)"
      ],
      "metadata": {
        "colab": {
          "base_uri": "https://localhost:8080/"
        },
        "id": "aNz3VtIC8_ly",
        "outputId": "58498366-e400-4d66-e1a0-69626b5d725c"
      },
      "execution_count": null,
      "outputs": [
        {
          "output_type": "stream",
          "name": "stdout",
          "text": [
            "X and Y False\n",
            "X or Y False\n",
            "Not X False\n",
            "Not Y True\n"
          ]
        }
      ]
    },
    {
      "cell_type": "code",
      "source": [
        "# taking an user input\n",
        "# in python we use input() for taking input from the user\n",
        "Name=input(\"Enter the Name\")\n",
        "print(Name)"
      ],
      "metadata": {
        "colab": {
          "base_uri": "https://localhost:8080/"
        },
        "id": "zsonHnoc-M4W",
        "outputId": "957e6ccc-8fdc-45ec-9b59-4f38a16b6a8c"
      },
      "execution_count": null,
      "outputs": [
        {
          "output_type": "stream",
          "name": "stdout",
          "text": [
            "Enter the NamePython\n",
            "Python\n"
          ]
        }
      ]
    },
    {
      "cell_type": "code",
      "source": [
        "# designing a simple calculator using the functin concept in python\n",
        "choice=int(input(\"Enter the choice\"))\n",
        "a=int(input(\"Enter the number\"))\n",
        "b=int(input(\"Enter the number\"))\n",
        "\n",
        "def add(a,b):\n",
        "  return a+b\n",
        "\n",
        "def sub(a,b):\n",
        "  return a-b\n",
        "\n",
        "def multiply(a,b):\n",
        "  return a*b\n",
        "\n",
        "def div(a,b):\n",
        "  return a/b\n",
        "\n",
        "if choice==1:\n",
        "  add(a,b)\n",
        "elif choice==2:\n",
        "  sub(a,b)\n",
        "elif choice==3:\n",
        "  multiply(a,b)\n",
        "elif choice==4:\n",
        "  div(a,b)\n",
        "\n",
        "\n",
        "\n",
        "\n"
      ],
      "metadata": {
        "colab": {
          "base_uri": "https://localhost:8080/"
        },
        "id": "SD2nJGiS-1CN",
        "outputId": "dddd41df-ee82-4b4b-dc4b-f1df49ae052f"
      },
      "execution_count": null,
      "outputs": [
        {
          "name": "stdout",
          "output_type": "stream",
          "text": [
            "Enter the choice2\n",
            "Enter the number4\n",
            "Enter the number2\n"
          ]
        }
      ]
    },
    {
      "cell_type": "code",
      "source": [
        "# Write a program to take the input of the marks of  physics ,chemistry, maths\n",
        "maths=int(input(\"Enter the marks in maths\\n\"))\n",
        "physics=int(input(\"Enter the marks in physics\\n\"))\n",
        "chemistry=int(input(\"Engter the marks in chemistry\\n\"))\n",
        "avg_marks= (maths+chemistry+physics)/3\n",
        "percentage=((maths+chemistry+physics)/300)*100\n",
        "print(avg_marks,percentage,\"%9\")\n"
      ],
      "metadata": {
        "colab": {
          "base_uri": "https://localhost:8080/"
        },
        "id": "wE55vbldAivF",
        "outputId": "573f4471-8547-4da0-929e-21e1dde6332c"
      },
      "execution_count": null,
      "outputs": [
        {
          "output_type": "stream",
          "name": "stdout",
          "text": [
            "Enter the marks in maths100\n",
            "Enter the marks in physics99\n",
            "Engter the marks in chemistry100\n",
            "99.66666666666667 99.66666666666667 %\n"
          ]
        }
      ]
    },
    {
      "cell_type": "code",
      "source": [
        "# conditional satatements\n",
        "# syntax if(condition): Statement, else: , else should be always return after the if \n",
        "age=int(input(\"Enter the age\\n\"))\n",
        "if age>=18:\n",
        "  print(\"you are eligible to vote\")\n",
        "else:\n",
        "  print(\"Not eligible\")\n",
        "\n"
      ],
      "metadata": {
        "colab": {
          "base_uri": "https://localhost:8080/"
        },
        "id": "zUVv_lk9_LEI",
        "outputId": "508c0168-687d-49e6-dd1c-70f1adb5fab9"
      },
      "execution_count": null,
      "outputs": [
        {
          "output_type": "stream",
          "name": "stdout",
          "text": [
            "Enter the age\n",
            "6\n",
            "Not eligible\n"
          ]
        }
      ]
    },
    {
      "cell_type": "code",
      "source": [
        "# python program to check whether the given number is positive or zero\n",
        "num=int(input(\"Enter the number\\n\"))\n",
        "if num>0:\n",
        "  print(\"The number is positive\")\n",
        "elif num==0:\n",
        "  print(\"zero\")\n",
        "else: \n",
        "  print(\"number is negative\")"
      ],
      "metadata": {
        "colab": {
          "base_uri": "https://localhost:8080/"
        },
        "id": "tUPItIa4N8Kr",
        "outputId": "a31b5c37-b51d-4742-c8fd-7c8523ce8897"
      },
      "execution_count": null,
      "outputs": [
        {
          "output_type": "stream",
          "name": "stdout",
          "text": [
            "Enter the number\n",
            "-89\n",
            "number is negative\n"
          ]
        }
      ]
    },
    {
      "cell_type": "code",
      "source": [
        "# range function\n",
        "# range function is used to print sequence of the numbers\n",
        "print(list(range(0,10,2)))"
      ],
      "metadata": {
        "colab": {
          "base_uri": "https://localhost:8080/"
        },
        "id": "U3HhFWutPKpT",
        "outputId": "18bda8cc-acf5-4230-c72e-d2e111d70905"
      },
      "execution_count": null,
      "outputs": [
        {
          "output_type": "stream",
          "name": "stdout",
          "text": [
            "[0, 2, 4, 6, 8]\n"
          ]
        }
      ]
    },
    {
      "cell_type": "code",
      "source": [
        "# loops\n",
        "# loops can run one block of code for multiple times\n",
        "# for loop for traversal\n",
        "for i in range(10):\n",
        "  print(i*2,end=\" , \" )\n",
        "my_list=[\"Java\",\"python\",\"C++\"]\n",
        "for i in my_list:\n",
        "  print(i*2)\n",
        "\n"
      ],
      "metadata": {
        "colab": {
          "base_uri": "https://localhost:8080/"
        },
        "id": "C4WF6vdRRGCK",
        "outputId": "2e4a50dd-e5d1-4545-8823-7faa55f9494a"
      },
      "execution_count": null,
      "outputs": [
        {
          "output_type": "stream",
          "name": "stdout",
          "text": [
            "0 , 2 , 4 , 6 , 8 , 10 , 12 , 14 , 16 , 18 , JavaJava\n",
            "pythonpython\n",
            "C++C++\n"
          ]
        }
      ]
    },
    {
      "cell_type": "code",
      "source": [
        "# while loop\n",
        "# while loop is used when the we don't know the how many times we have to iterate over the loop\n",
        "n=5\n",
        "while(n>0):\n",
        "  print(n)\n",
        "  n-=1\n",
        "  \n"
      ],
      "metadata": {
        "colab": {
          "base_uri": "https://localhost:8080/"
        },
        "id": "ypQ9lXvVSvRa",
        "outputId": "87c50b27-f598-40d5-8217-0101b9a7d24a"
      },
      "execution_count": null,
      "outputs": [
        {
          "output_type": "stream",
          "name": "stdout",
          "text": [
            "5\n",
            "4\n",
            "3\n",
            "2\n",
            "1\n"
          ]
        }
      ]
    },
    {
      "cell_type": "code",
      "source": [
        "# Break and continue\n",
        "# break statement is used to terminate the loop in which it exist\n",
        "# continue statement is used to skip the particular iteration in the loop , loop does not terminate  but continues the next iteration\n",
        "for i in range(10):\n",
        "  \n",
        "  if(i>6):\n",
        "    break\n",
        "  print(i)\n",
        "for j in range(10):\n",
        "  if(i==6):\n",
        "    continue\n",
        "  print(j)"
      ],
      "metadata": {
        "colab": {
          "base_uri": "https://localhost:8080/"
        },
        "id": "Vr79EmG3Tw8M",
        "outputId": "e935febd-b0ab-4804-8c53-fb8326465cba"
      },
      "execution_count": null,
      "outputs": [
        {
          "output_type": "stream",
          "name": "stdout",
          "text": [
            "0\n",
            "1\n",
            "2\n",
            "3\n",
            "4\n",
            "5\n",
            "6\n",
            "0\n",
            "1\n",
            "2\n",
            "3\n",
            "4\n",
            "5\n",
            "6\n",
            "7\n",
            "8\n",
            "9\n"
          ]
        }
      ]
    },
    {
      "cell_type": "code",
      "source": [
        "# strings in python\n",
        "# string is the sequence of characters\n",
        "# example words, sentences\n",
        "# string can be created by  using the single and double quotes  as wells the triple quotes but for multiline string\n",
        "# strings bhave various methods\n",
        "# string has an indexing as array and it starts from zero as well as strings have provision of the negative indexing\n",
        "fruit=\"apple\"\n",
        "print(fruit[0])\n",
        "print(fruit[-1])\n"
      ],
      "metadata": {
        "colab": {
          "base_uri": "https://localhost:8080/"
        },
        "id": "5pWne-EqVIyG",
        "outputId": "464c5016-48ee-4f61-c4f5-35b2ad329de4"
      },
      "execution_count": null,
      "outputs": [
        {
          "output_type": "stream",
          "name": "stdout",
          "text": [
            "a\n",
            "e\n"
          ]
        }
      ]
    },
    {
      "cell_type": "code",
      "source": [
        "# slicing of the string\n",
        "# To get the output as a substring then the slicing concept comes into use\n",
        "fruit=\"I love Python\"\n",
        "print(fruit[::-1])\n",
        "print(fruit[0:3])\n",
        "print(fruit[3:5])\n",
        "print(fruit[:])\n",
        "print(fruit[:5])\n",
        "print(fruit[0:5:2]) # [starting index:end:interval]\n",
        "print(fruit[:0:-1])"
      ],
      "metadata": {
        "colab": {
          "base_uri": "https://localhost:8080/"
        },
        "id": "N2eE2JHZUOh5",
        "outputId": "c77d97e5-960d-4956-ecd1-f6c825c2c1ee"
      },
      "execution_count": null,
      "outputs": [
        {
          "output_type": "stream",
          "name": "stdout",
          "text": [
            "nohtyP evol I\n",
            "I l\n",
            "ov\n",
            "I love Python\n",
            "I lov\n",
            "Ilv\n",
            "nohtyP evol \n"
          ]
        }
      ]
    },
    {
      "cell_type": "code",
      "source": [
        "# for loop with string\n",
        "a=\"abc\"\n",
        "b=\"def\"\n",
        "print(a+b) # concatination\n",
        "print(a*3)\n",
        "string=str(input(\"enter the string\"))\n",
        "for i in string:\n",
        "  print(i*2)"
      ],
      "metadata": {
        "colab": {
          "base_uri": "https://localhost:8080/"
        },
        "id": "ezpcnpk5jyA_",
        "outputId": "4436c5f3-8036-4d82-87f1-e10bb9dc0d49"
      },
      "execution_count": null,
      "outputs": [
        {
          "output_type": "stream",
          "name": "stdout",
          "text": [
            "abcdef\n",
            "abcabcabc\n",
            "enter the stringabc\n",
            "aa\n",
            "bb\n",
            "cc\n"
          ]
        }
      ]
    },
    {
      "cell_type": "code",
      "source": [
        "# python string method\n",
        "# password=\"23$abcd\"\n",
        "# password.isalpha()\n",
        "# str1=\"123\"\n",
        "# str1.isdigit()\n",
        "# password.isdigit()\n",
        "str2=\"ABCD\"\n",
        "str2.islower()\n",
        "str2.lower()\n",
        "str2.islower()"
      ],
      "metadata": {
        "colab": {
          "base_uri": "https://localhost:8080/"
        },
        "id": "mtcFLYhXkaKu",
        "outputId": "02fc09f0-e445-4cb6-a422-f17317dd6e14"
      },
      "execution_count": null,
      "outputs": [
        {
          "output_type": "execute_result",
          "data": {
            "text/plain": [
              "False"
            ]
          },
          "metadata": {},
          "execution_count": 86
        }
      ]
    },
    {
      "cell_type": "code",
      "source": [
        "# lstrip function and the rstrip function\n",
        "\n",
        "s=\"sarvadnya Sanjay rajurkar\"\n",
        "print(s.rstrip())"
      ],
      "metadata": {
        "colab": {
          "base_uri": "https://localhost:8080/"
        },
        "id": "Jso36ptmlSLD",
        "outputId": "9e88040e-4bef-4b9a-ef83-961150b87051"
      },
      "execution_count": null,
      "outputs": [
        {
          "output_type": "stream",
          "name": "stdout",
          "text": [
            "sarvadnya Sanjay rajurkar\n"
          ]
        }
      ]
    },
    {
      "cell_type": "code",
      "source": [
        "# Pyton list\n",
        "# list is created by placing all the elements inside square bracket seperated by comma\n",
        "# list is heterogeneous ie it can contain any datatype\n",
        "my_list=[1,2,3,4,\"python\",\"java\",\"C++\",\"C#\"]\n",
        "print(my_list[::-1])\n",
        "print(my_list[:5])\n",
        "# negative indexing\n",
        "print(my_list[-1])\n",
        "# updatind the list\n",
        "my_list[0]=\"php\"\n",
        "print(my_list)\n",
        "del my_list[0]\n",
        "print(my_list)"
      ],
      "metadata": {
        "colab": {
          "base_uri": "https://localhost:8080/"
        },
        "id": "wQkwcKygl6LX",
        "outputId": "5230eee9-a2ae-44bc-f1cb-af98411bb9a3"
      },
      "execution_count": null,
      "outputs": [
        {
          "output_type": "stream",
          "name": "stdout",
          "text": [
            "['C#', 'C++', 'java', 'python', 4, 3, 2, 1]\n",
            "[1, 2, 3, 4, 'python']\n",
            "C#\n",
            "['php', 2, 3, 4, 'python', 'java', 'C++', 'C#']\n",
            "[2, 3, 4, 'python', 'java', 'C++', 'C#']\n"
          ]
        }
      ]
    },
    {
      "cell_type": "code",
      "source": [
        "# list comprehension\n",
        "power2=[2**i for i in range(10)]\n",
        "print(power2)\n",
        "powee=[i for i in range(100)]\n",
        "power=[i for i in range(100) if i%2==0] # list of even number\n",
        "print(power,powee)\n",
        "b=[3*i for i in range(10)]\n",
        "print(b)"
      ],
      "metadata": {
        "colab": {
          "base_uri": "https://localhost:8080/"
        },
        "id": "5EzNqArdvPIS",
        "outputId": "cc552e3c-f08a-4880-808c-723ba1de7a91"
      },
      "execution_count": null,
      "outputs": [
        {
          "output_type": "stream",
          "name": "stdout",
          "text": [
            "[1, 2, 4, 8, 16, 32, 64, 128, 256, 512]\n",
            "[0, 2, 4, 6, 8, 10, 12, 14, 16, 18, 20, 22, 24, 26, 28, 30, 32, 34, 36, 38, 40, 42, 44, 46, 48, 50, 52, 54, 56, 58, 60, 62, 64, 66, 68, 70, 72, 74, 76, 78, 80, 82, 84, 86, 88, 90, 92, 94, 96, 98] [0, 1, 2, 3, 4, 5, 6, 7, 8, 9, 10, 11, 12, 13, 14, 15, 16, 17, 18, 19, 20, 21, 22, 23, 24, 25, 26, 27, 28, 29, 30, 31, 32, 33, 34, 35, 36, 37, 38, 39, 40, 41, 42, 43, 44, 45, 46, 47, 48, 49, 50, 51, 52, 53, 54, 55, 56, 57, 58, 59, 60, 61, 62, 63, 64, 65, 66, 67, 68, 69, 70, 71, 72, 73, 74, 75, 76, 77, 78, 79, 80, 81, 82, 83, 84, 85, 86, 87, 88, 89, 90, 91, 92, 93, 94, 95, 96, 97, 98, 99]\n",
            "[0, 3, 6, 9, 12, 15, 18, 21, 24, 27]\n"
          ]
        }
      ]
    },
    {
      "cell_type": "code",
      "source": [
        "# list methods\n",
        "my_list=[i for i in range(10)] # list comprehension\n",
        "my_list.append(10)\n",
        "print(my_list)\n",
        "my_list.insert(1,0.5)\n",
        "print(my_list)"
      ],
      "metadata": {
        "colab": {
          "base_uri": "https://localhost:8080/"
        },
        "id": "ViEYPtPuwEUa",
        "outputId": "69e1a739-5448-47b5-d74a-fcb828d67782"
      },
      "execution_count": null,
      "outputs": [
        {
          "output_type": "stream",
          "name": "stdout",
          "text": [
            "[0, 1, 2, 3, 4, 5, 6, 7, 8, 9, 10]\n",
            "[0, 0.5, 1, 2, 3, 4, 5, 6, 7, 8, 9, 10]\n"
          ]
        }
      ]
    },
    {
      "cell_type": "code",
      "source": [
        "# sort method\n",
        "# for homogeneous list\n",
        "my_list=[i for i in range(10,1)]\n",
        "my_list.sort()\n",
        "print(my_list)"
      ],
      "metadata": {
        "colab": {
          "base_uri": "https://localhost:8080/"
        },
        "id": "TJcxWsOzwhyF",
        "outputId": "c7274bb4-83e5-4def-c400-6fe1372be84d"
      },
      "execution_count": null,
      "outputs": [
        {
          "output_type": "stream",
          "name": "stdout",
          "text": [
            "[]\n"
          ]
        }
      ]
    },
    {
      "cell_type": "code",
      "source": [
        "# pop method\n",
        "fruits=[\"kiwi\",\"banana\",\"apple\",\"grapes\"]\n",
        "fruits.sort()\n",
        "print(fruits)\n",
        "fruits.pop(0)\n",
        "print(fruits)\n",
        "print(fruits.index(\"grapes\"))\n",
        "print(fruits.count(\"apple\"))\n",
        "fruits.reverse()\n",
        "print(fruits)\n"
      ],
      "metadata": {
        "colab": {
          "base_uri": "https://localhost:8080/"
        },
        "id": "l-RsRIrYw9j6",
        "outputId": "fad8f560-71c6-4736-b5dd-389f6c3e9517"
      },
      "execution_count": null,
      "outputs": [
        {
          "output_type": "stream",
          "name": "stdout",
          "text": [
            "['apple', 'banana', 'grapes', 'kiwi']\n",
            "['banana', 'grapes', 'kiwi']\n",
            "1\n",
            "0\n",
            "['kiwi', 'grapes', 'banana']\n"
          ]
        }
      ]
    },
    {
      "cell_type": "code",
      "source": [
        "from typing_extensions import ParamSpec\n",
        "# list functions\n",
        "my_list=[i for i in range(0,10)]\n",
        "print(len(my_list))\n",
        "print(max(my_list))\n",
        "print(min(my_list))\n",
        "string=\"Python\"\n",
        "print(list(string))\n",
        "print(sum(my_list))\n",
        "for i in my_list:\n",
        "  print(i*2,end=\" \")"
      ],
      "metadata": {
        "colab": {
          "base_uri": "https://localhost:8080/"
        },
        "id": "60FsgKr7zisK",
        "outputId": "20dbe94a-c99e-4631-90ba-198e47ca6a77"
      },
      "execution_count": null,
      "outputs": [
        {
          "output_type": "stream",
          "name": "stdout",
          "text": [
            "10\n",
            "9\n",
            "0\n",
            "['P', 'y', 't', 'h', 'o', 'n']\n",
            "45\n",
            "0 2 4 6 8 10 12 14 16 18 "
          ]
        }
      ]
    },
    {
      "cell_type": "code",
      "source": [
        "# tuples\n",
        "# tuples is also sequence of elements which is created by placing all the elements inside the round brackets\n",
        "# tuples are also heterogeneous\n",
        "# tuples are immmutabe unlike list\n",
        "# it doesnot support the string operations\n",
        "fruits=(\"apple\",\"banana\",\"grapes\",\"orange\")\n",
        "\n"
      ],
      "metadata": {
        "id": "zCrzjIYD0FVw"
      },
      "execution_count": null,
      "outputs": []
    },
    {
      "cell_type": "code",
      "source": [
        "# dictionaries and sets\n",
        "# in sets all the elements should be unique\n",
        "# Set is not an ordered sequence\n",
        "# we cannot use indexing in the sets\n",
        "\n",
        "a={1,2,3,4,4,55,66,77,55}\n",
        "print(a)\n",
        "for i in a:\n",
        "  print(i*2)"
      ],
      "metadata": {
        "colab": {
          "base_uri": "https://localhost:8080/"
        },
        "id": "Vp8NlKzV1dpe",
        "outputId": "d60ab630-6f36-49ba-d68d-95e4c7c2e7a7"
      },
      "execution_count": null,
      "outputs": [
        {
          "output_type": "stream",
          "name": "stdout",
          "text": [
            "{1, 2, 3, 4, 66, 77, 55}\n",
            "2\n",
            "4\n",
            "6\n",
            "8\n",
            "132\n",
            "154\n",
            "110\n"
          ]
        }
      ]
    },
    {
      "cell_type": "code",
      "source": [
        "# dictionary \n",
        "# dictionary have the key and the value pair \n",
        "# heterogeneous in nature\n",
        "# key can be of any type\n",
        "marks={\"mayur\":45,\"aa\":45,\"anuj\":68}\n",
        "print(marks[\"mayur\"])\n",
        "# updating the dictionary\n",
        "marks[\"rohit\"]=99\n",
        "marks[\"anuj\"]=67\n",
        "print(marks)"
      ],
      "metadata": {
        "colab": {
          "base_uri": "https://localhost:8080/"
        },
        "id": "qZDeqcEH2dHL",
        "outputId": "101ef81c-236a-4356-8a02-b8668732ab12"
      },
      "execution_count": null,
      "outputs": [
        {
          "output_type": "stream",
          "name": "stdout",
          "text": [
            "45\n",
            "{'mayur': 45, 'aa': 45, 'anuj': 67, 'rohit': 99}\n"
          ]
        }
      ]
    },
    {
      "cell_type": "code",
      "source": [
        "# Functions in python\n",
        "# A block of code that is used to perform particular task\n",
        "# catergories of the function\n",
        "# built-in\n",
        "# user defined\n",
        "# modules\n",
        "# module is file containing the function definations and methods\n",
        "# module math\n",
        "import math as m\n",
        "dir(m)\n",
        "print(m.pi)\n",
        "print(m.sqrt(4))\n"
      ],
      "metadata": {
        "colab": {
          "base_uri": "https://localhost:8080/"
        },
        "id": "cuQC8X6y3tkc",
        "outputId": "8cb92e93-48ab-4fea-97db-ef4740ec53bd"
      },
      "execution_count": null,
      "outputs": [
        {
          "output_type": "stream",
          "name": "stdout",
          "text": [
            "3.141592653589793\n",
            "2.0\n"
          ]
        }
      ]
    },
    {
      "cell_type": "code",
      "source": [
        "# User defined functions\n",
        "# syntax \" def function_name: \"\n",
        "# greeting function\n",
        "def greet(Name):\n",
        "  print(\"Good morning\",Name)\n",
        "Name=str(input(\"enter the name\\n\"))\n",
        "greet(Name)"
      ],
      "metadata": {
        "colab": {
          "base_uri": "https://localhost:8080/"
        },
        "id": "nAfHbDVm5G6n",
        "outputId": "7c4de609-47aa-4429-a4a1-3b80e31b41c5"
      },
      "execution_count": null,
      "outputs": [
        {
          "output_type": "stream",
          "name": "stdout",
          "text": [
            "enter the name\n",
            "Anuj\n",
            "Good morning Anuj\n"
          ]
        }
      ]
    },
    {
      "cell_type": "code",
      "source": [
        "#  returning the function\n",
        "# return is a statement used to exit the function counter returns to the place from where it is called\n",
        "def sum_of_list(a):\n",
        "  print(\"calculating\")\n",
        "  \n",
        "  return sum(a)\n",
        "a=[45,56,78,56,78]\n",
        "sum_of_list(a)\n",
        "\n"
      ],
      "metadata": {
        "colab": {
          "base_uri": "https://localhost:8080/"
        },
        "id": "PMqr8tij5omz",
        "outputId": "b838551b-7764-4cdc-cf4d-f69e2b4f6ccc"
      },
      "execution_count": null,
      "outputs": [
        {
          "output_type": "stream",
          "name": "stdout",
          "text": [
            "calculating\n"
          ]
        },
        {
          "output_type": "execute_result",
          "data": {
            "text/plain": [
              "313"
            ]
          },
          "metadata": {},
          "execution_count": 133
        }
      ]
    },
    {
      "cell_type": "code",
      "source": [
        "# write a function which takes the list of names as the arugument and greet each name\n",
        "def greeting(names):\n",
        "  for i in names:\n",
        "    print(\"good morning\",i)\n",
        "n=[\"anuj\",\"priya\",\"parth\",\"sarthak\"]\n",
        "greeting(n)"
      ],
      "metadata": {
        "colab": {
          "base_uri": "https://localhost:8080/"
        },
        "id": "i4-if7m97eas",
        "outputId": "cf1b1d1e-e003-48cc-a85a-c6ae826a2c74"
      },
      "execution_count": null,
      "outputs": [
        {
          "output_type": "stream",
          "name": "stdout",
          "text": [
            "good morning anuj\n",
            "good morning priya\n",
            "good morning parth\n",
            "good morning sarthak\n"
          ]
        }
      ]
    },
    {
      "cell_type": "code",
      "source": [
        "\n",
        "# file handling\n",
        "# 1) open file\n",
        "# 2) read or write\n",
        "# 3) close file\n",
        "# file is a named location on disk to store related information, it is used to permenantly store the data in non-volatile memory (harddisk)"
      ],
      "metadata": {
        "id": "fWhaWAhs-JEF"
      },
      "execution_count": null,
      "outputs": []
    },
    {
      "cell_type": "code",
      "source": [
        "# \n",
        "a=0\n",
        "while(a<0):\n",
        "    a=a+2\n",
        "    print(a)"
      ],
      "metadata": {
        "id": "8WnCqMJAmn75"
      },
      "execution_count": null,
      "outputs": []
    },
    {
      "cell_type": "code",
      "source": [
        "# Python Program to check whether the given string is palindrome\n",
        "def palindrome(string):\n",
        "  rev=string[::-1]\n",
        "  if(string==rev):\n",
        "    print(string,\"Is palindrome\")\n",
        "  else:\n",
        "    print(string,\"Is not the palindrome\")\n",
        "palindrome(\"ycce\")\n"
      ],
      "metadata": {
        "id": "4quxxuBM_slc",
        "colab": {
          "base_uri": "https://localhost:8080/"
        },
        "outputId": "1775ddfe-62cf-47c4-c8ba-e6d5e157d6f2"
      },
      "execution_count": null,
      "outputs": [
        {
          "output_type": "stream",
          "name": "stdout",
          "text": [
            "ycce Is not the palindrome\n"
          ]
        }
      ]
    },
    {
      "cell_type": "code",
      "source": [
        "# Python program to reverse the words in the string\n",
        "def reverse_sentence(sentence):\n",
        "  words=sentence.split( )\n",
        "  reverse_sentence=\" \".join(reversed(words))\n",
        "\n",
        "  return reverse_sentence\n",
        "reverse_sentence('i love programming very much')"
      ],
      "metadata": {
        "colab": {
          "base_uri": "https://localhost:8080/",
          "height": 35
        },
        "id": "mybzGNi6etKt",
        "outputId": "8b38c94c-e11a-452e-8ec7-ea8d80178d3a"
      },
      "execution_count": null,
      "outputs": [
        {
          "output_type": "execute_result",
          "data": {
            "text/plain": [
              "'much very programming love i'"
            ],
            "application/vnd.google.colaboratory.intrinsic+json": {
              "type": "string"
            }
          },
          "metadata": {},
          "execution_count": 38
        }
      ]
    },
    {
      "cell_type": "code",
      "source": [
        "s='i love programming very much'\n",
        "words=s.split(' ' )\n",
        "print(reversed(words))"
      ],
      "metadata": {
        "colab": {
          "base_uri": "https://localhost:8080/"
        },
        "id": "7Q3rar5xiHl6",
        "outputId": "8e0cc806-322d-47ab-b767-ccc41b53711f"
      },
      "execution_count": null,
      "outputs": [
        {
          "output_type": "stream",
          "name": "stdout",
          "text": [
            "<list_reverseiterator object at 0x7f52b2b83790>\n"
          ]
        }
      ]
    },
    {
      "cell_type": "code",
      "source": [
        "# Program to remove the ith chracter from  the string\n",
        "string=str(input(\"enter the string\"))\n",
        "position=int(input(\"enter the position\"))\n",
        "new_string=\"\"\n",
        "for i in range(0,len(string)):\n",
        "  \n",
        "  if i==position:\n",
        "    continue\n",
        "  new_string=new_string+string[i]\n",
        "print(new_string)"
      ],
      "metadata": {
        "colab": {
          "base_uri": "https://localhost:8080/"
        },
        "id": "PTSCBxdi4WfD",
        "outputId": "4cea02b2-fd97-4383-95b1-e8d3f4e697f4"
      },
      "execution_count": null,
      "outputs": [
        {
          "output_type": "stream",
          "name": "stdout",
          "text": [
            "enter the stringSarvadnya\n",
            "enter the position3\n",
            "Saradnya\n"
          ]
        }
      ]
    },
    {
      "cell_type": "code",
      "source": [
        "# python program to print the length of the string avoiding spaces\n",
        "string=\"geeks for geeks 33 is   best\"\n",
        "length=0\n",
        "for i in string:\n",
        "  if i==\" \":\n",
        "    continue\n",
        "  length=length+1\n",
        "print(\"the length of the string avoiding the spaces is\",length)\n",
        "\n"
      ],
      "metadata": {
        "id": "8zm4ATwG7Ff8",
        "colab": {
          "base_uri": "https://localhost:8080/"
        },
        "outputId": "33648fb1-4e77-4f07-f178-13c921319840"
      },
      "execution_count": null,
      "outputs": [
        {
          "output_type": "stream",
          "name": "stdout",
          "text": [
            "the length of the string avoiding the spaces is 21\n"
          ]
        }
      ]
    },
    {
      "cell_type": "code",
      "source": [
        "# Python program to print the even length words in the string\n",
        "string=str(input(\"enter the string:\"))\n",
        "words=string.split(' ')\n",
        "for word in words:\n",
        "  if(len(word)%2==0):\n",
        "    print(word)\n",
        "\n"
      ],
      "metadata": {
        "colab": {
          "base_uri": "https://localhost:8080/"
        },
        "id": "YVXnRqYG-wfw",
        "outputId": "b889c2a9-609a-4502-cf41-6ce4b178ad78"
      },
      "execution_count": null,
      "outputs": [
        {
          "output_type": "stream",
          "name": "stdout",
          "text": [
            "enter the string:I am sarvadnya\n",
            "am\n"
          ]
        }
      ]
    },
    {
      "cell_type": "code",
      "source": [
        "# python program avoiding the space in calculating length of th estring using is space\n",
        "string='geeks for geeks 33 is  best'\n",
        "res=sum(not chr.isspace() for chr in string)\n",
        "print(\"the length of the string avoiding the spaces is :\",res)"
      ],
      "metadata": {
        "colab": {
          "base_uri": "https://localhost:8080/"
        },
        "id": "laj0l_aA96Uq",
        "outputId": "e0e0d8dd-436f-4c9c-e607-e975ba146cf9"
      },
      "execution_count": null,
      "outputs": [
        {
          "output_type": "stream",
          "name": "stdout",
          "text": [
            "the length of the string avoiding the spaces is : 21\n"
          ]
        }
      ]
    },
    {
      "cell_type": "code",
      "source": [
        "# Python program to upper case the half string\n",
        "string=str(input(\"enter the string\"))\n",
        "mystring=\" \"\n",
        "for i in range(0,len(string)):\n",
        "  if(i>=len(string)//2):\n",
        "    mystring=mystring+string[i].upper()\n",
        "  else:\n",
        "    mystring=mystring+string[i]\n",
        "print(mystring)"
      ],
      "metadata": {
        "colab": {
          "base_uri": "https://localhost:8080/"
        },
        "id": "En90e4_OA-Yr",
        "outputId": "b6b7da5f-adc5-4ee8-fba6-214c330bd6e7"
      },
      "execution_count": null,
      "outputs": [
        {
          "output_type": "stream",
          "name": "stdout",
          "text": [
            "enter the stringapples\n",
            " appLES\n"
          ]
        }
      ]
    },
    {
      "cell_type": "code",
      "source": [
        "# Python program to capitalize the first and last character of the string\n",
        "string=str(input(\"Enter the string\"))\n",
        "mystring=\"\"\n",
        "for i in range(0,len(string)):\n",
        "  if(i==0 or i==len(string)-1):\n",
        "    mystring=mystring+string[i].upper()\n",
        "  else:\n",
        "    \n",
        "    mystring=mystring+string[i]\n",
        "print(mystring)\n",
        "\n"
      ],
      "metadata": {
        "colab": {
          "base_uri": "https://localhost:8080/"
        },
        "id": "GwtisnRFQGNO",
        "outputId": "d4ebae77-df2a-49ba-bf7d-9ac289c37e83"
      },
      "execution_count": null,
      "outputs": [
        {
          "output_type": "stream",
          "name": "stdout",
          "text": [
            "Enter the stringgeeksforgeeks\n",
            "GeeksforgeekS\n"
          ]
        }
      ]
    },
    {
      "cell_type": "code",
      "source": [
        "# python program to capitalize the gfirst character and the last character of the every word of the string\n",
        "sentence=str(input('enter the string:'))\n",
        "words=sentence.split(\" \")\n",
        "mystring=\"\"\n",
        "newstring=\"\"\n",
        "for word in words:\n",
        "  for i in range(0,len(word)):\n",
        "    if(i==0 or i==len(word)-1):\n",
        "      mystring=mystring+word[i].upper()\n",
        "    else:\n",
        "      mystring=mystring+word[i]\n",
        "  mystring=mystring+\" \"\n",
        "print(mystring)\n",
        "   \n",
        "\n"
      ],
      "metadata": {
        "id": "XI0fld38SMAB",
        "colab": {
          "base_uri": "https://localhost:8080/"
        },
        "outputId": "a09b381f-0bae-427f-add9-10a2a006b026"
      },
      "execution_count": null,
      "outputs": [
        {
          "output_type": "stream",
          "name": "stdout",
          "text": [
            "enter the string:geeks for geeks\n",
            "GeekS FoR GeekS \n"
          ]
        }
      ]
    },
    {
      "cell_type": "code",
      "source": [
        "#  Python program to check whether string has atleast one number opr leter in given string\n",
        "def checkstring(string):\n",
        "  flag_1=False\n",
        "  flag_n=True\n",
        "  for i in string:\n",
        "    if i.isalpha():\n",
        "      flag_1=True\n",
        "    if i.isdigit():\n",
        "      flag_n=True\n",
        "  return flag_1 and flag_n\n",
        "\n",
        "print(checkstring(\"welcome2country34\"))\n",
        "print(checkstring(\"#$567*(())tyuiklaa*****\"))\n",
        "\n"
      ],
      "metadata": {
        "colab": {
          "base_uri": "https://localhost:8080/"
        },
        "id": "22EaplKzgnf8",
        "outputId": "a00e8716-8ddf-4334-ebea-91a6166a2a82"
      },
      "execution_count": null,
      "outputs": [
        {
          "output_type": "stream",
          "name": "stdout",
          "text": [
            "True\n",
            "True\n"
          ]
        }
      ]
    },
    {
      "cell_type": "code",
      "source": [
        "# Python program to acept the string which contains all wovels\n",
        "string=str(input(\"Enter the string\"))\n",
        "flag_1=False\n",
        "if \"AEIOU\" or \"aeiou\" in string:\n",
        "  flag_1=True\n",
        "if flag_1==True:\n",
        "  print(\"accepted\")\n",
        "else:\n",
        "  print(\"not accepted\")\n",
        "\n",
        "\n",
        "\n"
      ],
      "metadata": {
        "colab": {
          "base_uri": "https://localhost:8080/"
        },
        "id": "9JRKfSm6rDzh",
        "outputId": "57c1e6ab-8014-4253-94aa-17650ea7d50d"
      },
      "execution_count": null,
      "outputs": [
        {
          "output_type": "stream",
          "name": "stdout",
          "text": [
            "Enter the stringSEEquoial\n",
            "accepted\n"
          ]
        }
      ]
    },
    {
      "cell_type": "code",
      "source": [
        "# \n",
        "a = \"geeksforgeeks\"\n",
        "b = \"forgeeksgeeks\"\n",
        "if b in a:\n",
        "  print(\"Accepted\")\n",
        "else:\n",
        "  print(\"not accepted\")"
      ],
      "metadata": {
        "colab": {
          "base_uri": "https://localhost:8080/"
        },
        "id": "L1HbEIthb0oZ",
        "outputId": "23fb4ebe-af1f-48af-9eb7-39698fe17eff"
      },
      "execution_count": null,
      "outputs": [
        {
          "output_type": "stream",
          "name": "stdout",
          "text": [
            "not accepted\n"
          ]
        }
      ]
    },
    {
      "cell_type": "code",
      "source": [
        "# Python program to  copunt the number of matching pair in the string\n",
        "str1=str(input(\"enter the string:\"))\n",
        "str2=str(input(\"enter the string:\"))\n",
        "set_str1=set(str1)\n",
        "set_str2=set(str2)\n",
        "matching_pair=set_str1 & set_str2\n",
        "print(\"no of matching pairs in the string \",str(len(matching_pair)))\n"
      ],
      "metadata": {
        "colab": {
          "base_uri": "https://localhost:8080/"
        },
        "id": "9r0YDCUnr8m_",
        "outputId": "79e90539-d792-4d81-a6c3-cdbd3b08b91b"
      },
      "execution_count": null,
      "outputs": [
        {
          "output_type": "stream",
          "name": "stdout",
          "text": [
            "enter the string:aabcddek1112@\n",
            "enter the string:bb2211@55k\n",
            "no of matching pairs in the string  5\n"
          ]
        }
      ]
    },
    {
      "cell_type": "code",
      "source": [
        "# Python program to count the numbefr of vowels in string\n",
        "string=str(input(\"enter the string\"))\n",
        "count=0\n",
        "for i in string:\n",
        "  if i in \"aeiouAEIOU\":\n",
        "    count+=1\n",
        "print(count)"
      ],
      "metadata": {
        "colab": {
          "base_uri": "https://localhost:8080/"
        },
        "id": "BEnRwvaWySUH",
        "outputId": "c7375fff-726a-4497-82aa-99df1564a168"
      },
      "execution_count": null,
      "outputs": [
        {
          "output_type": "stream",
          "name": "stdout",
          "text": [
            "enter the stringGeeksforGeeks\n",
            "5\n"
          ]
        }
      ]
    },
    {
      "cell_type": "code",
      "source": [
        "# python program to remove all the duplictes from the string\n",
        "string=str(input(\"Enter the string\"))\n",
        "string_set=set(string)\n",
        "\n",
        "string_list=list(string_set)\n",
        "string_list.sort()\n",
        "for i in string_list:\n",
        "  new_string=new_string+i\n",
        "  \n",
        "print(new_string)\n",
        "\n",
        "  "
      ],
      "metadata": {
        "colab": {
          "base_uri": "https://localhost:8080/"
        },
        "id": "OS6qfAKtDHZA",
        "outputId": "2614c33c-0095-48d5-bbfd-44f92de27364"
      },
      "execution_count": null,
      "outputs": [
        {
          "output_type": "stream",
          "name": "stdout",
          "text": [
            "Enter the stringgeeksforgeeks\n",
            "efgkors\n"
          ]
        }
      ]
    },
    {
      "cell_type": "code",
      "source": [
        "# Pythjon program to find maximum times occuring character in the string\n",
        "string=str(input(\"Enter the string:\"))"
      ],
      "metadata": {
        "colab": {
          "base_uri": "https://localhost:8080/"
        },
        "id": "ta7uzapILDdO",
        "outputId": "f6eb3fdf-a803-4d03-fc7d-f13f2a5e0fcc"
      },
      "execution_count": null,
      "outputs": [
        {
          "output_type": "stream",
          "name": "stdout",
          "text": [
            "Enter the string:geeksforgeeks\n",
            "s\n"
          ]
        }
      ]
    },
    {
      "cell_type": "code",
      "source": [
        "S=\"Sarvadnya_Sanjay_Rajur\"\n",
        "\n",
        "print(S.split())"
      ],
      "metadata": {
        "colab": {
          "base_uri": "https://localhost:8080/"
        },
        "id": "KbBEmQcy78rn",
        "outputId": "d5636f7c-fd67-40aa-a557-0b29b2574040"
      },
      "execution_count": null,
      "outputs": [
        {
          "output_type": "stream",
          "name": "stdout",
          "text": [
            "['Sarvadnya_Sanjay_Rajur']\n"
          ]
        }
      ]
    },
    {
      "cell_type": "markdown",
      "source": [
        "# Python Practical Questions"
      ],
      "metadata": {
        "id": "12bWu-yk85jP"
      }
    },
    {
      "cell_type": "code",
      "source": [
        "# python Program to Check whether the number is positive or negative\n",
        "n=int(input(\"Enter the number:\"))\n",
        "if(n>0):\n",
        "  print(\"the number is positive number\")\n",
        "else:\n",
        "  print(\"The number is negative number\")"
      ],
      "metadata": {
        "colab": {
          "base_uri": "https://localhost:8080/"
        },
        "id": "oXzGSidj9Clf",
        "outputId": "134a9954-9782-4fe5-ea64-1b1dcdb05aec"
      },
      "execution_count": null,
      "outputs": [
        {
          "output_type": "stream",
          "name": "stdout",
          "text": [
            "Enter the number:5\n",
            "the number is positive number\n"
          ]
        }
      ]
    },
    {
      "cell_type": "code",
      "source": [
        "# Python Program to read a number n and compute n+nn+nnn\n",
        "n=int(input(\"Enter the number:\"))\n",
        "temp=str(n)\n",
        "t1=temp+temp\n",
        "t2=temp+temp+temp\n",
        "compute=n+int(t1)+int(t2)\n",
        "print(\"compute:\",compute)\n",
        "\n"
      ],
      "metadata": {
        "colab": {
          "base_uri": "https://localhost:8080/"
        },
        "id": "dGAvHIem9-bT",
        "outputId": "c6656aaf-99fc-4177-dfe1-1e2c23498869"
      },
      "execution_count": null,
      "outputs": [
        {
          "output_type": "stream",
          "name": "stdout",
          "text": [
            "Enter the number:20\n",
            "compute: 204060\n"
          ]
        }
      ]
    },
    {
      "cell_type": "code",
      "source": [
        " # Python program to print all the number divisible by the number in the given range\n",
        " n=int(input(\"Enter the divisor:\"))\n",
        " lower=int(input(\"Enter the lower range limit:\"))\n",
        " upper=int(input(\"Enter the upoper range limit:\"))\n",
        " for i in range(lower,upper+1):\n",
        "   if(i%n==0):\n",
        "     print(i)\n"
      ],
      "metadata": {
        "colab": {
          "base_uri": "https://localhost:8080/"
        },
        "id": "LfWXS0YR_FDT",
        "outputId": "c24a92ba-ec9d-4eb5-a433-1b64f51d87e7"
      },
      "execution_count": null,
      "outputs": [
        {
          "output_type": "stream",
          "name": "stdout",
          "text": [
            "Enter the divisor:4\n",
            "Enter the lower range limit:10\n",
            "Enter the upoper range limit:60\n",
            "12\n",
            "16\n",
            "20\n",
            "24\n",
            "28\n",
            "32\n",
            "36\n",
            "40\n",
            "44\n",
            "48\n",
            "52\n",
            "56\n",
            "60\n"
          ]
        }
      ]
    },
    {
      "cell_type": "code",
      "source": [
        "# Python program to find the sum of digits in the number\n",
        "n=int(input(\"enter the number:\"))\n",
        "sum=0\n",
        "while(n>0):\n",
        "  dig=n%10\n",
        "  sum=sum+dig\n",
        "  n=n//10\n",
        "print(\"Sum of the digits:\",sum)\n",
        "\n",
        "\n",
        "\n",
        "\n",
        "\n",
        "\n"
      ],
      "metadata": {
        "colab": {
          "base_uri": "https://localhost:8080/"
        },
        "id": "M9ESEgNi_fw6",
        "outputId": "d056a86b-9af3-49e2-b91c-b94bd901c72c"
      },
      "execution_count": null,
      "outputs": [
        {
          "output_type": "stream",
          "name": "stdout",
          "text": [
            "enter the number:216\n",
            "Sum of the digits: 9\n"
          ]
        }
      ]
    },
    {
      "cell_type": "code",
      "source": [
        "# Python Program to printall the integers aren't divisible by 2 or 3 and lie between 1 and 50\n",
        "for i in range(1,50+1):\n",
        "  if(i%2==0 or i%3==0):\n",
        "    continue\n",
        "  print(i)\n",
        "    \n"
      ],
      "metadata": {
        "colab": {
          "base_uri": "https://localhost:8080/"
        },
        "id": "Y7iYZtznBaH3",
        "outputId": "42e7e7ab-3806-4773-dce1-977e1a1f33a0"
      },
      "execution_count": null,
      "outputs": [
        {
          "output_type": "stream",
          "name": "stdout",
          "text": [
            "1\n",
            "5\n",
            "7\n",
            "11\n",
            "13\n",
            "17\n",
            "19\n",
            "23\n",
            "25\n",
            "29\n",
            "31\n",
            "35\n",
            "37\n",
            "41\n",
            "43\n",
            "47\n",
            "49\n"
          ]
        }
      ]
    },
    {
      "cell_type": "code",
      "source": [
        "# Python program to check whether the number is the perfect number or not:\n",
        "n=int(input(\"Enter the number:\"))\n",
        "sum=0\n",
        "for i in range(1,n):\n",
        "  if (n%i==0):\n",
        "    sum=sum+i\n",
        "if(n==sum):\n",
        "  print(n,\" The number is perfect number\")\n",
        "else:\n",
        "  print(n,\"The number is not the perfect number\")\n",
        "  \n",
        "\n",
        "\n",
        "\n",
        "\n",
        "\n"
      ],
      "metadata": {
        "colab": {
          "base_uri": "https://localhost:8080/"
        },
        "id": "BRhButnNCpO5",
        "outputId": "30bf4a1f-2f24-45cf-daa1-9b95eebe05db"
      },
      "execution_count": null,
      "outputs": [
        {
          "output_type": "stream",
          "name": "stdout",
          "text": [
            "Enter the number:496\n",
            "496  The number is perfect number\n"
          ]
        }
      ]
    },
    {
      "cell_type": "code",
      "source": [
        "# Python program to find the reverse number\n",
        "\n",
        "n=int(input(\"enter the number:\"))\n",
        "rev=0\n",
        "while(n>0):\n",
        "  dig=n%10\n",
        "  rev=rev*10+dig\n",
        "  n=n//10\n",
        "print(\"The reverse of the number:\",rev)\n",
        "\n",
        "\n"
      ],
      "metadata": {
        "colab": {
          "base_uri": "https://localhost:8080/"
        },
        "id": "JvPSoZgtF6YQ",
        "outputId": "7e9ac251-0ab8-4ed0-bcb8-8adc0f58ad3d"
      },
      "execution_count": null,
      "outputs": [
        {
          "output_type": "stream",
          "name": "stdout",
          "text": [
            "enter the number:612\n",
            "The reverse of the number: 216\n"
          ]
        }
      ]
    },
    {
      "cell_type": "code",
      "source": [
        "# python program to find whether the number is a palindrome or not\n",
        "n=int(input('Enter the number:'))\n",
        "temp=n\n",
        "rev=0\n",
        "while(n>0):\n",
        "  dig=n%10\n",
        "  rev=rev*10+dig\n",
        "  n=n//10\n",
        "\n",
        "if(temp==rev):\n",
        "  print(temp,\"The number is palindrome\")\n",
        "\n",
        "  \n",
        "\n"
      ],
      "metadata": {
        "colab": {
          "base_uri": "https://localhost:8080/"
        },
        "id": "cWcfgY5CMg65",
        "outputId": "30fec5d9-1efb-4768-db87-548fb2b429d6"
      },
      "execution_count": null,
      "outputs": [
        {
          "output_type": "stream",
          "name": "stdout",
          "text": [
            "Enter the number:121\n",
            "121 The number is palindrome\n"
          ]
        }
      ]
    },
    {
      "cell_type": "code",
      "source": [
        "# Python Program to check collatz conjecture\n",
        "n=int(input(\"Enter the number:\"))\n",
        "while(n>1):\n",
        "  print(n,end=' ')\n",
        "  if(n%2==1):\n",
        "    n=3*n+1\n",
        "  else:\n",
        "    n=n//2\n",
        "print(1,end=' ')"
      ],
      "metadata": {
        "colab": {
          "base_uri": "https://localhost:8080/"
        },
        "id": "3CXt6jT6RHXN",
        "outputId": "a6b10c3d-d43a-4b1d-fb00-1b245738e550"
      },
      "execution_count": null,
      "outputs": [
        {
          "output_type": "stream",
          "name": "stdout",
          "text": [
            "Enter the number:11\n",
            "11 34 17 52 26 13 40 20 10 5 16 8 4 2 1 "
          ]
        }
      ]
    },
    {
      "cell_type": "code",
      "source": [
        "# Python program gto print the Collatz conjecture\n",
        "n=int(input(\"Enter the value:\"))\n",
        "while(n>1):\n",
        "  print(n,end=\" \")\n",
        "  if(n%2==1):\n",
        "    n=3*n+1\n",
        "  else:\n",
        "    n=n//2\n",
        "  \n",
        "print(1,end=\" \")\n"
      ],
      "metadata": {
        "colab": {
          "base_uri": "https://localhost:8080/"
        },
        "id": "z4ZwvlDMSXc9",
        "outputId": "fdec5401-3969-4c58-ec54-017d4ffae490"
      },
      "execution_count": null,
      "outputs": [
        {
          "output_type": "stream",
          "name": "stdout",
          "text": [
            "Enter the value:24\n",
            "24 12 6 3 10 5 16 8 4 2 1 "
          ]
        }
      ]
    },
    {
      "cell_type": "code",
      "source": [],
      "metadata": {
        "colab": {
          "base_uri": "https://localhost:8080/",
          "height": 269
        },
        "id": "xiZy_5GLTHJi",
        "outputId": "6b64b044-3975-484f-c544-a47079e4e559"
      },
      "execution_count": null,
      "outputs": [
        {
          "output_type": "stream",
          "name": "stdout",
          "text": [
            "Enter the number:9\n",
            "1 + 2 + 3 + 4 + 5 + 6 + 7 + 8 + 9 "
          ]
        },
        {
          "output_type": "error",
          "ename": "TypeError",
          "evalue": "ignored",
          "traceback": [
            "\u001b[0;31m---------------------------------------------------------------------------\u001b[0m",
            "\u001b[0;31mTypeError\u001b[0m                                 Traceback (most recent call last)",
            "\u001b[0;32m<ipython-input-53-2f59f909f6a2>\u001b[0m in \u001b[0;36m<module>\u001b[0;34m()\u001b[0m\n\u001b[1;32m      7\u001b[0m   \u001b[0;32mif\u001b[0m\u001b[0;34m(\u001b[0m\u001b[0mi\u001b[0m\u001b[0;34m<\u001b[0m\u001b[0mn\u001b[0m\u001b[0;34m)\u001b[0m\u001b[0;34m:\u001b[0m\u001b[0;34m\u001b[0m\u001b[0;34m\u001b[0m\u001b[0m\n\u001b[1;32m      8\u001b[0m     \u001b[0mprint\u001b[0m\u001b[0;34m(\u001b[0m\u001b[0;34m\"+\"\u001b[0m\u001b[0;34m,\u001b[0m\u001b[0msep\u001b[0m\u001b[0;34m=\u001b[0m\u001b[0;34m\" \"\u001b[0m\u001b[0;34m,\u001b[0m\u001b[0mend\u001b[0m\u001b[0;34m=\u001b[0m\u001b[0;34m\" \"\u001b[0m\u001b[0;34m)\u001b[0m\u001b[0;34m\u001b[0m\u001b[0;34m\u001b[0m\u001b[0m\n\u001b[0;32m----> 9\u001b[0;31m \u001b[0mprint\u001b[0m\u001b[0;34m(\u001b[0m\u001b[0;34m\"=\"\u001b[0m\u001b[0;34m,\u001b[0m\u001b[0msum\u001b[0m\u001b[0;34m(\u001b[0m\u001b[0ma\u001b[0m\u001b[0;34m)\u001b[0m\u001b[0;34m)\u001b[0m\u001b[0;34m\u001b[0m\u001b[0;34m\u001b[0m\u001b[0m\n\u001b[0m\u001b[1;32m     10\u001b[0m \u001b[0;34m\u001b[0m\u001b[0m\n\u001b[1;32m     11\u001b[0m \u001b[0mprint\u001b[0m\u001b[0;34m(\u001b[0m\u001b[0;34m)\u001b[0m\u001b[0;34m\u001b[0m\u001b[0;34m\u001b[0m\u001b[0m\n",
            "\u001b[0;31mTypeError\u001b[0m: 'int' object is not callable"
          ]
        }
      ]
    },
    {
      "cell_type": "code",
      "source": [
        "# Swap The two numbers without using  temporary number\n",
        "a=int(input(\"Enter the a:\"))\n",
        "b=int(input(\"Enter the b:\"))\n",
        "a=a+b\n",
        "b=a-b\n",
        "a=a-b\n",
        "print(\"a is:\",a,\"b is:\",b)\n"
      ],
      "metadata": {
        "colab": {
          "base_uri": "https://localhost:8080/"
        },
        "id": "UAo1I7W1XRTA",
        "outputId": "02ffc005-5618-4f6a-c413-140d2217fe05"
      },
      "execution_count": null,
      "outputs": [
        {
          "output_type": "stream",
          "name": "stdout",
          "text": [
            "Enter the a:25\n",
            "Enter the b:56\n",
            "a is: 56 b is: 25\n"
          ]
        }
      ]
    },
    {
      "cell_type": "code",
      "source": [
        "a=[]\n",
        "n=int(input(\"enter the number of elements in list\"))\n",
        "for i in range (0,n+1):\n",
        "  ele=int(input(\"Enter the number the element\"+str(i+1)+\"=\"))\n",
        "  a.append(i)\n",
        "avg=sum(a)/len(a)\n",
        "print(a)\n",
        "\n"
      ],
      "metadata": {
        "id": "8BgFVqajhB7j",
        "colab": {
          "base_uri": "https://localhost:8080/"
        },
        "outputId": "1e0192a2-5174-4b20-f04c-a09b97c1eacf"
      },
      "execution_count": null,
      "outputs": [
        {
          "output_type": "stream",
          "name": "stdout",
          "text": [
            "enter the number of elements in list5\n",
            "Enter the number the element1=23\n",
            "Enter the number the element2=45\n",
            "Enter the number the element3=56\n",
            "Enter the number the element4=67\n",
            "Enter the number the element5=89\n",
            "Enter the number the element6=90\n",
            "[0, 1, 2, 3, 4, 5]\n"
          ]
        }
      ]
    },
    {
      "cell_type": "code",
      "source": [
        "# Python program to accedpt three digits and print all the possible combinations from digits\n",
        "a=int(input(\"enter the number a\"))\n",
        "b=int(input(\"Enter the nuber b\"))\n",
        "c=int(input(\"Enter The number c\"))\n",
        "d=[]\n",
        "d.append(a)\n",
        "d.append(b)\n",
        "d.append(c)\n",
        "for i in range(0,3):\n",
        "  for j in range(0,3):\n",
        "    for k in range(0,3):\n",
        "      if(i!=j &  j!=k & k!=i):\n",
        "        print(d[i],d[j],d[k])\n",
        "\n",
        "  "
      ],
      "metadata": {
        "colab": {
          "base_uri": "https://localhost:8080/"
        },
        "id": "SHK8dsfFS4Q5",
        "outputId": "a6cb781b-b78a-4890-c935-3010f0674852"
      },
      "execution_count": null,
      "outputs": [
        {
          "output_type": "stream",
          "name": "stdout",
          "text": [
            "enter the number a1\n",
            "Enter the nuber b2\n",
            "Enter The number c3\n",
            "1 2 3\n",
            "1 3 2\n",
            "2 1 3\n",
            "2 3 1\n",
            "3 1 2\n",
            "3 2 1\n"
          ]
        }
      ]
    },
    {
      "cell_type": "code",
      "source": [
        "# Python Program to print odd number within given range\n",
        "lower=int(input(\"enter the lower range limit:\"))\n",
        "upper=int(input(\"Enter the upper range limit:\"))\n",
        "for  i in range(lower,upper+1):\n",
        "  if(n%2!=0):\n",
        "    print(i)\n"
      ],
      "metadata": {
        "colab": {
          "base_uri": "https://localhost:8080/"
        },
        "id": "V0gvEbWJXjAS",
        "outputId": "f03cf579-632d-4f3b-e13f-c80e15079753"
      },
      "execution_count": null,
      "outputs": [
        {
          "output_type": "stream",
          "name": "stdout",
          "text": [
            "enter the lower range limit:10\n",
            "Enter the upper range limit:122\n",
            "10\n",
            "11\n",
            "12\n",
            "13\n",
            "14\n",
            "15\n",
            "16\n",
            "17\n",
            "18\n",
            "19\n",
            "20\n",
            "21\n",
            "22\n",
            "23\n",
            "24\n",
            "25\n",
            "26\n",
            "27\n",
            "28\n",
            "29\n",
            "30\n",
            "31\n",
            "32\n",
            "33\n",
            "34\n",
            "35\n",
            "36\n",
            "37\n",
            "38\n",
            "39\n",
            "40\n",
            "41\n",
            "42\n",
            "43\n",
            "44\n",
            "45\n",
            "46\n",
            "47\n",
            "48\n",
            "49\n",
            "50\n",
            "51\n",
            "52\n",
            "53\n",
            "54\n",
            "55\n",
            "56\n",
            "57\n",
            "58\n",
            "59\n",
            "60\n",
            "61\n",
            "62\n",
            "63\n",
            "64\n",
            "65\n",
            "66\n",
            "67\n",
            "68\n",
            "69\n",
            "70\n",
            "71\n",
            "72\n",
            "73\n",
            "74\n",
            "75\n",
            "76\n",
            "77\n",
            "78\n",
            "79\n",
            "80\n",
            "81\n",
            "82\n",
            "83\n",
            "84\n",
            "85\n",
            "86\n",
            "87\n",
            "88\n",
            "89\n",
            "90\n",
            "91\n",
            "92\n",
            "93\n",
            "94\n",
            "95\n",
            "96\n",
            "97\n",
            "98\n",
            "99\n",
            "100\n",
            "101\n",
            "102\n",
            "103\n",
            "104\n",
            "105\n",
            "106\n",
            "107\n",
            "108\n",
            "109\n",
            "110\n",
            "111\n",
            "112\n",
            "113\n",
            "114\n",
            "115\n",
            "116\n",
            "117\n",
            "118\n",
            "119\n",
            "120\n",
            "121\n",
            "122\n"
          ]
        }
      ]
    },
    {
      "cell_type": "code",
      "source": [
        "# Python problem to read a number n and print the natural number pattern\n",
        "n=int(input(\"enter the number :\"))\n",
        "a=[]\n",
        "for i in range(1,n+1):\n",
        "  print(i,sep=\" \",end=\" \")\n",
        "  if(i<n):\n",
        "    print(\"+\",sep=\"\",end=\" \")\n",
        "  a.append(i)\n",
        "\n",
        "  \n",
        "print(\"=\",sum(a))\n",
        "\n",
        "\n",
        "\n"
      ],
      "metadata": {
        "colab": {
          "base_uri": "https://localhost:8080/"
        },
        "id": "KMg-eb4DY1me",
        "outputId": "48e6bb0b-194d-49bb-f2c1-b86be9c25845"
      },
      "execution_count": null,
      "outputs": [
        {
          "output_type": "stream",
          "name": "stdout",
          "text": [
            "enter the number :5\n",
            "1 + 2 + 3 + 4 + 5 = 15\n"
          ]
        }
      ]
    },
    {
      "cell_type": "code",
      "source": [
        "n=int(input(\"Enter a number: \"))\n",
        "for i in range(0,n):\n",
        "    for j in range(0,n):\n",
        "        if(i==j):\n",
        "            print(\"1\",sep=\" \",end=\" \")\n",
        "        else:\n",
        "            print(\"0\",sep=\" \",end=\" \")\n",
        "    print()"
      ],
      "metadata": {
        "colab": {
          "base_uri": "https://localhost:8080/"
        },
        "id": "ZHghOt2Obfuh",
        "outputId": "1b13c257-b8d6-4997-e0bf-751e142bd11a"
      },
      "execution_count": null,
      "outputs": [
        {
          "output_type": "stream",
          "name": "stdout",
          "text": [
            "Enter a number: 8\n",
            "1 0 0 0 0 0 0 0 \n",
            "0 1 0 0 0 0 0 0 \n",
            "0 0 1 0 0 0 0 0 \n",
            "0 0 0 1 0 0 0 0 \n",
            "0 0 0 0 1 0 0 0 \n",
            "0 0 0 0 0 1 0 0 \n",
            "0 0 0 0 0 0 1 0 \n",
            "0 0 0 0 0 0 0 1 \n"
          ]
        }
      ]
    },
    {
      "cell_type": "code",
      "source": [
        "# Python program to find the prime factors of the given numbers\n",
        "n=int(input((\"Enter the number:\")))\n",
        "print(\"Prime factors are\")\n",
        "i=1\n",
        "while(i<=n):\n",
        "  k=0\n",
        "  if(n%i==0):\n",
        "    j=1\n",
        "    while(j<=i):\n",
        "      if(i%j==0):\n",
        "        k=k+1\n",
        "      j=j+1\n",
        "    if(k==2):\n",
        "      print(i)\n",
        "  i=i+1    \n",
        "\n",
        "      \n",
        "\n",
        "  "
      ],
      "metadata": {
        "colab": {
          "base_uri": "https://localhost:8080/"
        },
        "id": "7bMkVmGdeCYN",
        "outputId": "e32020b9-612e-4665-ed6a-8027358784fe"
      },
      "execution_count": null,
      "outputs": [
        {
          "output_type": "stream",
          "name": "stdout",
          "text": [
            "Enter the number:20\n",
            "Prime factors are\n",
            "2\n",
            "5\n"
          ]
        }
      ]
    },
    {
      "cell_type": "code",
      "source": [
        "# Prython program to generate all the divisors of the number\n",
        "n=int(input(\"Enter the number:\"))\n",
        "print(\"Divisors of \"+str(n))\n",
        "for i in range(1,n):\n",
        "  if(n%i==0):\n",
        "    print(i)\n"
      ],
      "metadata": {
        "colab": {
          "base_uri": "https://localhost:8080/"
        },
        "id": "b_-TQJ7lgAVM",
        "outputId": "a5e8258e-e042-44b1-cd33-36cb8082392f"
      },
      "execution_count": null,
      "outputs": [
        {
          "output_type": "stream",
          "name": "stdout",
          "text": [
            "Enter the number:20\n",
            "Divisors of 20\n",
            "1\n",
            "2\n",
            "4\n",
            "5\n",
            "10\n"
          ]
        }
      ]
    },
    {
      "cell_type": "code",
      "source": [
        "# Python program to print the table of the given number\n",
        "n=int(input(\"Enter the number\"))\n",
        "for i in range(1,n+1):\n",
        "  print(str(n)+\"X\"+str(i)+\"=\",n*i)\n",
        "\n"
      ],
      "metadata": {
        "colab": {
          "base_uri": "https://localhost:8080/"
        },
        "id": "87T0ufZBhAfE",
        "outputId": "801288da-9876-47b1-8f72-65a3b0b767cb"
      },
      "execution_count": null,
      "outputs": [
        {
          "output_type": "stream",
          "name": "stdout",
          "text": [
            "Enter the number10\n",
            "10X1= 10\n",
            "10X2= 20\n",
            "10X3= 30\n",
            "10X4= 40\n",
            "10X5= 50\n",
            "10X6= 60\n",
            "10X7= 70\n",
            "10X8= 80\n",
            "10X9= 90\n",
            "10X10= 100\n"
          ]
        }
      ]
    },
    {
      "cell_type": "code",
      "source": [
        "# write a program to find the sum of neagtive numbers,positive even numbers and positive odd numbers in a list\n",
        "l=[] # empty user defined list\n",
        "ne=[] # for negative numbers \n",
        "o=[] # for odd positive numbers\n",
        "e=[]  # for even positve  numbers\n",
        "\n",
        "n=int(input(\"enter the number of elements in the list:\"))\n",
        "for i in range(0,n):\n",
        "  ele=int(input(\"Enter the element\"+str(i+1)+\"=\"))\n",
        "  l.append(ele)\n",
        "for j in l:\n",
        "  if(j>0):\n",
        "    if(j%2==0):\n",
        "      e.append(j)\n",
        "    else:\n",
        "      o.append(j)\n",
        "  else:\n",
        "    ne.append(j)\n",
        "print(\"sum of negative numbers:\",sum(ne))\n",
        "print(\"sum of even positive numbers:\",sum(e))\n",
        "print(\"sum of odd positive numbers:\",sum(o6))\n",
        "\n",
        "  \n",
        "\n"
      ],
      "metadata": {
        "colab": {
          "base_uri": "https://localhost:8080/"
        },
        "id": "EW9JVR6gixcf",
        "outputId": "607df891-32aa-4cf3-89a7-25e731c98f4d"
      },
      "execution_count": null,
      "outputs": [
        {
          "output_type": "stream",
          "name": "stdout",
          "text": [
            "enter the number of elements in the list:10\n",
            "Enter the element1=-1\n",
            "Enter the element2=2\n",
            "Enter the element3=-3\n",
            "Enter the element4=-9\n",
            "Enter the element5=10\n",
            "Enter the element6=11\n",
            "Enter the element7=-100\n",
            "Enter the element8=-10\n",
            "Enter the element9=122\n",
            "Enter the element10=34\n",
            "sum of negative numbers: -123\n",
            "sum of even positive numbers: 168\n",
            "sum of odd positive numbers: 11\n"
          ]
        }
      ]
    },
    {
      "cell_type": "code",
      "source": [
        "# python program to print the largest even number and the largest odd number in the list\n",
        "l=[]\n",
        "n=int(input(\"Enter the number of elements in the list:\"))\n",
        "for i in range(0,n):\n",
        "  ele=int(input(\"Enter the element\"+str(i+1)+\"=\"))\n",
        "  l.append(ele)\n",
        "odd=[]\n",
        "even=[]\n",
        "for j in l:\n",
        "  if(j%2==0):\n",
        "    even.append(j)\n",
        "  else:\n",
        "    odd.append(j)\n",
        "even.sort()\n",
        "odd.sort()\n",
        "print(\"largest even number\",even[len(even)-1])\n",
        "print(\"largest odd number\",odd[len(odd)-1])\n",
        "\n",
        "  \n",
        "\n"
      ],
      "metadata": {
        "colab": {
          "base_uri": "https://localhost:8080/"
        },
        "id": "qCOnvhk7nzaP",
        "outputId": "b7d4d970-0d2a-4d72-9529-96bb308d0d97"
      },
      "execution_count": null,
      "outputs": [
        {
          "output_type": "stream",
          "name": "stdout",
          "text": [
            "Enter the number of elements in the list:5\n",
            "Enter the element1=23\n",
            "Enter the element2=45\n",
            "Enter the element3=23\n",
            "Enter the element4=67\n",
            "Enter the element5=90\n",
            "largest even number 90\n",
            "largest odd number 67\n"
          ]
        }
      ]
    },
    {
      "cell_type": "code",
      "source": [
        "# Python program to find the largest number in the list\n",
        "l=[]\n",
        "n=int(input(\"enter the number of elements in the list\"))\n",
        "for i in range(0,n):\n",
        "  ele=int(input(\"Enter the number of elements in the list\"))\n",
        "  l.append(ele)\n",
        "l.sort()\n",
        "print(\"largest element in the list:\",l[len(l)-1])\n",
        "\n",
        "\n",
        "\n",
        "\n",
        "\n",
        "\n",
        "\n"
      ],
      "metadata": {
        "colab": {
          "base_uri": "https://localhost:8080/"
        },
        "id": "Q5gGxOHlqIxI",
        "outputId": "d264153f-c89c-4891-96d2-e7ebd02f485f"
      },
      "execution_count": null,
      "outputs": [
        {
          "output_type": "stream",
          "name": "stdout",
          "text": [
            "enter the number of elements in the list5\n",
            "Enter the number of elements in the list23\n",
            "Enter the number of elements in the list56\n",
            "Enter the number of elements in the list256\n",
            "Enter the number of elements in the list21\n",
            "Enter the number of elements in the list789\n",
            "largest element in the list: 789\n"
          ]
        }
      ]
    },
    {
      "cell_type": "code",
      "source": [
        "# Python program to merge two lists and sort it\n",
        "l1=[]\n",
        "l2=[]\n",
        "n1=int(input(\"Enter the number of elements in the list1\"))\n",
        "n2=int(input(\"Enter the number of elements in the list2\"))\n",
        "for i in range(0,n1):\n",
        "  ele=int(input(\"Enter the element\"+str(i+1)+\"=\"))\n",
        "  l1.append(ele)\n",
        "\n",
        "for j in range(0,n2):\n",
        "  ele=int(input(\"Enter the element\"+str(j+1)+\"=\"))\n",
        "  l1.append(ele)\n",
        "\n",
        "l=l1+l2\n",
        "l.sort()\n",
        "print(\"sorted merged list:\",l)\n",
        "\n",
        "\n"
      ],
      "metadata": {
        "colab": {
          "base_uri": "https://localhost:8080/"
        },
        "id": "Fw6T72r55eO3",
        "outputId": "d569d395-9f90-4d1c-89dc-feaf27ef2ed7"
      },
      "execution_count": null,
      "outputs": [
        {
          "output_type": "stream",
          "name": "stdout",
          "text": [
            "Enter the number of elements in the list15\n",
            "Enter the number of elements in the list25\n",
            "Enter the element1=22\n",
            "Enter the element2=12\n",
            "Enter the element3=45\n",
            "Enter the element4=67\n",
            "Enter the element5=79\n",
            "Enter the element1=56\n",
            "Enter the element2=78\n",
            "Enter the element3=90\n",
            "Enter the element4=789\n",
            "Enter the element5=54\n",
            "sorted merged list: [12, 22, 45, 54, 56, 67, 78, 79, 90, 789]\n"
          ]
        }
      ]
    },
    {
      "cell_type": "code",
      "source": [
        "# Python program to put even and odd numbers in the different list\n",
        "l=[]\n",
        "odd=[]\n",
        "even=[]\n",
        "n=int(input(\"Enter the number of elements in the list:\"))\n",
        "for i in range(0,n):\n",
        "  ele=int(input(\"Enter the element\"+str(i+1)+\"=\"))\n",
        "  l.append(i)\n",
        "for j in l:\n",
        "  if(j%2==0):\n",
        "    even.append(j)\n",
        "  else:\n",
        "    odd.append(j)\n",
        "print(\"odd list:\",odd)\n",
        "print(\"even list\",even)\n"
      ],
      "metadata": {
        "colab": {
          "base_uri": "https://localhost:8080/"
        },
        "id": "-UveaFfM66ct",
        "outputId": "1702a847-9f10-4bb6-ec0d-156871163948"
      },
      "execution_count": null,
      "outputs": [
        {
          "output_type": "stream",
          "name": "stdout",
          "text": [
            "Enter the number of elements in the list:5\n",
            "Enter the element1=12\n",
            "Enter the element2=23\n",
            "Enter the element3=45\n",
            "Enter the element4=33\n",
            "Enter the element5=67\n",
            "odd list: [1, 3]\n",
            "even list [0, 2, 4]\n"
          ]
        }
      ]
    },
    {
      "cell_type": "code",
      "source": [
        "# python program to swap the first and last elemets of the list\n",
        "l=[]\n",
        "n=int(input(\"Enter the number of elements in the list:\"))\n",
        "for i in range(0,n):\n",
        "  ele=int(input(\"Enter the element\"+str(i+1)+\"=\"))\n",
        "  l.append(ele)\n",
        "print(\"The original list:\",l)\n",
        "temp=l[0]\n",
        "l[0]=l[n-1]\n",
        "l[n-1]=temp\n",
        "print(l)\n",
        "\n"
      ],
      "metadata": {
        "colab": {
          "base_uri": "https://localhost:8080/"
        },
        "id": "3WG5cfDf8niJ",
        "outputId": "b1f06a4a-65eb-4879-d5d3-af54d88b31ab"
      },
      "execution_count": null,
      "outputs": [
        {
          "output_type": "stream",
          "name": "stdout",
          "text": [
            "Enter the number of elements in the list:5\n",
            "Enter the element1=1\n",
            "Enter the element2=2\n",
            "Enter the element3=3\n",
            "Enter the element4=4\n",
            "Enter the element5=5\n",
            "The original list: [1, 2, 3, 4, 5]\n",
            "[5, 2, 3, 4, 1]\n"
          ]
        }
      ]
    },
    {
      "cell_type": "code",
      "source": [
        "# python program to create alist with tuple having second elementy as the square of first\n",
        "lower=int(input(\"Enter the lower range limit:\"))\n",
        "upper=int(input(\"Enter the upper range limit:\"))\n",
        "l=[(i,i**2) for i in range(lower,upper+1)]\n",
        "print(l)"
      ],
      "metadata": {
        "colab": {
          "base_uri": "https://localhost:8080/"
        },
        "id": "1ahYOmGQ_z6C",
        "outputId": "d71e894a-0efa-4f48-ee2d-90f38306232d"
      },
      "execution_count": null,
      "outputs": [
        {
          "output_type": "stream",
          "name": "stdout",
          "text": [
            "Enter the lower range limit:10\n",
            "Enter the upper range limit:20\n",
            "[(10, 100), (11, 121), (12, 144), (13, 169), (14, 196), (15, 225), (16, 256), (17, 289), (18, 324), (19, 361), (20, 400)]\n"
          ]
        }
      ]
    },
    {
      "cell_type": "code",
      "source": [
        "# Python program to detect whether the two strings are anagrams or not\n",
        "s1=input(\"Enter the string1\")\n",
        "s2=input(\"Enter the string2\")\n",
        "if(sorted(s1)==sorted(s2)):\n",
        "  print(\"strings are anagrams\")\n",
        "  "
      ],
      "metadata": {
        "colab": {
          "base_uri": "https://localhost:8080/"
        },
        "id": "xBuqNx5dFix7",
        "outputId": "0e566774-adfc-4fe9-a96c-84e459ff042e"
      },
      "execution_count": null,
      "outputs": [
        {
          "output_type": "stream",
          "name": "stdout",
          "text": [
            "Enter the string1set\n",
            "Enter the string2tes\n",
            "strings are anagrams\n"
          ]
        }
      ]
    },
    {
      "cell_type": "code",
      "source": [
        "l=[]\n",
        "n=int(input(\"Enter the number of elements in the list:\"))\n",
        "for i in range(0,n):\n",
        "  ele=input(\"Enter the element\"+str(i+1)+\"=\")\n",
        "  l.append(ele)\n",
        "word=input(\"Enter the word to be removed:\")\n",
        "occurence=int(input(\"Enter the occurence to be removed\"))\n",
        "occurence_count=0\n",
        "b=[] # List after removing the ith occurence\n",
        "for j in l:\n",
        "  if(j==word):\n",
        "    occurence_count+=1\n",
        "    if(occurence_count==occurence):\n",
        "      continue\n",
        "  b.append(j)\n",
        "  \n",
        "  \n",
        "      \n",
        "    \n",
        "print(\"The original list:\",l)\n",
        "print(\"The list:\",b)\n",
        "\n"
      ],
      "metadata": {
        "id": "yobg4YqWGECM"
      },
      "execution_count": null,
      "outputs": []
    },
    {
      "cell_type": "code",
      "source": [
        "# python program to add key value pair to dictionary\n",
        "\n",
        "keys=[]\n",
        "values=[]\n",
        "n=int(input(\"enter the number of elements in dictionary:\"))\n",
        "print(\"enter the keys\")\n",
        "for i in range(0,n):\n",
        "  key=input(\"enter the key:\")\n",
        "  keys.append(key)\n",
        "  \n",
        "print(\"Enter the values\")\n",
        "\n",
        "for j in range(0,n):\n",
        "  value=input(\"enter the value:\")\n",
        "  values.append(value)\n",
        "\n",
        "d=dict(zip(keys,values))\n",
        "print(d)\n",
        "\n",
        "\n",
        "\n"
      ],
      "metadata": {
        "colab": {
          "base_uri": "https://localhost:8080/"
        },
        "id": "CPMqQ6tWJCbh",
        "outputId": "951ba065-30ec-4477-ad86-a989f30c9499"
      },
      "execution_count": null,
      "outputs": [
        {
          "output_type": "stream",
          "name": "stdout",
          "text": [
            "enter the number of elements in dictionary:5\n",
            "enter the keys\n",
            "enter the key:1\n",
            "enter the key:2\n",
            "enter the key:3\n",
            "enter the key:4\n",
            "enter the key:5\n",
            "Enter the values\n",
            "enter the value:apple\n",
            "enter the value:mango\n",
            "enter the value:orange\n",
            "enter the value:bnana\n",
            "enter the value:grapes\n",
            "{'1': 'apple', '2': 'mango', '3': 'orange', '4': 'bnana', '5': 'grapes'}\n"
          ]
        }
      ]
    },
    {
      "cell_type": "code",
      "source": [
        "# Adding the key value pair to the dictionary\n",
        "d={}\n",
        "key=input(\"enter the key:\")\n",
        "value=input(\"enter the value:\")\n",
        "d.update({key:value})\n",
        "print(d)"
      ],
      "metadata": {
        "colab": {
          "base_uri": "https://localhost:8080/"
        },
        "id": "Q_qBOoHQNEB6",
        "outputId": "5305598e-dc71-4519-deb3-eaa6e8b70e8b"
      },
      "execution_count": null,
      "outputs": [
        {
          "output_type": "stream",
          "name": "stdout",
          "text": [
            "enter the key:1\n",
            "enter the value:apple\n",
            "{'1': 'apple'}\n"
          ]
        }
      ]
    },
    {
      "cell_type": "code",
      "source": [
        "s=input(\"enter the hyphen seperated string:\")\n",
        "l=s.split(\"-\")\n",
        "l.sort()\n",
        "print(\"sorted:\")\n",
        "print(\"-\".join(l))"
      ],
      "metadata": {
        "colab": {
          "base_uri": "https://localhost:8080/"
        },
        "id": "sJoeFgSxFi4G",
        "outputId": "90d2e423-f855-470b-ba47-8dc14c09a42c"
      },
      "execution_count": null,
      "outputs": [
        {
          "output_type": "stream",
          "name": "stdout",
          "text": [
            "enter the hyphen seperated string:Sarvadnya-sanjay-rajurkar\n",
            "sorted:\n",
            "Sarvadnya-rajurkar-sanjay\n"
          ]
        }
      ]
    },
    {
      "cell_type": "code",
      "source": [
        "# Python propgram to count vowels in the string\n",
        "s=input(\"enter the string:\")\n",
        "count=0\n",
        "vowels=\"AEIOUaeiou\"\n",
        "for i in s:\n",
        "  if i in vowels:\n",
        "    count=count+1\n",
        "print(\"Number of vowels:\",count)\n",
        "    \n",
        "  "
      ],
      "metadata": {
        "colab": {
          "base_uri": "https://localhost:8080/"
        },
        "id": "EWRcBqIeODfT",
        "outputId": "70892914-f2c9-4aab-8643-68f96d159f7d"
      },
      "execution_count": null,
      "outputs": [
        {
          "output_type": "stream",
          "name": "stdout",
          "text": [
            "enter the string:sarvadnya\n",
            "Number of vowels: 3\n"
          ]
        }
      ]
    },
    {
      "cell_type": "code",
      "source": [
        "# write a function to find the greatest number among the three\n",
        "def max_of_two(x,y):\n",
        "  if x>y:\n",
        "    return x\n",
        "  return y\n",
        "\n",
        "def max_of_three(x,y,z):\n",
        "  if x>max_of_two(y,z):\n",
        "    return x\n",
        "  else :\n",
        "    return max_of_two(y,z)\n",
        "\n",
        "max_of_three(56,399,4)"
      ],
      "metadata": {
        "colab": {
          "base_uri": "https://localhost:8080/"
        },
        "id": "TOQbvCuaVXHQ",
        "outputId": "330a8247-71ed-4a9e-f3e6-848723e347a0"
      },
      "execution_count": null,
      "outputs": [
        {
          "output_type": "execute_result",
          "data": {
            "text/plain": [
              "399"
            ]
          },
          "metadata": {},
          "execution_count": 84
        }
      ]
    },
    {
      "cell_type": "code",
      "source": [
        "def multiply(l):\n",
        "  total=1\n",
        "  for i in l:\n",
        "    total=total*i\n",
        "  return(total)\n",
        "multiply([8,2,3,-1,7])\n",
        "\n"
      ],
      "metadata": {
        "colab": {
          "base_uri": "https://localhost:8080/"
        },
        "id": "p-869N8iWSEj",
        "outputId": "301b97cf-9edc-4b86-9302-21d89e315af6"
      },
      "execution_count": null,
      "outputs": [
        {
          "output_type": "execute_result",
          "data": {
            "text/plain": [
              "-336"
            ]
          },
          "metadata": {},
          "execution_count": 87
        }
      ]
    },
    {
      "cell_type": "code",
      "source": [
        "# Python function to find the factorial of the number\n",
        "def fact(n):\n",
        "  if n==1:\n",
        "    return 1\n",
        "  else:\n",
        "    return n*fact(n-1)\n",
        "\n",
        "fact(4)\n"
      ],
      "metadata": {
        "colab": {
          "base_uri": "https://localhost:8080/"
        },
        "id": "8WSHMNN_W3pD",
        "outputId": "194fdc2f-61e9-4206-e160-4eea9c58eb91"
      },
      "execution_count": null,
      "outputs": [
        {
          "output_type": "execute_result",
          "data": {
            "text/plain": [
              "24"
            ]
          },
          "metadata": {},
          "execution_count": 89
        }
      ]
    },
    {
      "cell_type": "code",
      "source": [
        "# Python program to take alist and written a list with unique elements\n",
        "def unique_list(l):\n",
        "  x=[]\n",
        "  for i in l:\n",
        "    if i not in x:\n",
        "      x.append(i)\n",
        "  return x\n",
        "\n",
        "unique_list([1,2,3,3,1,56,7,90])\n",
        "\n"
      ],
      "metadata": {
        "colab": {
          "base_uri": "https://localhost:8080/"
        },
        "id": "l503yEIJYKoW",
        "outputId": "edc3ec18-2ff7-4b53-b426-17aac5bc7a50"
      },
      "execution_count": null,
      "outputs": [
        {
          "output_type": "execute_result",
          "data": {
            "text/plain": [
              "[1, 2, 3, 56, 7, 90]"
            ]
          },
          "metadata": {},
          "execution_count": 91
        }
      ]
    },
    {
      "cell_type": "code",
      "source": [
        "# Python program to print pascal triangle\n",
        "def solve(n):\n",
        "  for i in range(1, n+1):\n",
        "    for j in range(0, n-i+1):\n",
        "        print(' ', end='')\n",
        " \n",
        "    # first element is always 1\n",
        "    C = 1\n",
        "    for j in range(1, i+1):\n",
        " \n",
        "        # first value in a line is always 1\n",
        "        print(' ', C, sep='', end='')\n",
        " \n",
        "        # using Binomial Coefficient\n",
        "        C = C * (i - j) // j\n",
        "    print()\n",
        "solve(5)"
      ],
      "metadata": {
        "colab": {
          "base_uri": "https://localhost:8080/"
        },
        "id": "C5s8-AB6aAe2",
        "outputId": "d64311c0-494b-4fe7-bd5d-e0cc9aabd3a4"
      },
      "execution_count": null,
      "outputs": [
        {
          "output_type": "stream",
          "name": "stdout",
          "text": [
            "      1\n",
            "     1 1\n",
            "    1 2 1\n",
            "   1 3 3 1\n",
            "  1 4 6 4 1\n"
          ]
        }
      ]
    },
    {
      "cell_type": "code",
      "source": [
        "# Python function that accepts a string and calculate the number of uppercase and lowercase letters in the string\n",
        "def string_test(s):\n",
        "  count=0\n",
        "  COUNT=0\n",
        "  for i in s:\n",
        "    if i.islower():\n",
        "      count=count+1\n",
        "    else:\n",
        "      COUNT=COUNT+1\n",
        "  print(\"Lowercase letters:\",count)\n",
        "  print(\"uppercase letters:\",COUNT)\n",
        "string_test('SarvadnyaRajurkar')\n",
        "\n",
        "\n",
        "\n"
      ],
      "metadata": {
        "colab": {
          "base_uri": "https://localhost:8080/"
        },
        "id": "IqGNcWS1e8ol",
        "outputId": "361f24f7-d158-41d3-e1af-fdbd28df7277"
      },
      "execution_count": null,
      "outputs": [
        {
          "output_type": "stream",
          "name": "stdout",
          "text": [
            "Lowercase letters: 15\n",
            "uppercase letters: 2\n"
          ]
        }
      ]
    },
    {
      "cell_type": "code",
      "source": [
        "a=[]\n",
        "n=int(input(\"enter the number of elements in the list:\"))\n",
        "for i in range(0,n):\n",
        "  ele=int(input(\"Enter the element\"+str(i+1)+\"=\"))\n",
        "  a.append(ele)\n",
        "b=[sum(a[0:i+1]) for i in range(0,len(a))]\n",
        "print(a)\n",
        "print(b)\n"
      ],
      "metadata": {
        "colab": {
          "base_uri": "https://localhost:8080/"
        },
        "id": "CG9yLq84uREq",
        "outputId": "dd74fc09-8a84-41a6-cb64-379637802120"
      },
      "execution_count": null,
      "outputs": [
        {
          "output_type": "stream",
          "name": "stdout",
          "text": [
            "enter the number of elements in the list:5\n",
            "Enter the element1=1\n",
            "Enter the element2=2\n",
            "Enter the element3=3\n",
            "Enter the element4=4\n",
            "Enter the element5=5\n",
            "[1, 2, 3, 4, 5]\n",
            "[1, 3, 6, 10, 15]\n"
          ]
        }
      ]
    },
    {
      "cell_type": "code",
      "source": [
        "# python program to generate the random numbers from 1 to 20 and append them to list\n",
        "\n",
        "import random\n",
        "l=[]\n",
        "n=int(input(\"Enter number of elements in the list:\"))\n",
        "for i in range(0,n):\n",
        "  l.append(random.randint(0,20))\n",
        "print(l)"
      ],
      "metadata": {
        "colab": {
          "base_uri": "https://localhost:8080/"
        },
        "id": "XJ6gCVdsgbXo",
        "outputId": "d76767f3-4abe-4951-ebc9-d8311a063d06"
      },
      "execution_count": null,
      "outputs": [
        {
          "output_type": "stream",
          "name": "stdout",
          "text": [
            "Enter number of elements in the list:5\n",
            "[3, 15, 11, 15, 12]\n"
          ]
        }
      ]
    },
    {
      "cell_type": "code",
      "source": [
        "dictionary={}\n",
        "s=input(\"enter the string:\")\n",
        "words=s.split()\n",
        "for word in words:\n",
        "  if(word[0] not in dictionary.keys()):\n",
        "    dictionary[word[0]]=[]\n",
        "    dictionary[word[0]].append(word)\n",
        "  else:\n",
        "    if(word not in dictionary[word[0]]):\n",
        "      dictionary[word[0]].append(word)\n",
        "print(dictionary)\n",
        "\n",
        "\n"
      ],
      "metadata": {
        "colab": {
          "base_uri": "https://localhost:8080/"
        },
        "id": "FduDh4OiwEdj",
        "outputId": "7268c4c4-3845-47b4-ceed-0dd3d818ddc8"
      },
      "execution_count": null,
      "outputs": [
        {
          "output_type": "stream",
          "name": "stdout",
          "text": [
            "enter the string:saravadnya Rajurkar \n",
            "{'s': ['saravadnya'], 'R': ['Rajurkar']}\n"
          ]
        }
      ]
    },
    {
      "cell_type": "code",
      "source": [
        "# Python pyramids\n",
        "def pyramid(n):\n",
        "  for i in range(0,n):\n",
        "    for j in range(0,i+1):\n",
        "      print(\"*\",end=\" \")\n",
        "    print(\"\\r\")\n",
        "pyramid(5)\n",
        "    "
      ],
      "metadata": {
        "colab": {
          "base_uri": "https://localhost:8080/"
        },
        "id": "HNNpweeD16k1",
        "outputId": "70b9e71d-be46-479e-b8c6-87882d79d297"
      },
      "execution_count": null,
      "outputs": [
        {
          "output_type": "stream",
          "name": "stdout",
          "text": [
            "* \r\n",
            "* * \r\n",
            "* * * \r\n",
            "* * * * \r\n",
            "* * * * * \r\n"
          ]
        }
      ]
    },
    {
      "cell_type": "code",
      "source": [
        "def  contalpha(n):\n",
        "     \n",
        "    # initializing value corresponding to 'A'\n",
        "    # ASCII value\n",
        "    num = 65\n",
        " \n",
        "    # outer loop to handle number of rows\n",
        "    for i in range(0, n):\n",
        "     \n",
        "        # inner loop to handle number of columns\n",
        "        # values changing acc. to outer loop\n",
        "        for j in range(0, i+1):\n",
        "         \n",
        "            # explicitly converting to char\n",
        "            ch = chr(num)\n",
        "         \n",
        "            # printing char value\n",
        "            print(ch, end=\" \")\n",
        "         \n",
        "            # incrementing at each column\n",
        "            num = num +1\n",
        "     \n",
        "     \n",
        "        # ending line after each row\n",
        "        print(\"\\r\")\n",
        " \n",
        "# Driver code\n",
        "n = 5\n",
        "contalpha(n)"
      ],
      "metadata": {
        "colab": {
          "base_uri": "https://localhost:8080/"
        },
        "id": "b-288qC36HLC",
        "outputId": "6c5c7f8f-ba07-4b3b-ca26-76c49e3afd37"
      },
      "execution_count": null,
      "outputs": [
        {
          "output_type": "stream",
          "name": "stdout",
          "text": [
            "A \r\n",
            "B C \r\n",
            "D E F \r\n",
            "G H I J \r\n",
            "K L M N O \r\n"
          ]
        }
      ]
    },
    {
      "cell_type": "code",
      "source": [
        "def alphapat(n):\n",
        "     \n",
        "    # initializing value corresponding to 'A'\n",
        "    # ASCII value\n",
        "    num = 65\n",
        " \n",
        "    # outer loop to handle number of rows\n",
        "    # 5 in this case\n",
        "    for i in range(0, n):\n",
        "     \n",
        "        # inner loop to handle number of columns\n",
        "        # values changing acc. to outer loop\n",
        "        for j in range(0, i+1):\n",
        "         \n",
        "            # explicitly converting to char\n",
        "            ch = chr(num)\n",
        "         \n",
        "            # printing char value\n",
        "            print(ch, end=\" \")\n",
        "     \n",
        "        # incrementing number\n",
        "        num = num + 1\n",
        "     \n",
        "        # ending line after each row\n",
        "        print(\"\\r\")\n",
        " \n",
        "# Driver Code\n",
        "n = 5\n",
        "alphapat(n)"
      ],
      "metadata": {
        "id": "xDMKfoYg6Vm3",
        "outputId": "ae50fc73-0edc-420b-f4fc-0d92bff85c2f",
        "colab": {
          "base_uri": "https://localhost:8080/"
        }
      },
      "execution_count": null,
      "outputs": [
        {
          "output_type": "stream",
          "name": "stdout",
          "text": [
            "A \r\n",
            "B B \r\n",
            "C C C \r\n",
            "D D D D \r\n",
            "E E E E E \r\n"
          ]
        }
      ]
    },
    {
      "cell_type": "code",
      "source": [
        "# Class program \n",
        "class person:\n",
        "  def __init__(self,name,age):\n",
        "    self.name=name\n",
        "    self.age=age\n",
        "\n",
        "p=person(\"messi\",\"34\")\n",
        "print(p.age)\n",
        "print(p.name)\n"
      ],
      "metadata": {
        "colab": {
          "base_uri": "https://localhost:8080/"
        },
        "id": "CkUvyysoKvgu",
        "outputId": "9fc9f899-6e9c-48a1-a46a-8ccb866ea373"
      },
      "execution_count": null,
      "outputs": [
        {
          "output_type": "stream",
          "name": "stdout",
          "text": [
            "34\n",
            "messi\n"
          ]
        }
      ]
    },
    {
      "cell_type": "code",
      "source": [
        "#   Python Date time operation\n",
        "from datetime import date\n",
        "now=date.today()\n",
        "print(\"Date:\"+now.strftime(\"%m-%d-%y\"))\n",
        "print(\"day of week:\"+now.strftime(\"%A\"))\n",
        "print(\"Month:\"+now.strftime(\"%B\"))\n",
        "then=date(2001,5,17)\n",
        "timediff=now-then\n",
        "timediff.days"
      ],
      "metadata": {
        "colab": {
          "base_uri": "https://localhost:8080/"
        },
        "id": "PR6O7hRGQcXh",
        "outputId": "97da5c40-dd02-4397-8805-a7bfb5ad115e"
      },
      "execution_count": null,
      "outputs": [
        {
          "output_type": "stream",
          "name": "stdout",
          "text": [
            "Date:06-14-22\n",
            "day of week:Tuesday\n",
            "Month:June\n"
          ]
        },
        {
          "output_type": "execute_result",
          "data": {
            "text/plain": [
              "7698"
            ]
          },
          "metadata": {},
          "execution_count": 12
        }
      ]
    },
    {
      "cell_type": "code",
      "source": [
        "import time\n",
        "nowtime=time.time()\n",
        "\n",
        "time.asctime(time.localtime(nowtime))\n",
        "time.strftime(\"today is %d-%m-%y. Today is %A it is %H hours %M Minutes and %S seconds\")\n"
      ],
      "metadata": {
        "colab": {
          "base_uri": "https://localhost:8080/"
        },
        "id": "DUTfSDwnSkrt",
        "outputId": "3a8f466d-b585-43e4-e635-f25f8fce8415"
      },
      "execution_count": null,
      "outputs": [
        {
          "output_type": "execute_result",
          "data": {
            "text/plain": [
              "'today is 14-06-22. Today is Tuesday it is 03 hours 43 Minutes and 25 seconds'"
            ],
            "application/vnd.google.colaboratory.intrinsic+json": {
              "type": "string"
            }
          },
          "metadata": {},
          "execution_count": 15
        }
      ]
    },
    {
      "cell_type": "code",
      "source": [
        "# rectangular pattern\n",
        "r=int(input(\"Enter the number of rows:\"))\n",
        "c=int(input(\"Enterf the number of columns:\"))\n",
        "for i in range(1,r+1):\n",
        "  for j in range(1,c+1):\n",
        "    print(\"*\",end=\"\")\n",
        "  print()"
      ],
      "metadata": {
        "colab": {
          "base_uri": "https://localhost:8080/"
        },
        "id": "AHZ6C_1C_0Zz",
        "outputId": "5178e480-8fe8-463b-bd98-75247a75de51"
      },
      "execution_count": null,
      "outputs": [
        {
          "output_type": "stream",
          "name": "stdout",
          "text": [
            "Enter the number of rows:5\n",
            "Enterf the number of columns:6\n",
            "******\n",
            "******\n",
            "******\n",
            "******\n",
            "******\n"
          ]
        }
      ]
    },
    {
      "cell_type": "code",
      "source": [
        "# Hollow rectangular pattern\n",
        "r=int(input(\"enter the number of rows:\"))\n",
        "c=int(input(\"Enter the number of columns\"))\n",
        "for i in range(1,r+1):\n",
        "  for j in range(1,c+1):\n",
        "    if(i==1 or j==1 or i==r or j==c):\n",
        "      print(\"*\",end=\"\")\n",
        "    else:\n",
        "      print(\" \",end=\"\")\n",
        "  print()\n",
        "    \n",
        " \n"
      ],
      "metadata": {
        "colab": {
          "base_uri": "https://localhost:8080/"
        },
        "id": "XZGd4S1CAcSo",
        "outputId": "8a397055-aa97-4d80-9d7b-7d380e74fb36"
      },
      "execution_count": null,
      "outputs": [
        {
          "output_type": "stream",
          "name": "stdout",
          "text": [
            "enter the number of rows:5\n",
            "Enter the number of columns5\n",
            "*****\n",
            "*   *\n",
            "*   *\n",
            "*   *\n",
            "*****\n"
          ]
        }
      ]
    },
    {
      "cell_type": "code",
      "source": [
        "# Python  program for inverted half pyramid\n",
        "r=int(input(\"enter the number of rows:\"))\n",
        "\n",
        "\n",
        "for i in range(r,0,-1):\n",
        "  print(\"*\"*i)\n",
        "\n",
        "  \n",
        "  \n"
      ],
      "metadata": {
        "colab": {
          "base_uri": "https://localhost:8080/"
        },
        "id": "H9EcE2yqOJ1a",
        "outputId": "b8db76a2-3923-4cdb-8291-c2dda2f3a012"
      },
      "execution_count": null,
      "outputs": [
        {
          "output_type": "stream",
          "name": "stdout",
          "text": [
            "enter the number of rows:5\n",
            "*****\n",
            "****\n",
            "***\n",
            "**\n",
            "*\n"
          ]
        }
      ]
    },
    {
      "cell_type": "code",
      "source": [
        "# Python program for printing the half pyramid\n",
        "e=int(input(\"enter the number of the elements:\"))\n",
        "for i in range(1,e+1):\n",
        "  print(\"*\"*i)\n"
      ],
      "metadata": {
        "colab": {
          "base_uri": "https://localhost:8080/"
        },
        "id": "yer1FX8TQX9n",
        "outputId": "f2985460-6522-46de-f125-8e7ae81887de"
      },
      "execution_count": null,
      "outputs": [
        {
          "output_type": "stream",
          "name": "stdout",
          "text": [
            "enter the number of the elements:5\n",
            "*\n",
            "**\n",
            "***\n",
            "****\n",
            "*****\n"
          ]
        }
      ]
    },
    {
      "cell_type": "code",
      "source": [
        "# Python program for printing the half pyramid\n",
        "e=int(input(\"enter the number of the elements:\"))\n",
        "for i in range(5,0,-1):\n",
        "  print(\"*\"*i)"
      ],
      "metadata": {
        "colab": {
          "base_uri": "https://localhost:8080/"
        },
        "id": "fBv0GCKQVEjf",
        "outputId": "88d0cc7f-fd71-4387-ff2e-56866f881138"
      },
      "execution_count": null,
      "outputs": [
        {
          "output_type": "stream",
          "name": "stdout",
          "text": [
            "enter the number of the elements:5\n",
            "*****\n",
            "****\n",
            "***\n",
            "**\n",
            "*\n"
          ]
        }
      ]
    },
    {
      "cell_type": "code",
      "source": [
        "# python program to print the mirror image of the half pyramid\n",
        "r=int(input(\"enter the number of rows:\"))\n",
        "\n",
        "for i in range(1,r+1):\n",
        "  for j in range(1,r+1):\n",
        "    if(j<=r-i):\n",
        "      print(\" \",end=\"\")\n",
        "    else:\n",
        "      print(\"*\",end=\"\")\n",
        "  print()\n"
      ],
      "metadata": {
        "colab": {
          "base_uri": "https://localhost:8080/"
        },
        "id": "tUMtHWZyQxJY",
        "outputId": "f6fe03c3-d12f-4e4f-a558-84315dc26912"
      },
      "execution_count": null,
      "outputs": [
        {
          "output_type": "stream",
          "name": "stdout",
          "text": [
            "enter the number of rows:5\n",
            "    *\n",
            "   **\n",
            "  ***\n",
            " ****\n",
            "*****\n"
          ]
        }
      ]
    },
    {
      "cell_type": "code",
      "source": [
        "# \n",
        "n=int(input(\"enter the number n\"))\n",
        "num=1\n",
        "for i in range(n,0,-1):\n",
        "  for j in range(1,i+1):\n",
        "    print(j,end=\" \")\n",
        "  print()\n",
        "\n",
        "\n"
      ],
      "metadata": {
        "colab": {
          "base_uri": "https://localhost:8080/"
        },
        "id": "ZJffLti1X-N-",
        "outputId": "7c7f9d81-97f4-4218-cc91-06e1c029bd00"
      },
      "execution_count": null,
      "outputs": [
        {
          "output_type": "stream",
          "name": "stdout",
          "text": [
            "enter the number n5\n",
            "1 2 3 4 5 \n",
            "1 2 3 4 \n",
            "1 2 3 \n",
            "1 2 \n",
            "1 \n"
          ]
        }
      ]
    },
    {
      "cell_type": "code",
      "source": [
        "# Abs function\n",
        "import math\n",
        "a=2\n",
        "b=3\n",
        "c=abs(a-b)\n",
        "print(c)\n",
        "\n"
      ],
      "metadata": {
        "id": "kR9tqy78UVnc",
        "colab": {
          "base_uri": "https://localhost:8080/"
        },
        "outputId": "13e65a80-afea-43d1-c151-393b8bf27f96"
      },
      "execution_count": null,
      "outputs": [
        {
          "output_type": "stream",
          "name": "stdout",
          "text": [
            "1\n"
          ]
        }
      ]
    },
    {
      "cell_type": "code",
      "source": [
        "# Python Program To print Hello World!\n",
        "print(\"Hello World!\")"
      ],
      "metadata": {
        "colab": {
          "base_uri": "https://localhost:8080/"
        },
        "id": "vkYZ1Opc0Q7R",
        "outputId": "5c52c514-a807-4933-f442-149e00ec539c"
      },
      "execution_count": null,
      "outputs": [
        {
          "output_type": "stream",
          "name": "stdout",
          "text": [
            "Hello World!\n"
          ]
        }
      ]
    },
    {
      "cell_type": "code",
      "source": [
        "# Python Program to add Two numbers\n",
        "num1=int(input(\"Enter the number:\"))\n",
        "num2=int(input(\"Enter the number\"))\n",
        "c=num1+num2\n",
        "print(\"The addition of two  numbers is: \",c)\n"
      ],
      "metadata": {
        "colab": {
          "base_uri": "https://localhost:8080/"
        },
        "id": "Js8M9r47-FGf",
        "outputId": "ce872e3d-adae-4317-dd4d-10666f1a107c"
      },
      "execution_count": null,
      "outputs": [
        {
          "output_type": "stream",
          "name": "stdout",
          "text": [
            "Enter the number:3\n",
            "Enter the number4\n",
            "The addition of two  numbers is:  7\n"
          ]
        }
      ]
    },
    {
      "cell_type": "code",
      "source": [
        "# Python program to find the squareroot of tthe given number\n",
        "import math\n",
        "num=int(input(\"enter The Number:\"))\n",
        "print(\"The squareroot is:\",math.sqrt(num))\n",
        "\n"
      ],
      "metadata": {
        "colab": {
          "base_uri": "https://localhost:8080/"
        },
        "id": "HQfIVPAz-nV8",
        "outputId": "fc2e4d1c-7224-4d37-accf-eb449bc3d563"
      },
      "execution_count": null,
      "outputs": [
        {
          "output_type": "stream",
          "name": "stdout",
          "text": [
            "enter The Number:25\n",
            "The squareroot is: 5.0\n"
          ]
        }
      ]
    },
    {
      "cell_type": "code",
      "source": [
        "# Python program to find the area of triangle\n",
        "a=int(input(\"Enter the length of side a:\"))\n",
        "b=int(input(\"Enter the length of side b: \"))\n",
        "c=int(input('Enter the length of side c:'))\n",
        "s=(a+b+c)/2\n",
        "area=(s*(s-a)*(s-b)*(s-c))*0.5\n",
        "print(\"The area of the triangle is:\",area)"
      ],
      "metadata": {
        "colab": {
          "base_uri": "https://localhost:8080/"
        },
        "id": "-skwc3-QA3kS",
        "outputId": "fe497503-5d57-427a-96ad-eade9706c21d"
      },
      "execution_count": null,
      "outputs": [
        {
          "output_type": "stream",
          "name": "stdout",
          "text": [
            "Enter the length of side a:45\n",
            "Enter the length of side b: 67\n",
            "Enter the length of side c:89\n",
            "The area of the triangle is: 1074414.09375\n"
          ]
        }
      ]
    },
    {
      "cell_type": "code",
      "source": [
        "# Python program to fin the solution of the quadratic \n",
        "import cmath\n",
        "a=int(input(\"Enter the a:\"))\n",
        "b=int(input(\"Enter the b:\"))\n",
        "c=int(input(\"Enter the C:\"))\n",
        "D=b**2-(4*a*c)\n",
        "sol1=(-b+cmath.sqrt(D))/2*a\n",
        "sol2=(-b-cmath.sqrt(D))/2*a\n",
        "print(\"The roots x1={0},x2={1}\".format(sol1,sol2))\n"
      ],
      "metadata": {
        "colab": {
          "base_uri": "https://localhost:8080/"
        },
        "id": "rOH-JheHBHnL",
        "outputId": "55587773-8b42-4062-e6e3-550a38084477"
      },
      "execution_count": null,
      "outputs": [
        {
          "output_type": "stream",
          "name": "stdout",
          "text": [
            "Enter the a:4\n",
            "Enter the b:5\n",
            "Enter the C:6\n",
            "The root x1=(-10+16.852299546352718j),x2=(-10-16.852299546352718j)\n"
          ]
        }
      ]
    },
    {
      "cell_type": "code",
      "source": [
        "# Python program to swap two variables\n",
        "a=int(input(\"enter the number 1:\"))\n",
        "b=int(input(\"Enter the number 2:\"))\n",
        "print(\"var1={0},var2={1}\".format(a,b))\n",
        "temp=a\n",
        "a=b\n",
        "b=temp\n",
        "print(\"var1={0},var2={1}\".format(a,b))\n"
      ],
      "metadata": {
        "colab": {
          "base_uri": "https://localhost:8080/"
        },
        "id": "_J61fEkvFSiW",
        "outputId": "40070308-760e-4bee-d884-5ecf2c0b11ce"
      },
      "execution_count": null,
      "outputs": [
        {
          "output_type": "stream",
          "name": "stdout",
          "text": [
            "enter the number 1:2\n",
            "Enter the number 2:5\n",
            "var1=2,var2=5\n",
            "var1=5,var2=2\n"
          ]
        }
      ]
    },
    {
      "cell_type": "code",
      "source": [
        "# Program to generate random number in the given limit\n",
        "import random\n",
        "Ll=int(input(\"enter the lower limit:\"))\n",
        "ul=int(input(\"enter the upper limit\"))\n",
        "print(random.randint(Ll,ul+1))\n"
      ],
      "metadata": {
        "colab": {
          "base_uri": "https://localhost:8080/"
        },
        "id": "II-cXITDGYED",
        "outputId": "f12beba9-1d53-4068-ba81-b3506215514d"
      },
      "execution_count": null,
      "outputs": [
        {
          "output_type": "stream",
          "name": "stdout",
          "text": [
            "enter the lower limit:6\n",
            "enter the upper limit56\n",
            "39\n"
          ]
        }
      ]
    },
    {
      "cell_type": "code",
      "source": [
        "#Python program to covert kilometers into miles\n",
        "Km=float(input(\"Enter the distance in Km:\"))\n",
        "miles=Km*0.621371\n",
        "print(\"%0.2f {0} kms is equal to %0.2f{1} miles\".format(Km,miles))"
      ],
      "metadata": {
        "colab": {
          "base_uri": "https://localhost:8080/"
        },
        "id": "266JWHqNH_1Z",
        "outputId": "c570c47d-401f-432e-b507-81cfcbc3a949"
      },
      "execution_count": null,
      "outputs": [
        {
          "output_type": "stream",
          "name": "stdout",
          "text": [
            "Enter the distance in Km:34.89\n",
            "%0.2f 34.89 kms is equal to %0.2f21.67963419 miles\n"
          ]
        }
      ]
    },
    {
      "cell_type": "code",
      "source": [
        "# Python program to convert celsius to fahrenheit\n",
        "cel=float(input(\"Enter the temperature in celcius:\"))\n",
        "far=(cel*1.8)+32\n",
        "print(\"%0.2f celsius is equal t0 %0.2f fahrenheit \"%(cel,far))\n"
      ],
      "metadata": {
        "colab": {
          "base_uri": "https://localhost:8080/"
        },
        "id": "uwBnJ8oqJF9L",
        "outputId": "fead11a1-b63b-4277-9300-0ece1b9243f7"
      },
      "execution_count": null,
      "outputs": [
        {
          "output_type": "stream",
          "name": "stdout",
          "text": [
            "Enter the temperature in celcius:23.7898\n",
            "23.79 celsius is equal t0 74.82 fahrenheit \n"
          ]
        }
      ]
    },
    {
      "cell_type": "code",
      "source": [
        "# Python program to print output without newline\n",
        "print(\"Python is easy\",end=\" \")\n",
        "print(\"I Love Python\")\n"
      ],
      "metadata": {
        "colab": {
          "base_uri": "https://localhost:8080/"
        },
        "id": "gGppOGMWKpJQ",
        "outputId": "57660153-0f93-4ae3-e3ac-d52866900860"
      },
      "execution_count": null,
      "outputs": [
        {
          "output_type": "stream",
          "name": "stdout",
          "text": [
            "Python is easy I Love Python\n"
          ]
        }
      ]
    },
    {
      "cell_type": "code",
      "source": [
        "# Python program to check whether the number is positive or not\n",
        "num=int(input(\"Enter the number:\"))\n",
        "if(num==0):\n",
        "  print(\"Zero is neither positive nor negative\")\n",
        "if(num>0):\n",
        "  print(\"%d is positive number\"%(num))\n",
        "else:\n",
        "  print(\"%d is negative number\"%(num))\n"
      ],
      "metadata": {
        "colab": {
          "base_uri": "https://localhost:8080/"
        },
        "id": "ZUFdgeqpMgSM",
        "outputId": "741f49b5-eab5-4827-edd5-24d38ee0b70d"
      },
      "execution_count": null,
      "outputs": [
        {
          "output_type": "stream",
          "name": "stdout",
          "text": [
            "Enter the number:56\n",
            "56 is positive number\n"
          ]
        }
      ]
    },
    {
      "cell_type": "code",
      "source": [
        "n=int(input(\"enter The number\"))\n",
        "temp=str(n)\n",
        "t1=temp+temp\n",
        "t2=temp+temp+temp\n",
        "comp=n+int(t1)+int(t2)\n",
        "print(comp)"
      ],
      "metadata": {
        "colab": {
          "base_uri": "https://localhost:8080/"
        },
        "id": "LJx-JKj-KGA8",
        "outputId": "34dfcdd8-2829-4a65-8a95-ba9cf7fd9391"
      },
      "execution_count": null,
      "outputs": [
        {
          "output_type": "stream",
          "name": "stdout",
          "text": [
            "enter The number34\n",
            "346902\n"
          ]
        }
      ]
    },
    {
      "cell_type": "code",
      "source": [
        "# Program to print all numbers in the given range divisible by the given number\n",
        "n=int(input(\"enter the given number:\"))\n",
        "Ll=int(input(\"Enter the lower  limit:\"))\n",
        "ul=int(input(\"enter the  upper limit:\"))\n",
        "for i in range(Ll,ul+1):\n",
        "  if(i%n==0):\n",
        "    print(i)\n",
        "\n"
      ],
      "metadata": {
        "colab": {
          "base_uri": "https://localhost:8080/"
        },
        "id": "GRwVGYviLu3S",
        "outputId": "228dd35b-7b87-455d-ca19-6437d420b2ae"
      },
      "execution_count": null,
      "outputs": [
        {
          "output_type": "stream",
          "name": "stdout",
          "text": [
            "enter the given number:4\n",
            "Enter the lower  limit16\n",
            "enter the  upper limit24\n",
            "16\n",
            "20\n",
            "24\n"
          ]
        }
      ]
    },
    {
      "cell_type": "code",
      "source": [
        "# Python program to find the sum of the digits of the number\n",
        "n=int(input(\"enter the number:\"))\n",
        "sum=0\n",
        "while(n!=0):\n",
        "  dig=n%10\n",
        "  sum=sum+dig\n",
        "  n=n//10\n",
        "print(\"sum of the digits of the number is:\",sum)\n",
        "\n"
      ],
      "metadata": {
        "id": "WotuozraMdxa",
        "colab": {
          "base_uri": "https://localhost:8080/"
        },
        "outputId": "7e7e52c1-8c56-4a6a-eed3-74bf00f2b3ba"
      },
      "execution_count": null,
      "outputs": [
        {
          "output_type": "stream",
          "name": "stdout",
          "text": [
            "enter the number:268\n",
            "sum of the digits of the number is: 16\n"
          ]
        }
      ]
    },
    {
      "cell_type": "code",
      "source": [
        "# Python program to print all the numbers in the range of 1 to 50 that aren't divisible by 2 and 3\n",
        "for i in range(1,51):\n",
        "  if(i%2!=0 and i%3!=0):\n",
        "    print(i)"
      ],
      "metadata": {
        "colab": {
          "base_uri": "https://localhost:8080/"
        },
        "id": "ZKTGTW8JjZz9",
        "outputId": "3b65de4d-539b-4bcc-d724-b3549be7aabf"
      },
      "execution_count": null,
      "outputs": [
        {
          "output_type": "stream",
          "name": "stdout",
          "text": [
            "1\n",
            "5\n",
            "7\n",
            "11\n",
            "13\n",
            "17\n",
            "19\n",
            "23\n",
            "25\n",
            "29\n",
            "31\n",
            "35\n",
            "37\n",
            "41\n",
            "43\n",
            "47\n",
            "49\n"
          ]
        }
      ]
    },
    {
      "cell_type": "code",
      "source": [
        "# Python program to check whether the given number is the perfect number\n",
        "\"\"\"Perfect number is the positive number whose sum of the proper divisors is the number it self\"\"\"\n",
        "n=int(input(\"enter the number:\"))\n",
        "sum=0\n",
        "temp=n\n",
        "for i in range(1,n):\n",
        "  if (n%i==0):\n",
        "    sum=sum+i\n",
        "\n",
        "if(sum==n):\n",
        "  print(\"%d is perfect Number.\"%(n))\n"
      ],
      "metadata": {
        "colab": {
          "base_uri": "https://localhost:8080/"
        },
        "id": "Pexq7VG-kZFw",
        "outputId": "4e392dbb-5f30-4f44-e022-3f8031961c93"
      },
      "execution_count": null,
      "outputs": [
        {
          "output_type": "stream",
          "name": "stdout",
          "text": [
            "enter the number:6\n",
            "6 is perfect Number\n"
          ]
        }
      ]
    },
    {
      "cell_type": "code",
      "source": [
        "# Python program t0 reverse the given number:\n",
        "n=int(input(\"Enter the number:\"))\n",
        "rev=0\n",
        "while(n!=0):\n",
        "  dig=n%10\n",
        "  rev=rev*10+dig\n",
        "  n=n//10\n",
        "print(\"reversed Number\",rev)\n",
        "  \n"
      ],
      "metadata": {
        "colab": {
          "base_uri": "https://localhost:8080/"
        },
        "id": "-aCQUbfolvie",
        "outputId": "674ceb09-b4ec-4d83-e3a6-bad293ef4a67"
      },
      "execution_count": null,
      "outputs": [
        {
          "output_type": "stream",
          "name": "stdout",
          "text": [
            "Enter the number:4589\n",
            "reversed Number 9854\n"
          ]
        }
      ]
    },
    {
      "cell_type": "code",
      "source": [
        "# Python program to check whether the given number is palindrome or not\n",
        "n=int(input(\"Enter the number:\"))\n",
        "temp=n\n",
        "rev=0\n",
        "while(n!=0):\n",
        "  dig=n%10\n",
        "  rev=rev*10+dig\n",
        "  n=n//10\n",
        "if(temp==rev):\n",
        "  print(\"%d is palindrome number\"%(rev))\n",
        "else:\n",
        "  print(\"%d is not a palindrome number\"%(rev))"
      ],
      "metadata": {
        "colab": {
          "base_uri": "https://localhost:8080/"
        },
        "id": "AVMKNXenmXx4",
        "outputId": "c2e7bcd1-89db-4113-da8d-23bb69493b27"
      },
      "execution_count": null,
      "outputs": [
        {
          "output_type": "stream",
          "name": "stdout",
          "text": [
            "Enter the number:4545\n",
            "5454 is not a palindrome number\n"
          ]
        }
      ]
    },
    {
      "cell_type": "code",
      "source": [
        "# Python Program to check whether the number is armstrong number\n",
        "n=int(input(\"Enter the numberL:\"))\n",
        "t1=n\n",
        "temp=str(n)\n",
        "order=len(temp)\n",
        "sum=0\n",
        "while(n!=0):\n",
        "  dig=n%10\n",
        "  sum=sum+dig**int(order)\n",
        "  n=n//2\n",
        "if(sum==t1):\n",
        "  print(\"%d is the armstrong Number\"%n)\n",
        "else:\n",
        "  print(\"%d is the armstrong Number\"%t1)\n",
        "\n"
      ],
      "metadata": {
        "colab": {
          "base_uri": "https://localhost:8080/"
        },
        "id": "EQXeHHIEnnRm",
        "outputId": "a7a8e757-9204-432f-d172-3a11b44e12a3"
      },
      "execution_count": null,
      "outputs": [
        {
          "output_type": "stream",
          "name": "stdout",
          "text": [
            "Enter the numberL:1634\n",
            "1634 is the armstrong Number\n"
          ]
        }
      ]
    },
    {
      "cell_type": "code",
      "source": [
        "# Collatz conjecture\n",
        "n=int(input(\"Enter the number:\"))\n",
        "while(n>1):\n",
        "  print(n,end=\" \")\n",
        "  if(n%2):\n",
        "    n=3*n+1\n",
        "  else:\n",
        "    n=n//2\n",
        "  print(1,end=\" \")\n",
        "\n"
      ],
      "metadata": {
        "colab": {
          "base_uri": "https://localhost:8080/"
        },
        "id": "TdJXv9ikqp0q",
        "outputId": "032e68cc-cdcd-49b6-e884-d500783add42"
      },
      "execution_count": null,
      "outputs": [
        {
          "output_type": "stream",
          "name": "stdout",
          "text": [
            "Enetr the number:23\n",
            "23 1 70 1 35 1 106 1 53 1 160 1 80 1 40 1 20 1 10 1 5 1 16 1 8 1 4 1 2 1 "
          ]
        }
      ]
    },
    {
      "cell_type": "code",
      "source": [
        "# print The series \"1+2+.........+n\"\n",
        "n=int(input(\"enter the number:\"))\n",
        "i=1\n",
        "while(i<n+1):\n",
        "  print(i,sep=\" \",end=\" \")\n",
        "  if(i<n):\n",
        "    print(\"+\",sep=\" \",end=\" \")\n",
        "  i=i+1\n",
        "\n"
      ],
      "metadata": {
        "colab": {
          "base_uri": "https://localhost:8080/"
        },
        "id": "hhYaqGLprarj",
        "outputId": "bfec4a92-cd26-4af3-db04-2edede574244"
      },
      "execution_count": null,
      "outputs": [
        {
          "output_type": "stream",
          "name": "stdout",
          "text": [
            "enter the number:9\n",
            "1 + 2 + 3 + 4 + 5 + 6 + 7 + 8 + 9 "
          ]
        }
      ]
    },
    {
      "cell_type": "code",
      "source": [
        "# python program to swap two variables without temporary variable\n",
        "a=int(input(\"enter the variable:\"))\n",
        "b=int(input(\"enter the variable:\"))\n",
        "print(\"a=%d,b=%d\"%(a,b))\n",
        "a=a+b\n",
        "b=a-b\n",
        "a=a-b\n",
        "print(\"a=%d,b=%d\"%(a,b))"
      ],
      "metadata": {
        "colab": {
          "base_uri": "https://localhost:8080/"
        },
        "id": "41MGYB1WsoKO",
        "outputId": "284140ba-578c-47da-9dfa-20152c3bd3d7"
      },
      "execution_count": null,
      "outputs": [
        {
          "output_type": "stream",
          "name": "stdout",
          "text": [
            "enter the variable:44\n",
            "enter the variable:56\n",
            "a=44,b=56\n",
            "a=56,b=44\n"
          ]
        }
      ]
    },
    {
      "cell_type": "code",
      "source": [
        "def square(n):\n",
        "  \"\"\" I love Python\"\"\"\n",
        "  return n*n\n",
        "print(square.__doc__)"
      ],
      "metadata": {
        "colab": {
          "base_uri": "https://localhost:8080/"
        },
        "id": "vsBCm68kuFN5",
        "outputId": "871d5e56-2137-4e48-c70e-e10114c6f334"
      },
      "execution_count": null,
      "outputs": [
        {
          "output_type": "stream",
          "name": "stdout",
          "text": [
            " I love Python\n"
          ]
        }
      ]
    },
    {
      "cell_type": "code",
      "source": [
        "# Practice list methods\n",
        "l1=[1,2,5,4,5,6,7,8,9,10,11,12,13,14,15,16,17,18,19,20]\n",
        "l2=['a','b','c','d','e','g']\n",
        "print(max(l1))\n",
        "print(min(l2))\n",
        "print(len(l1))\n",
        "print(l2.index('a'))\n",
        "l2.append(\"f\")\n",
        "l1.insert(1,8)\n",
        "print(l1)\n",
        "l1.remove(8)\n",
        "print(l1)\n",
        "l1.reverse()\n",
        "print(l1)\n",
        "l2.reverse()\n",
        "l1.pop(0)\n",
        "print(l1)\n",
        "del l1[0]\n",
        "print(l1[0])\n",
        "l1.extend(l2)\n",
        "print(l1)\n",
        "print(l1.count('a'))"
      ],
      "metadata": {
        "colab": {
          "base_uri": "https://localhost:8080/"
        },
        "id": "qq5RNzn0Hi9P",
        "outputId": "e247ff90-7877-44c3-c389-4522a5a94920"
      },
      "execution_count": null,
      "outputs": [
        {
          "output_type": "stream",
          "name": "stdout",
          "text": [
            "20\n",
            "a\n",
            "20\n",
            "0\n",
            "[1, 8, 2, 5, 4, 5, 6, 7, 8, 9, 10, 11, 12, 13, 14, 15, 16, 17, 18, 19, 20]\n",
            "[1, 2, 5, 4, 5, 6, 7, 8, 9, 10, 11, 12, 13, 14, 15, 16, 17, 18, 19, 20]\n",
            "[20, 19, 18, 17, 16, 15, 14, 13, 12, 11, 10, 9, 8, 7, 6, 5, 4, 5, 2, 1]\n",
            "[19, 18, 17, 16, 15, 14, 13, 12, 11, 10, 9, 8, 7, 6, 5, 4, 5, 2, 1]\n",
            "18\n",
            "[18, 17, 16, 15, 14, 13, 12, 11, 10, 9, 8, 7, 6, 5, 4, 5, 2, 1, 'f', 'g', 'e', 'd', 'c', 'b', 'a']\n",
            "1\n"
          ]
        }
      ]
    },
    {
      "cell_type": "code",
      "source": [
        "N=int(input())\n",
        "max=3500\n",
        "\n",
        "i=N+1\n",
        "while(i<max):\n",
        "  sum=0\n",
        "  for j in range(1,i):\n",
        "    if(i%j==0):\n",
        "      sum=sum+j\n",
        "  if(sum==i):\n",
        "    print(i)\n",
        "    i=max\n",
        "  else:\n",
        "    i=i+1\n",
        "    "
      ],
      "metadata": {
        "id": "c3jVPs1DKcry"
      },
      "execution_count": null,
      "outputs": []
    },
    {
      "cell_type": "markdown",
      "source": [
        "PYthon COG practice"
      ],
      "metadata": {
        "id": "2e46BOnd4FUA"
      }
    },
    {
      "cell_type": "code",
      "source": [
        "# Python program to check whether the number is positive or negative\n",
        "num1=int(input())\n",
        "if(num1==0):\n",
        "  print(\"The number is:\",0)\n",
        "elif(num1>0):\n",
        "  print(\"The number is positive\")\n",
        "else:\n",
        "  print(\"Number is negative\")\n"
      ],
      "metadata": {
        "colab": {
          "base_uri": "https://localhost:8080/"
        },
        "id": "ncllb88F4KSD",
        "outputId": "3882bd96-a206-4907-c994-c654daa4009b"
      },
      "execution_count": null,
      "outputs": [
        {
          "output_type": "stream",
          "name": "stdout",
          "text": [
            "5\n",
            "The number is positive\n"
          ]
        }
      ]
    },
    {
      "cell_type": "code",
      "source": [
        "# Python program to read number n and compute n+nn+nnn\n",
        "n=int(input(\"input n:\"))\n",
        "temp=str(n)\n",
        "t1=temp+temp\n",
        "t2=temp+temp+temp\n",
        "comp=n+int(t1)+int(t2)\n",
        "print(comp)"
      ],
      "metadata": {
        "colab": {
          "base_uri": "https://localhost:8080/"
        },
        "id": "-Sv1cvh-5kxu",
        "outputId": "ada2b838-dedd-403b-cad5-9011adfd4218"
      },
      "execution_count": null,
      "outputs": [
        {
          "output_type": "stream",
          "name": "stdout",
          "text": [
            "input n:5\n",
            "615\n"
          ]
        }
      ]
    },
    {
      "cell_type": "code",
      "source": [
        "# Python program to print all the number divisible by given number in certain range\n",
        "n=int(input(\"Enetr the number:\"))\n",
        "ll=int(input(\"Enter the lower limit:\"))\n",
        "ul=int(input(\"Enter the upper limit:\"))\n",
        "for i in range(ll,ul+1):\n",
        "  if(i%n==0):\n",
        "    print(i)\n",
        "\n",
        "\n",
        "\n",
        "\n"
      ],
      "metadata": {
        "colab": {
          "base_uri": "https://localhost:8080/"
        },
        "id": "uxpvygRG7CQ5",
        "outputId": "4ad41fba-6da8-40a4-9a82-5eccc7da56a0"
      },
      "execution_count": null,
      "outputs": [
        {
          "output_type": "stream",
          "name": "stdout",
          "text": [
            "Enetr the number:2\n",
            "Enter the lower limit:20\n",
            "Enter the upper limit:40\n",
            "20\n",
            "22\n",
            "24\n",
            "26\n",
            "28\n",
            "30\n",
            "32\n",
            "34\n",
            "36\n",
            "38\n",
            "40\n"
          ]
        }
      ]
    },
    {
      "cell_type": "code",
      "source": [
        "# Find the sum of digits of the number\n",
        "n=int(input(\"enter the number:\"))\n",
        "sum=0\n",
        "while(n!=0):\n",
        "  dig=n%10\n",
        "  sum=sum+dig\n",
        "  n=n//10\n",
        "print(sum)\n",
        "\n"
      ],
      "metadata": {
        "colab": {
          "base_uri": "https://localhost:8080/"
        },
        "id": "m1G0bfDsCUKY",
        "outputId": "92e905af-8181-4a1b-91ce-d91067791b91"
      },
      "execution_count": null,
      "outputs": [
        {
          "output_type": "stream",
          "name": "stdout",
          "text": [
            "enter the number:56\n",
            "11\n"
          ]
        }
      ]
    },
    {
      "cell_type": "code",
      "source": [
        "lower=int(input(\"Enter lower range limit:\"))\n",
        "\n",
        "upper=int(input(\"Enter upper range limit:\"))\n",
        "\n",
        "n=int(input(\"Enter thenumber to be divided by:\"))\n",
        "\n",
        "for i in range(lower,upper+1):\n",
        "  if(i%n==0):\n",
        "    print(i)\n",
        "  \n",
        "\n"
      ],
      "metadata": {
        "colab": {
          "base_uri": "https://localhost:8080/"
        },
        "id": "2su9VNXCBTzg",
        "outputId": "398e17ca-de41-48a0-c4c5-5dfc67f378b3"
      },
      "execution_count": null,
      "outputs": [
        {
          "output_type": "stream",
          "name": "stdout",
          "text": [
            "Enter lower range limit:4\n",
            "Enter upper range limit:20\n",
            "Enter thenumber to be divided by:2\n",
            "4\n",
            "6\n",
            "8\n",
            "10\n",
            "12\n",
            "14\n",
            "16\n",
            "18\n",
            "20\n"
          ]
        }
      ]
    },
    {
      "cell_type": "code",
      "source": [
        "# Python program to print all the numbers that aren't divisible by 2 or 3 and lie between 1 and 50\n",
        "for i in range(1,51):\n",
        "  if(i%2==0 or i%3==0):\n",
        "    continue \n",
        "  else:\n",
        "    print(i)\n",
        "\n"
      ],
      "metadata": {
        "colab": {
          "base_uri": "https://localhost:8080/"
        },
        "id": "ZH_x7pMPXGaC",
        "outputId": "40f4c727-5be7-4b52-84b1-c760ef07b48d"
      },
      "execution_count": null,
      "outputs": [
        {
          "output_type": "stream",
          "name": "stdout",
          "text": [
            "1\n",
            "5\n",
            "7\n",
            "11\n",
            "13\n",
            "17\n",
            "19\n",
            "23\n",
            "25\n",
            "29\n",
            "31\n",
            "35\n",
            "37\n",
            "41\n",
            "43\n",
            "47\n",
            "49\n"
          ]
        }
      ]
    },
    {
      "cell_type": "code",
      "source": [
        "# Python program to check if the number is perfect\n",
        "n=int(input(\"Enter the number\"))\n",
        "sum=0\n",
        "for i in range(1,n):\n",
        "  if(n%i==0):\n",
        "    sum=sum+i\n",
        "if(sum==n):\n",
        "  print(\"%d is a perfect nunumber:\",n)\n",
        "else:\n",
        "  print(\"not aperfect number\")\n",
        "\n",
        "\n",
        "\n",
        "    \n",
        "\n",
        "  \n",
        "\n"
      ],
      "metadata": {
        "id": "oXCppTQT8XfW",
        "colab": {
          "base_uri": "https://localhost:8080/"
        },
        "outputId": "a6cfe293-aab1-4642-bedc-9925242f9b16"
      },
      "execution_count": null,
      "outputs": [
        {
          "output_type": "stream",
          "name": "stdout",
          "text": [
            "Enter the number6\n",
            "%d is a perfect nunumber: 6\n"
          ]
        }
      ]
    },
    {
      "cell_type": "code",
      "source": [
        "# Python program to reverse a given number\n",
        "n=int(input(\"Enter the number:\"))\n",
        "rev=0\n",
        "while(n!=0):\n",
        "  dig=n%10\n",
        "  rev=rev*10+dig\n",
        "  n=n//10\n",
        "print(\"the reversed Number is:\",rev)\n",
        "\n"
      ],
      "metadata": {
        "colab": {
          "base_uri": "https://localhost:8080/"
        },
        "id": "WZb1N2gcd4ik",
        "outputId": "68c94ac4-e548-414f-ba1a-5591098d6005"
      },
      "execution_count": null,
      "outputs": [
        {
          "output_type": "stream",
          "name": "stdout",
          "text": [
            "Enter the number:354\n",
            "the reversed Number is: 453\n"
          ]
        }
      ]
    },
    {
      "cell_type": "code",
      "source": [
        "# check whether the given number is palindrome:\n",
        "n=int(input(\"Enter the number:\"))\n",
        "rev=0\n",
        "temp=n\n",
        "while(n!=0):\n",
        "  dig=n%10\n",
        "  rev=rev*10+dig\n",
        "  n=n//10\n",
        "if(temp==rev):\n",
        "  print(\"the number is palindrome\")\n",
        "else:\n",
        "  print(\"the number is not a palindrome\")\n"
      ],
      "metadata": {
        "colab": {
          "base_uri": "https://localhost:8080/"
        },
        "id": "A8V33Z5zfzqS",
        "outputId": "89b0f524-8fcc-4c95-e235-e7729587eb40"
      },
      "execution_count": null,
      "outputs": [
        {
          "output_type": "stream",
          "name": "stdout",
          "text": [
            "Enter the number:123\n",
            "the numberf is not a palindrome\n"
          ]
        }
      ]
    },
    {
      "cell_type": "code",
      "source": [
        "# Collatz conjecture problem\n",
        "n=int(input(\"enter the number:\"))\n",
        "while(n>1):\n",
        "  print(n,end=' ')\n",
        "  if(n%2):\n",
        "    n=3*n+1\n",
        "  else:\n",
        "    n=n//2\n",
        "print(1,end=\" \")"
      ],
      "metadata": {
        "colab": {
          "base_uri": "https://localhost:8080/"
        },
        "id": "fsPRjmNUgjzb",
        "outputId": "1788d06f-352a-470d-bcf7-5522ae7a31ef"
      },
      "execution_count": null,
      "outputs": [
        {
          "output_type": "stream",
          "name": "stdout",
          "text": [
            "enter the number:12\n",
            "12 6 3 10 5 16 8 4 2 1 "
          ]
        }
      ]
    },
    {
      "cell_type": "code",
      "source": [
        "# check whether the number is armstrong number or not\n",
        "n=int(input(\"Enter the number:\"))\n",
        "order=len(str(n))\n",
        "sum=0\n",
        "temp=n\n",
        "while(n!=0):\n",
        "  dig=n%10\n",
        "  sum=sum+dig**int(order)\n",
        "  n=n//10\n",
        "if(sum==temp):\n",
        "  print(\"armstrong number\")\n",
        "else:\n",
        "  print(\"Not an armstrong number\")\n"
      ],
      "metadata": {
        "colab": {
          "base_uri": "https://localhost:8080/"
        },
        "id": "KhbyA-plhF5K",
        "outputId": "37be49dd-1b26-462d-8a41-32d78a8bd6d2"
      },
      "execution_count": null,
      "outputs": [
        {
          "output_type": "stream",
          "name": "stdout",
          "text": [
            "Enter the number:371\n",
            "armstrong number\n"
          ]
        }
      ]
    },
    {
      "cell_type": "code",
      "source": [
        "n=int(input(\"Enter the number:\"))\n",
        "a=[]\n",
        "for i in range(1,n+1):\n",
        "  print(i,sep=\"\",end=\" \")\n",
        "  if(i<n):\n",
        "    print(\"+\",sep=\" \",end=\" \")\n",
        "  a.append(int(i))\n",
        "print(\"=\",end=\" \")\n",
        "total=sum(a)\n",
        "print(total)\n",
        "\n",
        "\n",
        "\n"
      ],
      "metadata": {
        "colab": {
          "base_uri": "https://localhost:8080/",
          "height": 269
        },
        "id": "3JNCYyj4p54p",
        "outputId": "8e35ca18-3e36-4684-90e6-5960904b2bbe"
      },
      "execution_count": null,
      "outputs": [
        {
          "output_type": "stream",
          "name": "stdout",
          "text": [
            "Enter the number:7\n",
            "1 + 2 + 3 + 4 + 5 + 6 + 7 = "
          ]
        },
        {
          "output_type": "error",
          "ename": "TypeError",
          "evalue": "ignored",
          "traceback": [
            "\u001b[0;31m---------------------------------------------------------------------------\u001b[0m",
            "\u001b[0;31mTypeError\u001b[0m                                 Traceback (most recent call last)",
            "\u001b[0;32m<ipython-input-47-a3cb113423eb>\u001b[0m in \u001b[0;36m<module>\u001b[0;34m\u001b[0m\n\u001b[1;32m      8\u001b[0m   \u001b[0ma\u001b[0m\u001b[0;34m.\u001b[0m\u001b[0mappend\u001b[0m\u001b[0;34m(\u001b[0m\u001b[0mint\u001b[0m\u001b[0;34m(\u001b[0m\u001b[0mi\u001b[0m\u001b[0;34m)\u001b[0m\u001b[0;34m)\u001b[0m\u001b[0;34m\u001b[0m\u001b[0;34m\u001b[0m\u001b[0m\n\u001b[1;32m      9\u001b[0m \u001b[0mprint\u001b[0m\u001b[0;34m(\u001b[0m\u001b[0;34m\"=\"\u001b[0m\u001b[0;34m,\u001b[0m\u001b[0mend\u001b[0m\u001b[0;34m=\u001b[0m\u001b[0;34m\" \"\u001b[0m\u001b[0;34m)\u001b[0m\u001b[0;34m\u001b[0m\u001b[0;34m\u001b[0m\u001b[0m\n\u001b[0;32m---> 10\u001b[0;31m \u001b[0mtotal\u001b[0m\u001b[0;34m=\u001b[0m\u001b[0msum\u001b[0m\u001b[0;34m(\u001b[0m\u001b[0ma\u001b[0m\u001b[0;34m)\u001b[0m\u001b[0;34m\u001b[0m\u001b[0;34m\u001b[0m\u001b[0m\n\u001b[0m\u001b[1;32m     11\u001b[0m \u001b[0mprint\u001b[0m\u001b[0;34m(\u001b[0m\u001b[0mtotal\u001b[0m\u001b[0;34m)\u001b[0m\u001b[0;34m\u001b[0m\u001b[0;34m\u001b[0m\u001b[0m\n\u001b[1;32m     12\u001b[0m \u001b[0;34m\u001b[0m\u001b[0m\n",
            "\u001b[0;31mTypeError\u001b[0m: 'int' object is not callable"
          ]
        }
      ]
    },
    {
      "cell_type": "code",
      "source": [
        "# Python program to swap the value of two variables without using tem variable\n",
        "a=int(input(\"Enter the variable:\"))\n",
        "b=int(input(\"Enter the variable:\"))\n",
        "print(\"a=\"+str(a)+\" \"+\"b=\"+str(b))\n",
        "a=a+b\n",
        "b=a-b\n",
        "a=a-b\n",
        "print(\"a=\"+str(a)+\" \"+\"b=\"+str(b))\n",
        "\n",
        "\n"
      ],
      "metadata": {
        "id": "JINNRrE2tVx-",
        "colab": {
          "base_uri": "https://localhost:8080/"
        },
        "outputId": "a2e7fa45-8de1-4db1-e247-60b88043ef69"
      },
      "execution_count": null,
      "outputs": [
        {
          "output_type": "stream",
          "name": "stdout",
          "text": [
            "Enter the variable:5\n",
            "Enter the variable:6\n",
            "a=5 b=6\n",
            "a=6 b=5\n"
          ]
        }
      ]
    },
    {
      "cell_type": "code",
      "source": [
        "def fibonacci(n):\n",
        "  a=0\n",
        "  b=1\n",
        "  i=3\n",
        "  if(n<0):\n",
        "    print(\"Incorrect Input\")\n",
        "  elif(n==1):\n",
        "    print(a)\n",
        "  else:\n",
        "    print(a,end=\" \")\n",
        "    print(b,end=\" \")\n",
        "    while(i<=n):\n",
        "      c=a+b\n",
        "      print(c,end=\" \")\n",
        "      a=b\n",
        "      b=c\n",
        "      i+=1\n",
        "fibonacci(7)\n",
        "\n"
      ],
      "metadata": {
        "colab": {
          "base_uri": "https://localhost:8080/"
        },
        "id": "wYrq4wIgr719",
        "outputId": "a96c36a7-0ad1-4f68-f080-74d76b512955"
      },
      "execution_count": null,
      "outputs": [
        {
          "output_type": "stream",
          "name": "stdout",
          "text": [
            "0 1 1 2 3 5 8 "
          ]
        }
      ]
    },
    {
      "cell_type": "code",
      "source": [
        "import random"
      ],
      "metadata": {
        "colab": {
          "base_uri": "https://localhost:8080/"
        },
        "id": "ztJnWCTp25Ja",
        "outputId": "f8f28bd7-13d2-47aa-ea85-4f7cf31fd035"
      },
      "execution_count": null,
      "outputs": [
        {
          "output_type": "stream",
          "name": "stdout",
          "text": [
            "4\n",
            "5\n",
            "5\n",
            "5\n",
            "6\n",
            "6\n",
            "7\n",
            "7\n",
            "7\n",
            "7\n",
            "7\n",
            "8\n",
            "8\n",
            "8\n",
            "8\n",
            "9\n",
            "9\n",
            "9\n",
            "9\n",
            "9\n",
            "9\n",
            "10\n",
            "10\n",
            "10\n",
            "10\n",
            "10\n",
            "10\n",
            "11\n",
            "11\n",
            "11\n",
            "11\n",
            "11\n",
            "11\n",
            "11\n",
            "11\n",
            "11\n",
            "12\n",
            "12\n",
            "12\n",
            "12\n",
            "12\n",
            "12\n",
            "13\n",
            "13\n",
            "13\n",
            "13\n",
            "13\n",
            "13\n",
            "13\n",
            "13\n",
            "13\n",
            "13\n",
            "13\n",
            "14\n",
            "14\n",
            "14\n",
            "14\n",
            "14\n",
            "14\n",
            "14\n",
            "14\n",
            "14\n",
            "14\n",
            "15\n",
            "15\n",
            "15\n",
            "15\n",
            "15\n",
            "15\n",
            "15\n",
            "15\n",
            "15\n",
            "15\n",
            "15\n",
            "16\n",
            "16\n",
            "16\n",
            "16\n",
            "16\n",
            "16\n",
            "16\n",
            "16\n",
            "16\n",
            "16\n",
            "16\n",
            "17\n",
            "17\n",
            "17\n",
            "17\n",
            "17\n",
            "17\n",
            "17\n",
            "17\n",
            "17\n",
            "17\n",
            "17\n",
            "17\n",
            "17\n",
            "17\n",
            "17\n",
            "18\n",
            "18\n",
            "18\n",
            "18\n",
            "18\n",
            "18\n",
            "18\n",
            "18\n",
            "18\n",
            "18\n",
            "18\n",
            "18\n",
            "19\n",
            "19\n",
            "19\n",
            "19\n",
            "19\n",
            "19\n",
            "19\n",
            "19\n",
            "19\n",
            "19\n",
            "19\n",
            "19\n",
            "19\n",
            "19\n",
            "19\n",
            "19\n",
            "19\n",
            "20\n",
            "20\n",
            "20\n",
            "20\n",
            "20\n",
            "20\n",
            "20\n",
            "20\n",
            "20\n",
            "20\n",
            "20\n",
            "20\n",
            "20\n",
            "20\n",
            "21\n",
            "21\n",
            "21\n",
            "21\n",
            "21\n",
            "21\n",
            "21\n",
            "21\n",
            "21\n",
            "21\n",
            "21\n",
            "21\n",
            "21\n",
            "21\n",
            "21\n",
            "21\n",
            "21\n",
            "22\n",
            "22\n",
            "22\n",
            "22\n",
            "22\n",
            "22\n",
            "22\n",
            "22\n",
            "22\n",
            "22\n",
            "22\n",
            "22\n",
            "22\n",
            "22\n",
            "22\n",
            "22\n",
            "22\n",
            "22\n",
            "23\n",
            "23\n",
            "23\n",
            "23\n",
            "23\n",
            "23\n",
            "23\n",
            "23\n",
            "23\n",
            "23\n",
            "23\n",
            "23\n",
            "23\n",
            "23\n",
            "23\n",
            "23\n",
            "23\n",
            "23\n",
            "23\n",
            "23\n",
            "23\n",
            "24\n",
            "24\n",
            "24\n",
            "24\n",
            "24\n",
            "24\n",
            "24\n",
            "24\n",
            "24\n",
            "24\n",
            "24\n",
            "24\n",
            "24\n",
            "24\n",
            "24\n",
            "24\n",
            "25\n",
            "25\n",
            "25\n",
            "25\n",
            "25\n",
            "25\n",
            "25\n",
            "25\n",
            "25\n",
            "25\n",
            "25\n",
            "25\n",
            "25\n",
            "25\n",
            "25\n",
            "25\n",
            "25\n",
            "25\n",
            "25\n",
            "25\n",
            "25\n",
            "25\n",
            "26\n",
            "26\n",
            "26\n",
            "26\n",
            "26\n",
            "26\n",
            "26\n",
            "26\n",
            "26\n",
            "26\n",
            "26\n",
            "26\n",
            "26\n",
            "26\n",
            "26\n",
            "26\n",
            "26\n",
            "26\n",
            "26\n",
            "26\n",
            "26\n",
            "26\n",
            "27\n",
            "27\n",
            "27\n",
            "27\n",
            "27\n",
            "27\n",
            "27\n",
            "27\n",
            "27\n",
            "27\n",
            "27\n",
            "27\n",
            "27\n",
            "27\n",
            "27\n",
            "27\n",
            "27\n",
            "27\n",
            "27\n",
            "27\n",
            "27\n",
            "27\n",
            "27\n",
            "28\n",
            "28\n",
            "28\n",
            "28\n",
            "28\n",
            "28\n",
            "28\n",
            "28\n",
            "28\n",
            "28\n",
            "28\n",
            "28\n",
            "28\n",
            "28\n",
            "28\n",
            "28\n",
            "28\n",
            "28\n",
            "28\n",
            "28\n",
            "28\n",
            "28\n",
            "29\n",
            "29\n",
            "29\n",
            "29\n",
            "29\n",
            "29\n",
            "29\n",
            "29\n",
            "29\n",
            "29\n",
            "29\n",
            "29\n",
            "29\n",
            "29\n",
            "29\n",
            "29\n",
            "29\n",
            "29\n",
            "29\n",
            "29\n",
            "29\n",
            "29\n",
            "29\n",
            "29\n",
            "29\n",
            "29\n",
            "29\n",
            "30\n",
            "30\n",
            "30\n",
            "30\n",
            "30\n",
            "30\n",
            "30\n",
            "30\n",
            "30\n",
            "30\n",
            "30\n",
            "30\n",
            "30\n",
            "30\n",
            "30\n",
            "30\n",
            "30\n",
            "30\n",
            "30\n",
            "30\n",
            "30\n",
            "30\n",
            "31\n",
            "31\n",
            "31\n",
            "31\n",
            "31\n",
            "31\n",
            "31\n",
            "31\n",
            "31\n",
            "31\n",
            "31\n",
            "31\n",
            "31\n",
            "31\n",
            "31\n",
            "31\n",
            "31\n",
            "31\n",
            "31\n",
            "31\n",
            "31\n",
            "31\n",
            "31\n",
            "31\n",
            "31\n",
            "31\n",
            "31\n",
            "31\n",
            "31\n",
            "32\n",
            "32\n",
            "32\n",
            "32\n",
            "32\n",
            "32\n",
            "32\n",
            "32\n",
            "32\n",
            "32\n",
            "32\n",
            "32\n",
            "32\n",
            "32\n",
            "32\n",
            "32\n",
            "32\n",
            "32\n",
            "32\n",
            "32\n",
            "32\n",
            "32\n",
            "32\n",
            "32\n",
            "32\n",
            "32\n",
            "33\n",
            "33\n",
            "33\n",
            "33\n",
            "33\n",
            "33\n",
            "33\n",
            "33\n",
            "33\n",
            "33\n",
            "33\n",
            "33\n",
            "33\n",
            "33\n",
            "33\n",
            "33\n",
            "33\n",
            "33\n",
            "33\n",
            "33\n",
            "33\n",
            "33\n",
            "33\n",
            "33\n",
            "33\n",
            "33\n",
            "33\n",
            "33\n",
            "33\n",
            "34\n",
            "34\n",
            "34\n",
            "34\n",
            "34\n",
            "34\n",
            "34\n",
            "34\n",
            "34\n",
            "34\n",
            "34\n",
            "34\n",
            "34\n",
            "34\n",
            "34\n",
            "34\n",
            "34\n",
            "34\n",
            "34\n",
            "34\n",
            "34\n",
            "34\n",
            "34\n",
            "34\n",
            "34\n",
            "34\n",
            "34\n",
            "34\n",
            "34\n",
            "34\n",
            "35\n",
            "35\n",
            "35\n",
            "35\n",
            "35\n",
            "35\n",
            "35\n",
            "35\n",
            "35\n",
            "35\n",
            "35\n",
            "35\n",
            "35\n",
            "35\n",
            "35\n",
            "35\n",
            "35\n",
            "35\n",
            "35\n",
            "35\n",
            "35\n",
            "35\n",
            "35\n",
            "35\n",
            "35\n",
            "35\n",
            "35\n",
            "35\n",
            "35\n",
            "35\n",
            "35\n",
            "36\n",
            "36\n",
            "36\n",
            "36\n",
            "36\n",
            "36\n",
            "36\n",
            "36\n",
            "36\n",
            "36\n",
            "36\n",
            "36\n",
            "36\n",
            "36\n",
            "36\n",
            "36\n",
            "36\n",
            "36\n",
            "36\n",
            "36\n",
            "36\n",
            "36\n",
            "36\n",
            "36\n",
            "36\n",
            "36\n",
            "36\n",
            "37\n",
            "37\n",
            "37\n",
            "37\n",
            "37\n",
            "37\n",
            "37\n",
            "37\n",
            "37\n",
            "37\n",
            "37\n",
            "37\n",
            "37\n",
            "37\n",
            "37\n",
            "37\n",
            "37\n",
            "37\n",
            "37\n",
            "37\n",
            "37\n",
            "37\n",
            "37\n",
            "37\n",
            "37\n",
            "37\n",
            "37\n",
            "37\n",
            "37\n",
            "37\n",
            "37\n",
            "37\n",
            "37\n",
            "37\n",
            "37\n",
            "38\n",
            "38\n",
            "38\n",
            "38\n",
            "38\n",
            "38\n",
            "38\n",
            "38\n",
            "38\n",
            "38\n",
            "38\n",
            "38\n",
            "38\n",
            "38\n",
            "38\n",
            "38\n",
            "38\n",
            "38\n",
            "38\n",
            "38\n",
            "38\n",
            "38\n",
            "38\n",
            "38\n",
            "38\n",
            "38\n",
            "38\n",
            "38\n",
            "38\n",
            "38\n",
            "38\n",
            "38\n",
            "38\n",
            "38\n",
            "39\n",
            "39\n",
            "39\n",
            "39\n",
            "39\n",
            "39\n",
            "39\n",
            "39\n",
            "39\n",
            "39\n",
            "39\n",
            "39\n",
            "39\n",
            "39\n",
            "39\n",
            "39\n",
            "39\n",
            "39\n",
            "39\n",
            "39\n",
            "39\n",
            "39\n",
            "39\n",
            "39\n",
            "39\n",
            "39\n",
            "39\n",
            "39\n",
            "39\n",
            "39\n",
            "39\n",
            "39\n",
            "39\n",
            "39\n",
            "39\n",
            "40\n",
            "40\n",
            "40\n",
            "40\n",
            "40\n",
            "40\n",
            "40\n",
            "40\n",
            "40\n",
            "40\n",
            "40\n",
            "40\n",
            "40\n",
            "40\n",
            "40\n",
            "40\n",
            "40\n",
            "40\n",
            "40\n",
            "40\n",
            "40\n",
            "40\n",
            "40\n",
            "40\n",
            "40\n",
            "40\n",
            "40\n",
            "40\n",
            "40\n",
            "40\n",
            "40\n",
            "40\n",
            "41\n",
            "41\n",
            "41\n",
            "41\n",
            "41\n",
            "41\n",
            "41\n",
            "41\n",
            "41\n",
            "41\n",
            "41\n",
            "41\n",
            "41\n",
            "41\n",
            "41\n",
            "41\n",
            "41\n",
            "41\n",
            "41\n",
            "41\n",
            "41\n",
            "41\n",
            "41\n",
            "41\n",
            "41\n",
            "41\n",
            "41\n",
            "41\n",
            "41\n",
            "41\n",
            "41\n",
            "41\n",
            "41\n",
            "41\n",
            "41\n",
            "41\n",
            "41\n",
            "41\n",
            "41\n",
            "42\n",
            "42\n",
            "42\n",
            "42\n",
            "42\n",
            "42\n",
            "42\n",
            "42\n",
            "42\n",
            "42\n",
            "42\n",
            "42\n",
            "42\n",
            "42\n",
            "42\n",
            "42\n",
            "42\n",
            "42\n",
            "42\n",
            "42\n",
            "42\n",
            "42\n",
            "42\n",
            "42\n",
            "42\n",
            "42\n",
            "42\n",
            "42\n",
            "42\n",
            "42\n",
            "42\n",
            "42\n",
            "42\n",
            "42\n",
            "43\n",
            "43\n",
            "43\n",
            "43\n",
            "43\n",
            "43\n",
            "43\n",
            "43\n",
            "43\n",
            "43\n",
            "43\n",
            "43\n",
            "43\n",
            "43\n",
            "43\n",
            "43\n",
            "43\n",
            "43\n",
            "43\n",
            "43\n",
            "43\n",
            "43\n",
            "43\n",
            "43\n",
            "43\n",
            "43\n",
            "43\n",
            "43\n",
            "43\n",
            "43\n",
            "43\n",
            "43\n",
            "43\n",
            "43\n",
            "43\n",
            "43\n",
            "43\n",
            "43\n",
            "43\n",
            "43\n",
            "43\n",
            "44\n",
            "44\n",
            "44\n",
            "44\n",
            "44\n",
            "44\n",
            "44\n",
            "44\n",
            "44\n",
            "44\n",
            "44\n",
            "44\n",
            "44\n",
            "44\n",
            "44\n",
            "44\n",
            "44\n",
            "44\n",
            "44\n",
            "44\n",
            "44\n",
            "44\n",
            "44\n",
            "44\n",
            "44\n",
            "44\n",
            "44\n",
            "44\n",
            "44\n",
            "44\n",
            "44\n",
            "44\n",
            "44\n",
            "44\n",
            "44\n",
            "44\n",
            "44\n",
            "44\n",
            "45\n",
            "45\n",
            "45\n",
            "45\n",
            "45\n",
            "45\n",
            "45\n",
            "45\n",
            "45\n",
            "45\n",
            "45\n",
            "45\n",
            "45\n",
            "45\n",
            "45\n",
            "45\n",
            "45\n",
            "45\n",
            "45\n",
            "45\n",
            "45\n",
            "45\n",
            "45\n",
            "45\n",
            "45\n",
            "45\n",
            "45\n",
            "45\n",
            "45\n",
            "45\n",
            "45\n",
            "45\n",
            "45\n",
            "45\n",
            "45\n",
            "45\n",
            "45\n",
            "45\n",
            "45\n",
            "46\n",
            "46\n",
            "46\n",
            "46\n",
            "46\n",
            "46\n",
            "46\n",
            "46\n",
            "46\n",
            "46\n",
            "46\n",
            "46\n",
            "46\n",
            "46\n",
            "46\n",
            "46\n",
            "46\n",
            "46\n",
            "46\n",
            "46\n",
            "46\n",
            "46\n",
            "46\n",
            "46\n",
            "46\n",
            "46\n",
            "46\n",
            "46\n",
            "46\n",
            "46\n",
            "46\n",
            "46\n",
            "46\n",
            "46\n",
            "46\n",
            "46\n",
            "46\n",
            "46\n",
            "46\n",
            "46\n",
            "46\n",
            "46\n",
            "47\n",
            "47\n",
            "47\n",
            "47\n",
            "47\n",
            "47\n",
            "47\n",
            "47\n",
            "47\n",
            "47\n",
            "47\n",
            "47\n",
            "47\n",
            "47\n",
            "47\n",
            "47\n",
            "47\n",
            "47\n",
            "47\n",
            "47\n",
            "47\n",
            "47\n",
            "47\n",
            "47\n",
            "47\n",
            "47\n",
            "47\n",
            "47\n",
            "47\n",
            "47\n",
            "47\n",
            "47\n",
            "47\n",
            "47\n",
            "47\n",
            "47\n",
            "47\n",
            "47\n",
            "47\n",
            "47\n",
            "47\n",
            "47\n",
            "47\n",
            "47\n",
            "47\n",
            "48\n",
            "48\n",
            "48\n",
            "48\n",
            "48\n",
            "48\n",
            "48\n",
            "48\n",
            "48\n",
            "48\n",
            "48\n",
            "48\n",
            "48\n",
            "48\n",
            "48\n",
            "48\n",
            "48\n",
            "48\n",
            "48\n",
            "48\n",
            "48\n",
            "48\n",
            "48\n",
            "48\n",
            "48\n",
            "48\n",
            "48\n",
            "48\n",
            "48\n",
            "48\n",
            "48\n",
            "48\n",
            "48\n",
            "48\n",
            "48\n",
            "48\n",
            "48\n",
            "48\n",
            "49\n",
            "49\n",
            "49\n",
            "49\n",
            "49\n",
            "49\n",
            "49\n",
            "49\n",
            "49\n",
            "49\n",
            "49\n",
            "49\n",
            "49\n",
            "49\n",
            "49\n",
            "49\n",
            "49\n",
            "49\n",
            "49\n",
            "49\n",
            "49\n",
            "49\n",
            "49\n",
            "49\n",
            "49\n",
            "49\n",
            "49\n",
            "49\n",
            "49\n",
            "49\n",
            "49\n",
            "49\n",
            "49\n",
            "49\n",
            "49\n",
            "49\n",
            "49\n",
            "49\n",
            "49\n",
            "49\n",
            "49\n",
            "49\n",
            "49\n",
            "49\n",
            "49\n",
            "49\n",
            "50\n",
            "50\n",
            "50\n",
            "50\n",
            "50\n",
            "50\n",
            "50\n",
            "50\n",
            "50\n",
            "50\n",
            "50\n",
            "50\n",
            "50\n",
            "50\n",
            "50\n",
            "50\n",
            "50\n",
            "50\n",
            "50\n",
            "50\n",
            "50\n",
            "50\n",
            "50\n",
            "50\n",
            "50\n",
            "50\n",
            "50\n",
            "50\n",
            "50\n",
            "50\n",
            "50\n",
            "50\n",
            "50\n",
            "50\n",
            "50\n",
            "50\n",
            "50\n",
            "50\n",
            "50\n",
            "50\n",
            "50\n",
            "50\n",
            "50\n",
            "50\n",
            "51\n",
            "51\n",
            "51\n",
            "51\n",
            "51\n",
            "51\n",
            "51\n",
            "51\n",
            "51\n",
            "51\n",
            "51\n",
            "51\n",
            "51\n",
            "51\n",
            "51\n",
            "51\n",
            "51\n",
            "51\n",
            "51\n",
            "51\n",
            "51\n",
            "51\n",
            "51\n",
            "51\n",
            "51\n",
            "51\n",
            "51\n",
            "51\n",
            "51\n",
            "51\n",
            "51\n",
            "51\n",
            "51\n",
            "51\n",
            "51\n",
            "51\n",
            "51\n",
            "51\n",
            "51\n",
            "51\n",
            "51\n",
            "51\n",
            "51\n",
            "51\n",
            "51\n",
            "51\n",
            "51\n",
            "52\n",
            "52\n",
            "52\n",
            "52\n",
            "52\n",
            "52\n",
            "52\n",
            "52\n",
            "52\n",
            "52\n",
            "52\n",
            "52\n",
            "52\n",
            "52\n",
            "52\n",
            "52\n",
            "52\n",
            "52\n",
            "52\n",
            "52\n",
            "52\n",
            "52\n",
            "52\n",
            "52\n",
            "52\n",
            "52\n",
            "52\n",
            "52\n",
            "52\n",
            "52\n",
            "52\n",
            "52\n",
            "52\n",
            "52\n",
            "52\n",
            "52\n",
            "52\n",
            "52\n",
            "52\n",
            "52\n",
            "52\n",
            "52\n",
            "52\n",
            "52\n",
            "52\n",
            "52\n",
            "53\n",
            "53\n",
            "53\n",
            "53\n",
            "53\n",
            "53\n",
            "53\n",
            "53\n",
            "53\n",
            "53\n",
            "53\n",
            "53\n",
            "53\n",
            "53\n",
            "53\n",
            "53\n",
            "53\n",
            "53\n",
            "53\n",
            "53\n",
            "53\n",
            "53\n",
            "53\n",
            "53\n",
            "53\n",
            "53\n",
            "53\n",
            "53\n",
            "53\n",
            "53\n",
            "53\n",
            "53\n",
            "53\n",
            "53\n",
            "53\n",
            "53\n",
            "53\n",
            "53\n",
            "53\n",
            "53\n",
            "53\n",
            "53\n",
            "53\n",
            "53\n",
            "53\n",
            "53\n",
            "53\n",
            "53\n",
            "53\n",
            "53\n",
            "53\n",
            "54\n",
            "54\n",
            "54\n",
            "54\n",
            "54\n",
            "54\n",
            "54\n",
            "54\n",
            "54\n",
            "54\n",
            "54\n",
            "54\n",
            "54\n",
            "54\n",
            "54\n",
            "54\n",
            "54\n",
            "54\n",
            "54\n",
            "54\n",
            "54\n",
            "54\n",
            "54\n",
            "54\n",
            "54\n",
            "54\n",
            "54\n",
            "54\n",
            "54\n",
            "54\n",
            "54\n",
            "54\n",
            "54\n",
            "54\n",
            "54\n",
            "54\n",
            "54\n",
            "54\n",
            "54\n",
            "54\n",
            "54\n",
            "54\n",
            "54\n",
            "54\n",
            "54\n",
            "54\n",
            "55\n",
            "55\n",
            "55\n",
            "55\n",
            "55\n",
            "55\n",
            "55\n",
            "55\n",
            "55\n",
            "55\n",
            "55\n",
            "55\n",
            "55\n",
            "55\n",
            "55\n",
            "55\n",
            "55\n",
            "55\n",
            "55\n",
            "55\n",
            "55\n",
            "55\n",
            "55\n",
            "55\n",
            "55\n",
            "55\n",
            "55\n",
            "55\n",
            "55\n",
            "55\n",
            "55\n",
            "55\n",
            "55\n",
            "55\n",
            "55\n",
            "55\n",
            "55\n",
            "55\n",
            "55\n",
            "55\n",
            "55\n",
            "55\n",
            "55\n",
            "55\n",
            "55\n",
            "55\n",
            "55\n",
            "55\n",
            "55\n",
            "55\n",
            "55\n",
            "56\n",
            "56\n",
            "56\n",
            "56\n",
            "56\n",
            "56\n",
            "56\n",
            "56\n",
            "56\n",
            "56\n",
            "56\n",
            "56\n",
            "56\n",
            "56\n",
            "56\n",
            "56\n",
            "56\n",
            "56\n",
            "56\n",
            "56\n",
            "56\n",
            "56\n",
            "56\n",
            "56\n",
            "56\n",
            "56\n",
            "56\n",
            "56\n",
            "56\n",
            "56\n",
            "56\n",
            "56\n",
            "56\n",
            "56\n",
            "56\n",
            "56\n",
            "56\n",
            "56\n",
            "56\n",
            "56\n",
            "56\n",
            "56\n",
            "56\n",
            "56\n",
            "56\n",
            "56\n",
            "56\n",
            "56\n",
            "57\n",
            "57\n",
            "57\n",
            "57\n",
            "57\n",
            "57\n",
            "57\n",
            "57\n",
            "57\n",
            "57\n",
            "57\n",
            "57\n",
            "57\n",
            "57\n",
            "57\n",
            "57\n",
            "57\n",
            "57\n",
            "57\n",
            "57\n",
            "57\n",
            "57\n",
            "57\n",
            "57\n",
            "57\n",
            "57\n",
            "57\n",
            "57\n",
            "57\n",
            "57\n",
            "57\n",
            "57\n",
            "57\n",
            "57\n",
            "57\n",
            "57\n",
            "57\n",
            "57\n",
            "57\n",
            "57\n",
            "57\n",
            "57\n",
            "57\n",
            "57\n",
            "57\n",
            "57\n",
            "57\n",
            "57\n",
            "57\n",
            "57\n",
            "57\n",
            "57\n",
            "57\n",
            "58\n",
            "58\n",
            "58\n",
            "58\n",
            "58\n",
            "58\n",
            "58\n",
            "58\n",
            "58\n",
            "58\n",
            "58\n",
            "58\n",
            "58\n",
            "58\n",
            "58\n",
            "58\n",
            "58\n",
            "58\n",
            "58\n",
            "58\n",
            "58\n",
            "58\n",
            "58\n",
            "58\n",
            "58\n",
            "58\n",
            "58\n",
            "58\n",
            "58\n",
            "58\n",
            "58\n",
            "58\n",
            "58\n",
            "58\n",
            "58\n",
            "58\n",
            "58\n",
            "58\n",
            "58\n",
            "58\n",
            "58\n",
            "58\n",
            "58\n",
            "58\n",
            "58\n",
            "58\n",
            "58\n",
            "58\n",
            "58\n",
            "58\n",
            "58\n",
            "58\n",
            "58\n",
            "58\n",
            "59\n",
            "59\n",
            "59\n",
            "59\n",
            "59\n",
            "59\n",
            "59\n",
            "59\n",
            "59\n",
            "59\n",
            "59\n",
            "59\n",
            "59\n",
            "59\n",
            "59\n",
            "59\n",
            "59\n",
            "59\n",
            "59\n",
            "59\n",
            "59\n",
            "59\n",
            "59\n",
            "59\n",
            "59\n",
            "59\n",
            "59\n",
            "59\n",
            "59\n",
            "59\n",
            "59\n",
            "59\n",
            "59\n",
            "59\n",
            "59\n",
            "59\n",
            "59\n",
            "59\n",
            "59\n",
            "59\n",
            "59\n",
            "59\n",
            "59\n",
            "59\n",
            "59\n",
            "59\n",
            "59\n",
            "59\n",
            "59\n",
            "59\n",
            "59\n",
            "59\n",
            "59\n",
            "59\n",
            "59\n",
            "59\n",
            "59\n",
            "60\n",
            "60\n",
            "60\n",
            "60\n",
            "60\n",
            "60\n",
            "60\n",
            "60\n",
            "60\n",
            "60\n",
            "60\n",
            "60\n",
            "60\n",
            "60\n",
            "60\n",
            "60\n",
            "60\n",
            "60\n",
            "60\n",
            "60\n",
            "60\n",
            "60\n",
            "60\n",
            "60\n",
            "60\n",
            "60\n",
            "60\n",
            "60\n",
            "60\n",
            "60\n",
            "60\n",
            "60\n",
            "60\n",
            "60\n",
            "60\n",
            "60\n",
            "60\n",
            "60\n",
            "60\n",
            "60\n",
            "60\n",
            "60\n",
            "60\n",
            "60\n",
            "60\n",
            "60\n",
            "60\n",
            "60\n",
            "61\n",
            "61\n",
            "61\n",
            "61\n",
            "61\n",
            "61\n",
            "61\n",
            "61\n",
            "61\n",
            "61\n",
            "61\n",
            "61\n",
            "61\n",
            "61\n",
            "61\n",
            "61\n",
            "61\n",
            "61\n",
            "61\n",
            "61\n",
            "61\n",
            "61\n",
            "61\n",
            "61\n",
            "61\n",
            "61\n",
            "61\n",
            "61\n",
            "61\n",
            "61\n",
            "61\n",
            "61\n",
            "61\n",
            "61\n",
            "61\n",
            "61\n",
            "61\n",
            "61\n",
            "61\n",
            "61\n",
            "61\n",
            "61\n",
            "61\n",
            "61\n",
            "61\n",
            "61\n",
            "61\n",
            "61\n",
            "61\n",
            "61\n",
            "61\n",
            "61\n",
            "61\n",
            "61\n",
            "61\n",
            "61\n",
            "61\n",
            "61\n",
            "61\n",
            "62\n",
            "62\n",
            "62\n",
            "62\n",
            "62\n",
            "62\n",
            "62\n",
            "62\n",
            "62\n",
            "62\n",
            "62\n",
            "62\n",
            "62\n",
            "62\n",
            "62\n",
            "62\n",
            "62\n",
            "62\n",
            "62\n",
            "62\n",
            "62\n",
            "62\n",
            "62\n",
            "62\n",
            "62\n",
            "62\n",
            "62\n",
            "62\n",
            "62\n",
            "62\n",
            "62\n",
            "62\n",
            "62\n",
            "62\n",
            "62\n",
            "62\n",
            "62\n",
            "62\n",
            "62\n",
            "62\n",
            "62\n",
            "62\n",
            "62\n",
            "62\n",
            "62\n",
            "62\n",
            "62\n",
            "62\n",
            "62\n",
            "62\n",
            "62\n",
            "62\n",
            "62\n",
            "62\n",
            "62\n",
            "62\n",
            "62\n",
            "62\n",
            "63\n",
            "63\n",
            "63\n",
            "63\n",
            "63\n",
            "63\n",
            "63\n",
            "63\n",
            "63\n",
            "63\n",
            "63\n",
            "63\n",
            "63\n",
            "63\n",
            "63\n",
            "63\n",
            "63\n",
            "63\n",
            "63\n",
            "63\n",
            "63\n",
            "63\n",
            "63\n",
            "63\n",
            "63\n",
            "63\n",
            "63\n",
            "63\n",
            "63\n",
            "63\n",
            "63\n",
            "63\n",
            "63\n",
            "63\n",
            "63\n",
            "63\n",
            "63\n",
            "63\n",
            "63\n",
            "63\n",
            "63\n",
            "63\n",
            "63\n",
            "63\n",
            "63\n",
            "63\n",
            "63\n",
            "63\n",
            "63\n",
            "63\n",
            "63\n",
            "63\n",
            "63\n",
            "63\n",
            "63\n",
            "63\n",
            "63\n",
            "64\n",
            "64\n",
            "64\n",
            "64\n",
            "64\n",
            "64\n",
            "64\n",
            "64\n",
            "64\n",
            "64\n",
            "64\n",
            "64\n",
            "64\n",
            "64\n",
            "64\n",
            "64\n",
            "64\n",
            "64\n",
            "64\n",
            "64\n",
            "64\n",
            "64\n",
            "64\n",
            "64\n",
            "64\n",
            "64\n",
            "64\n",
            "64\n",
            "64\n",
            "64\n",
            "64\n",
            "64\n",
            "64\n",
            "64\n",
            "64\n",
            "64\n",
            "64\n",
            "64\n",
            "64\n",
            "64\n",
            "64\n",
            "64\n",
            "64\n",
            "64\n",
            "64\n",
            "64\n",
            "64\n",
            "64\n",
            "64\n",
            "64\n",
            "64\n",
            "64\n",
            "64\n",
            "64\n",
            "64\n",
            "64\n",
            "64\n",
            "65\n",
            "65\n",
            "65\n",
            "65\n",
            "65\n",
            "65\n",
            "65\n",
            "65\n",
            "65\n",
            "65\n",
            "65\n",
            "65\n",
            "65\n",
            "65\n",
            "65\n",
            "65\n",
            "65\n",
            "65\n",
            "65\n",
            "65\n",
            "65\n",
            "65\n",
            "65\n",
            "65\n",
            "65\n",
            "65\n",
            "65\n",
            "65\n",
            "65\n",
            "65\n",
            "65\n",
            "65\n",
            "65\n",
            "65\n",
            "65\n",
            "65\n",
            "65\n",
            "65\n",
            "65\n",
            "65\n",
            "65\n",
            "65\n",
            "65\n",
            "65\n",
            "65\n",
            "65\n",
            "65\n",
            "65\n",
            "65\n",
            "65\n",
            "65\n",
            "65\n",
            "65\n",
            "65\n",
            "65\n",
            "65\n",
            "65\n",
            "65\n",
            "65\n",
            "65\n",
            "65\n",
            "66\n",
            "66\n",
            "66\n",
            "66\n",
            "66\n",
            "66\n",
            "66\n",
            "66\n",
            "66\n",
            "66\n",
            "66\n",
            "66\n",
            "66\n",
            "66\n",
            "66\n",
            "66\n",
            "66\n",
            "66\n",
            "66\n",
            "66\n",
            "66\n",
            "66\n",
            "66\n",
            "66\n",
            "66\n",
            "66\n",
            "66\n",
            "66\n",
            "66\n",
            "66\n",
            "66\n",
            "66\n",
            "66\n",
            "66\n",
            "66\n",
            "66\n",
            "66\n",
            "66\n",
            "66\n",
            "66\n",
            "66\n",
            "66\n",
            "66\n",
            "66\n",
            "66\n",
            "66\n",
            "66\n",
            "66\n",
            "66\n",
            "66\n",
            "66\n",
            "66\n",
            "66\n",
            "66\n",
            "66\n",
            "66\n",
            "66\n",
            "66\n",
            "67\n",
            "67\n",
            "67\n",
            "67\n",
            "67\n",
            "67\n",
            "67\n",
            "67\n",
            "67\n",
            "67\n",
            "67\n",
            "67\n",
            "67\n",
            "67\n",
            "67\n",
            "67\n",
            "67\n",
            "67\n",
            "67\n",
            "67\n",
            "67\n",
            "67\n",
            "67\n",
            "67\n",
            "67\n",
            "67\n",
            "67\n",
            "67\n",
            "67\n",
            "67\n",
            "67\n",
            "67\n",
            "67\n",
            "67\n",
            "67\n",
            "67\n",
            "67\n",
            "67\n",
            "67\n",
            "67\n",
            "67\n",
            "67\n",
            "67\n",
            "67\n",
            "67\n",
            "67\n",
            "67\n",
            "67\n",
            "67\n",
            "67\n",
            "67\n",
            "67\n",
            "67\n",
            "67\n",
            "67\n",
            "67\n",
            "67\n",
            "67\n",
            "67\n",
            "67\n",
            "67\n",
            "67\n",
            "67\n",
            "67\n",
            "67\n",
            "68\n",
            "68\n",
            "68\n",
            "68\n",
            "68\n",
            "68\n",
            "68\n",
            "68\n",
            "68\n",
            "68\n",
            "68\n",
            "68\n",
            "68\n",
            "68\n",
            "68\n",
            "68\n",
            "68\n",
            "68\n",
            "68\n",
            "68\n",
            "68\n",
            "68\n",
            "68\n",
            "68\n",
            "68\n",
            "68\n",
            "68\n",
            "68\n",
            "68\n",
            "68\n",
            "68\n",
            "68\n",
            "68\n",
            "68\n",
            "68\n",
            "68\n",
            "68\n",
            "68\n",
            "68\n",
            "68\n",
            "68\n",
            "68\n",
            "68\n",
            "68\n",
            "68\n",
            "68\n",
            "68\n",
            "68\n",
            "68\n",
            "68\n",
            "68\n",
            "68\n",
            "68\n",
            "68\n",
            "68\n",
            "68\n",
            "68\n",
            "68\n",
            "68\n",
            "68\n",
            "68\n",
            "68\n",
            "69\n",
            "69\n",
            "69\n",
            "69\n",
            "69\n",
            "69\n",
            "69\n",
            "69\n",
            "69\n",
            "69\n",
            "69\n",
            "69\n",
            "69\n",
            "69\n",
            "69\n",
            "69\n",
            "69\n",
            "69\n",
            "69\n",
            "69\n",
            "69\n",
            "69\n",
            "69\n",
            "69\n",
            "69\n",
            "69\n",
            "69\n",
            "69\n",
            "69\n",
            "69\n",
            "69\n",
            "69\n",
            "69\n",
            "69\n",
            "69\n",
            "69\n",
            "69\n",
            "69\n",
            "69\n",
            "69\n",
            "69\n",
            "69\n",
            "69\n",
            "69\n",
            "69\n",
            "69\n",
            "69\n",
            "69\n",
            "69\n",
            "69\n",
            "69\n",
            "69\n",
            "69\n",
            "69\n",
            "69\n",
            "69\n",
            "69\n",
            "69\n",
            "69\n",
            "69\n",
            "69\n",
            "69\n",
            "69\n",
            "69\n",
            "69\n",
            "70\n",
            "70\n",
            "70\n",
            "70\n",
            "70\n",
            "70\n",
            "70\n",
            "70\n",
            "70\n",
            "70\n",
            "70\n",
            "70\n",
            "70\n",
            "70\n",
            "70\n",
            "70\n",
            "70\n",
            "70\n",
            "70\n",
            "70\n",
            "70\n",
            "70\n",
            "70\n",
            "70\n",
            "70\n",
            "70\n",
            "70\n",
            "70\n",
            "70\n",
            "70\n",
            "70\n",
            "70\n",
            "70\n",
            "70\n",
            "70\n",
            "70\n",
            "70\n",
            "70\n",
            "70\n",
            "70\n",
            "70\n",
            "70\n",
            "70\n",
            "70\n",
            "70\n",
            "70\n",
            "70\n",
            "70\n",
            "70\n",
            "70\n",
            "70\n",
            "70\n",
            "70\n",
            "70\n",
            "70\n",
            "70\n",
            "70\n",
            "70\n",
            "70\n",
            "70\n",
            "70\n",
            "70\n",
            "71\n",
            "71\n",
            "71\n",
            "71\n",
            "71\n",
            "71\n",
            "71\n",
            "71\n",
            "71\n",
            "71\n",
            "71\n",
            "71\n",
            "71\n",
            "71\n",
            "71\n",
            "71\n",
            "71\n",
            "71\n",
            "71\n",
            "71\n",
            "71\n",
            "71\n",
            "71\n",
            "71\n",
            "71\n",
            "71\n",
            "71\n",
            "71\n",
            "71\n",
            "71\n",
            "71\n",
            "71\n",
            "71\n",
            "71\n",
            "71\n",
            "71\n",
            "71\n",
            "71\n",
            "71\n",
            "71\n",
            "71\n",
            "71\n",
            "71\n",
            "71\n",
            "71\n",
            "71\n",
            "71\n",
            "71\n",
            "71\n",
            "71\n",
            "71\n",
            "71\n",
            "71\n",
            "71\n",
            "71\n",
            "71\n",
            "71\n",
            "71\n",
            "71\n",
            "71\n",
            "71\n",
            "71\n",
            "71\n",
            "71\n",
            "71\n",
            "71\n",
            "71\n",
            "71\n",
            "71\n",
            "72\n",
            "72\n",
            "72\n",
            "72\n",
            "72\n",
            "72\n",
            "72\n",
            "72\n",
            "72\n",
            "72\n",
            "72\n",
            "72\n",
            "72\n",
            "72\n",
            "72\n",
            "72\n",
            "72\n",
            "72\n",
            "72\n",
            "72\n",
            "72\n",
            "72\n",
            "72\n",
            "72\n",
            "72\n",
            "72\n",
            "72\n",
            "72\n",
            "72\n",
            "72\n",
            "72\n",
            "72\n",
            "72\n",
            "72\n",
            "72\n",
            "72\n",
            "72\n",
            "72\n",
            "72\n",
            "72\n",
            "72\n",
            "72\n",
            "72\n",
            "72\n",
            "72\n",
            "72\n",
            "72\n",
            "72\n",
            "72\n",
            "72\n",
            "72\n",
            "72\n",
            "72\n",
            "72\n",
            "72\n",
            "72\n",
            "72\n",
            "72\n",
            "72\n",
            "72\n",
            "73\n",
            "73\n",
            "73\n",
            "73\n",
            "73\n",
            "73\n",
            "73\n",
            "73\n",
            "73\n",
            "73\n",
            "73\n",
            "73\n",
            "73\n",
            "73\n",
            "73\n",
            "73\n",
            "73\n",
            "73\n",
            "73\n",
            "73\n",
            "73\n",
            "73\n",
            "73\n",
            "73\n",
            "73\n",
            "73\n",
            "73\n",
            "73\n",
            "73\n",
            "73\n",
            "73\n",
            "73\n",
            "73\n",
            "73\n",
            "73\n",
            "73\n",
            "73\n",
            "73\n",
            "73\n",
            "73\n",
            "73\n",
            "73\n",
            "73\n",
            "73\n",
            "73\n",
            "73\n",
            "73\n",
            "73\n",
            "73\n",
            "73\n",
            "73\n",
            "73\n",
            "73\n",
            "73\n",
            "73\n",
            "73\n",
            "73\n",
            "73\n",
            "73\n",
            "73\n",
            "73\n",
            "73\n",
            "73\n",
            "73\n",
            "73\n",
            "73\n",
            "73\n",
            "73\n",
            "73\n",
            "73\n",
            "73\n",
            "74\n",
            "74\n",
            "74\n",
            "74\n",
            "74\n",
            "74\n",
            "74\n",
            "74\n",
            "74\n",
            "74\n",
            "74\n",
            "74\n",
            "74\n",
            "74\n",
            "74\n",
            "74\n",
            "74\n",
            "74\n",
            "74\n",
            "74\n",
            "74\n",
            "74\n",
            "74\n",
            "74\n",
            "74\n",
            "74\n",
            "74\n",
            "74\n",
            "74\n",
            "74\n",
            "74\n",
            "74\n",
            "74\n",
            "74\n",
            "74\n",
            "74\n",
            "74\n",
            "74\n",
            "74\n",
            "74\n",
            "74\n",
            "74\n",
            "74\n",
            "74\n",
            "74\n",
            "74\n",
            "74\n",
            "74\n",
            "74\n",
            "74\n",
            "74\n",
            "74\n",
            "74\n",
            "74\n",
            "74\n",
            "74\n",
            "74\n",
            "74\n",
            "74\n",
            "74\n",
            "74\n",
            "74\n",
            "74\n",
            "74\n",
            "74\n",
            "74\n",
            "74\n",
            "74\n",
            "74\n",
            "74\n",
            "75\n",
            "75\n",
            "75\n",
            "75\n",
            "75\n",
            "75\n",
            "75\n",
            "75\n",
            "75\n",
            "75\n",
            "75\n",
            "75\n",
            "75\n",
            "75\n",
            "75\n",
            "75\n",
            "75\n",
            "75\n",
            "75\n",
            "75\n",
            "75\n",
            "75\n",
            "75\n",
            "75\n",
            "75\n",
            "75\n",
            "75\n",
            "75\n",
            "75\n",
            "75\n",
            "75\n",
            "75\n",
            "75\n",
            "75\n",
            "75\n",
            "75\n",
            "75\n",
            "75\n",
            "75\n",
            "75\n",
            "75\n",
            "75\n",
            "75\n",
            "75\n",
            "75\n",
            "75\n",
            "75\n",
            "75\n",
            "75\n",
            "75\n",
            "75\n",
            "75\n",
            "75\n",
            "75\n",
            "75\n",
            "75\n",
            "75\n",
            "75\n",
            "75\n",
            "75\n",
            "75\n",
            "75\n",
            "75\n",
            "75\n",
            "75\n",
            "75\n",
            "75\n",
            "75\n",
            "75\n",
            "76\n",
            "76\n",
            "76\n",
            "76\n",
            "76\n",
            "76\n",
            "76\n",
            "76\n",
            "76\n",
            "76\n",
            "76\n",
            "76\n",
            "76\n",
            "76\n",
            "76\n",
            "76\n",
            "76\n",
            "76\n",
            "76\n",
            "76\n",
            "76\n",
            "76\n",
            "76\n",
            "76\n",
            "76\n",
            "76\n",
            "76\n",
            "76\n",
            "76\n",
            "76\n",
            "76\n",
            "76\n",
            "76\n",
            "76\n",
            "76\n",
            "76\n",
            "76\n",
            "76\n",
            "76\n",
            "76\n",
            "76\n",
            "76\n",
            "76\n",
            "76\n",
            "76\n",
            "76\n",
            "76\n",
            "76\n",
            "76\n",
            "76\n",
            "76\n",
            "76\n",
            "76\n",
            "76\n",
            "76\n",
            "76\n",
            "76\n",
            "76\n",
            "76\n",
            "76\n",
            "76\n",
            "76\n",
            "76\n",
            "76\n",
            "76\n",
            "76\n",
            "76\n",
            "76\n",
            "76\n",
            "76\n",
            "77\n",
            "77\n",
            "77\n",
            "77\n",
            "77\n",
            "77\n",
            "77\n",
            "77\n",
            "77\n",
            "77\n",
            "77\n",
            "77\n",
            "77\n",
            "77\n",
            "77\n",
            "77\n",
            "77\n",
            "77\n",
            "77\n",
            "77\n",
            "77\n",
            "77\n",
            "77\n",
            "77\n",
            "77\n",
            "77\n",
            "77\n",
            "77\n",
            "77\n",
            "77\n",
            "77\n",
            "77\n",
            "77\n",
            "77\n",
            "77\n",
            "77\n",
            "77\n",
            "77\n",
            "77\n",
            "77\n",
            "77\n",
            "77\n",
            "77\n",
            "77\n",
            "77\n",
            "77\n",
            "77\n",
            "77\n",
            "77\n",
            "77\n",
            "77\n",
            "77\n",
            "77\n",
            "77\n",
            "77\n",
            "77\n",
            "77\n",
            "77\n",
            "77\n",
            "77\n",
            "77\n",
            "77\n",
            "77\n",
            "77\n",
            "77\n",
            "77\n",
            "77\n",
            "77\n",
            "77\n",
            "77\n",
            "77\n",
            "77\n",
            "77\n",
            "78\n",
            "78\n",
            "78\n",
            "78\n",
            "78\n",
            "78\n",
            "78\n",
            "78\n",
            "78\n",
            "78\n",
            "78\n",
            "78\n",
            "78\n",
            "78\n",
            "78\n",
            "78\n",
            "78\n",
            "78\n",
            "78\n",
            "78\n",
            "78\n",
            "78\n",
            "78\n",
            "78\n",
            "78\n",
            "78\n",
            "78\n",
            "78\n",
            "78\n",
            "78\n",
            "78\n",
            "78\n",
            "78\n",
            "78\n",
            "78\n",
            "78\n",
            "78\n",
            "78\n",
            "78\n",
            "78\n",
            "78\n",
            "78\n",
            "78\n",
            "78\n",
            "78\n",
            "78\n",
            "78\n",
            "78\n",
            "78\n",
            "78\n",
            "78\n",
            "78\n",
            "78\n",
            "78\n",
            "78\n",
            "78\n",
            "78\n",
            "78\n",
            "78\n",
            "78\n",
            "78\n",
            "78\n",
            "78\n",
            "78\n",
            "78\n",
            "78\n",
            "78\n",
            "78\n",
            "78\n",
            "78\n",
            "79\n",
            "79\n",
            "79\n",
            "79\n",
            "79\n",
            "79\n",
            "79\n",
            "79\n",
            "79\n",
            "79\n",
            "79\n",
            "79\n",
            "79\n",
            "79\n",
            "79\n",
            "79\n",
            "79\n",
            "79\n",
            "79\n",
            "79\n",
            "79\n",
            "79\n",
            "79\n",
            "79\n",
            "79\n",
            "79\n",
            "79\n",
            "79\n",
            "79\n",
            "79\n",
            "79\n",
            "79\n",
            "79\n",
            "79\n",
            "79\n",
            "79\n",
            "79\n",
            "79\n",
            "79\n",
            "79\n",
            "79\n",
            "79\n",
            "79\n",
            "79\n",
            "79\n",
            "79\n",
            "79\n",
            "79\n",
            "79\n",
            "79\n",
            "79\n",
            "79\n",
            "79\n",
            "79\n",
            "79\n",
            "79\n",
            "79\n",
            "79\n",
            "79\n",
            "79\n",
            "79\n",
            "79\n",
            "79\n",
            "79\n",
            "79\n",
            "79\n",
            "79\n",
            "79\n",
            "79\n",
            "79\n",
            "79\n",
            "79\n",
            "79\n",
            "79\n",
            "79\n",
            "79\n",
            "79\n",
            "80\n",
            "80\n",
            "80\n",
            "80\n",
            "80\n",
            "80\n",
            "80\n",
            "80\n",
            "80\n",
            "80\n",
            "80\n",
            "80\n",
            "80\n",
            "80\n",
            "80\n",
            "80\n",
            "80\n",
            "80\n",
            "80\n",
            "80\n",
            "80\n",
            "80\n",
            "80\n",
            "80\n",
            "80\n",
            "80\n",
            "80\n",
            "80\n",
            "80\n",
            "80\n",
            "80\n",
            "80\n",
            "80\n",
            "80\n",
            "80\n",
            "80\n",
            "80\n",
            "80\n",
            "80\n",
            "80\n",
            "80\n",
            "80\n",
            "80\n",
            "80\n",
            "80\n",
            "80\n",
            "80\n",
            "80\n",
            "80\n",
            "80\n",
            "80\n",
            "80\n",
            "80\n",
            "80\n",
            "80\n",
            "80\n",
            "80\n",
            "80\n",
            "80\n",
            "80\n",
            "80\n",
            "80\n",
            "80\n",
            "80\n",
            "80\n",
            "80\n",
            "80\n",
            "80\n",
            "80\n",
            "80\n",
            "81\n",
            "81\n",
            "81\n",
            "81\n",
            "81\n",
            "81\n",
            "81\n",
            "81\n",
            "81\n",
            "81\n",
            "81\n",
            "81\n",
            "81\n",
            "81\n",
            "81\n",
            "81\n",
            "81\n",
            "81\n",
            "81\n",
            "81\n",
            "81\n",
            "81\n",
            "81\n",
            "81\n",
            "81\n",
            "81\n",
            "81\n",
            "81\n",
            "81\n",
            "81\n",
            "81\n",
            "81\n",
            "81\n",
            "81\n",
            "81\n",
            "81\n",
            "81\n",
            "81\n",
            "81\n",
            "81\n",
            "81\n",
            "81\n",
            "81\n",
            "81\n",
            "81\n",
            "81\n",
            "81\n",
            "81\n",
            "81\n",
            "81\n",
            "81\n",
            "81\n",
            "81\n",
            "81\n",
            "81\n",
            "81\n",
            "81\n",
            "81\n",
            "81\n",
            "81\n",
            "81\n",
            "81\n",
            "81\n",
            "81\n",
            "81\n",
            "81\n",
            "81\n",
            "81\n",
            "81\n",
            "81\n",
            "81\n",
            "81\n",
            "81\n",
            "81\n",
            "81\n",
            "81\n",
            "82\n",
            "82\n",
            "82\n",
            "82\n",
            "82\n",
            "82\n",
            "82\n",
            "82\n",
            "82\n",
            "82\n",
            "82\n",
            "82\n",
            "82\n",
            "82\n",
            "82\n",
            "82\n",
            "82\n",
            "82\n",
            "82\n",
            "82\n",
            "82\n",
            "82\n",
            "82\n",
            "82\n",
            "82\n",
            "82\n",
            "82\n",
            "82\n",
            "82\n",
            "82\n",
            "82\n",
            "82\n",
            "82\n",
            "82\n",
            "82\n",
            "82\n",
            "82\n",
            "82\n",
            "82\n",
            "82\n",
            "82\n",
            "82\n",
            "82\n",
            "82\n",
            "82\n",
            "82\n",
            "82\n",
            "82\n",
            "82\n",
            "82\n",
            "82\n",
            "82\n",
            "82\n",
            "82\n",
            "82\n",
            "82\n",
            "82\n",
            "82\n",
            "82\n",
            "82\n",
            "82\n",
            "82\n",
            "82\n",
            "82\n",
            "82\n",
            "82\n",
            "82\n",
            "82\n",
            "82\n",
            "82\n",
            "82\n",
            "82\n",
            "82\n",
            "82\n",
            "82\n",
            "82\n",
            "82\n",
            "82\n",
            "83\n",
            "83\n",
            "83\n",
            "83\n",
            "83\n",
            "83\n",
            "83\n",
            "83\n",
            "83\n",
            "83\n",
            "83\n",
            "83\n",
            "83\n",
            "83\n",
            "83\n",
            "83\n",
            "83\n",
            "83\n",
            "83\n",
            "83\n",
            "83\n",
            "83\n",
            "83\n",
            "83\n",
            "83\n",
            "83\n",
            "83\n",
            "83\n",
            "83\n",
            "83\n",
            "83\n",
            "83\n",
            "83\n",
            "83\n",
            "83\n",
            "83\n",
            "83\n",
            "83\n",
            "83\n",
            "83\n",
            "83\n",
            "83\n",
            "83\n",
            "83\n",
            "83\n",
            "83\n",
            "83\n",
            "83\n",
            "83\n",
            "83\n",
            "83\n",
            "83\n",
            "83\n",
            "83\n",
            "83\n",
            "83\n",
            "83\n",
            "83\n",
            "83\n",
            "83\n",
            "83\n",
            "83\n",
            "83\n",
            "83\n",
            "83\n",
            "83\n",
            "83\n",
            "83\n",
            "83\n",
            "83\n",
            "83\n",
            "83\n",
            "83\n",
            "83\n",
            "83\n",
            "83\n",
            "83\n",
            "83\n",
            "83\n",
            "83\n",
            "83\n",
            "84\n",
            "84\n",
            "84\n",
            "84\n",
            "84\n",
            "84\n",
            "84\n",
            "84\n",
            "84\n",
            "84\n",
            "84\n",
            "84\n",
            "84\n",
            "84\n",
            "84\n",
            "84\n",
            "84\n",
            "84\n",
            "84\n",
            "84\n",
            "84\n",
            "84\n",
            "84\n",
            "84\n",
            "84\n",
            "84\n",
            "84\n",
            "84\n",
            "84\n",
            "84\n",
            "84\n",
            "84\n",
            "84\n",
            "84\n",
            "84\n",
            "84\n",
            "84\n",
            "84\n",
            "84\n",
            "84\n",
            "84\n",
            "84\n",
            "84\n",
            "84\n",
            "84\n",
            "84\n",
            "84\n",
            "84\n",
            "84\n",
            "84\n",
            "84\n",
            "84\n",
            "84\n",
            "84\n",
            "84\n",
            "84\n",
            "84\n",
            "84\n",
            "84\n",
            "84\n",
            "84\n",
            "84\n",
            "84\n",
            "84\n",
            "84\n",
            "84\n",
            "84\n",
            "84\n",
            "84\n",
            "84\n",
            "84\n",
            "84\n",
            "85\n",
            "85\n",
            "85\n",
            "85\n",
            "85\n",
            "85\n",
            "85\n",
            "85\n",
            "85\n",
            "85\n",
            "85\n",
            "85\n",
            "85\n",
            "85\n",
            "85\n",
            "85\n",
            "85\n",
            "85\n",
            "85\n",
            "85\n",
            "85\n",
            "85\n",
            "85\n",
            "85\n",
            "85\n",
            "85\n",
            "85\n",
            "85\n",
            "85\n",
            "85\n",
            "85\n",
            "85\n",
            "85\n",
            "85\n",
            "85\n",
            "85\n",
            "85\n",
            "85\n",
            "85\n",
            "85\n",
            "85\n",
            "85\n",
            "85\n",
            "85\n",
            "85\n",
            "85\n",
            "85\n",
            "85\n",
            "85\n",
            "85\n",
            "85\n",
            "85\n",
            "85\n",
            "85\n",
            "85\n",
            "85\n",
            "85\n",
            "85\n",
            "85\n",
            "85\n",
            "85\n",
            "85\n",
            "85\n",
            "85\n",
            "85\n",
            "85\n",
            "85\n",
            "85\n",
            "85\n",
            "85\n",
            "85\n",
            "85\n",
            "85\n",
            "85\n",
            "85\n",
            "85\n",
            "85\n",
            "85\n",
            "85\n",
            "85\n",
            "85\n",
            "86\n",
            "86\n",
            "86\n",
            "86\n",
            "86\n",
            "86\n",
            "86\n",
            "86\n",
            "86\n",
            "86\n",
            "86\n",
            "86\n",
            "86\n",
            "86\n",
            "86\n",
            "86\n",
            "86\n",
            "86\n",
            "86\n",
            "86\n",
            "86\n",
            "86\n",
            "86\n",
            "86\n",
            "86\n",
            "86\n",
            "86\n",
            "86\n",
            "86\n",
            "86\n",
            "86\n",
            "86\n",
            "86\n",
            "86\n",
            "86\n",
            "86\n",
            "86\n",
            "86\n",
            "86\n",
            "86\n",
            "86\n",
            "86\n",
            "86\n",
            "86\n",
            "86\n",
            "86\n",
            "86\n",
            "86\n",
            "86\n",
            "86\n",
            "86\n",
            "86\n",
            "86\n",
            "86\n",
            "86\n",
            "86\n",
            "86\n",
            "86\n",
            "86\n",
            "86\n",
            "86\n",
            "86\n",
            "86\n",
            "86\n",
            "86\n",
            "86\n",
            "86\n",
            "86\n",
            "86\n",
            "86\n",
            "86\n",
            "86\n",
            "86\n",
            "86\n",
            "86\n",
            "86\n",
            "86\n",
            "86\n",
            "86\n",
            "86\n",
            "86\n",
            "86\n",
            "87\n",
            "87\n",
            "87\n",
            "87\n",
            "87\n",
            "87\n",
            "87\n",
            "87\n",
            "87\n",
            "87\n",
            "87\n",
            "87\n",
            "87\n",
            "87\n",
            "87\n",
            "87\n",
            "87\n",
            "87\n",
            "87\n",
            "87\n",
            "87\n",
            "87\n",
            "87\n",
            "87\n",
            "87\n",
            "87\n",
            "87\n",
            "87\n",
            "87\n",
            "87\n",
            "87\n",
            "87\n",
            "87\n",
            "87\n",
            "87\n",
            "87\n",
            "87\n",
            "87\n",
            "87\n",
            "87\n",
            "87\n",
            "87\n",
            "87\n",
            "87\n",
            "87\n",
            "87\n",
            "87\n",
            "87\n",
            "87\n",
            "87\n",
            "87\n",
            "87\n",
            "87\n",
            "87\n",
            "87\n",
            "87\n",
            "87\n",
            "87\n",
            "87\n",
            "87\n",
            "87\n",
            "87\n",
            "87\n",
            "87\n",
            "87\n",
            "87\n",
            "87\n",
            "87\n",
            "87\n",
            "87\n",
            "87\n",
            "87\n",
            "87\n",
            "87\n",
            "87\n",
            "87\n",
            "87\n",
            "87\n",
            "87\n",
            "87\n",
            "87\n",
            "87\n",
            "87\n",
            "88\n",
            "88\n",
            "88\n",
            "88\n",
            "88\n",
            "88\n",
            "88\n",
            "88\n",
            "88\n",
            "88\n",
            "88\n",
            "88\n",
            "88\n",
            "88\n",
            "88\n",
            "88\n",
            "88\n",
            "88\n",
            "88\n",
            "88\n",
            "88\n",
            "88\n",
            "88\n",
            "88\n",
            "88\n",
            "88\n",
            "88\n",
            "88\n",
            "88\n",
            "88\n",
            "88\n",
            "88\n",
            "88\n",
            "88\n",
            "88\n",
            "88\n",
            "88\n",
            "88\n",
            "88\n",
            "88\n",
            "88\n",
            "88\n",
            "88\n",
            "88\n",
            "88\n",
            "88\n",
            "88\n",
            "88\n",
            "88\n",
            "88\n",
            "88\n",
            "88\n",
            "88\n",
            "88\n",
            "88\n",
            "88\n",
            "88\n",
            "88\n",
            "88\n",
            "88\n",
            "88\n",
            "88\n",
            "88\n",
            "88\n",
            "88\n",
            "88\n",
            "88\n",
            "88\n",
            "88\n",
            "88\n",
            "88\n",
            "88\n",
            "88\n",
            "88\n",
            "88\n",
            "88\n",
            "88\n",
            "88\n",
            "88\n",
            "88\n",
            "89\n",
            "89\n",
            "89\n",
            "89\n",
            "89\n",
            "89\n",
            "89\n",
            "89\n",
            "89\n",
            "89\n",
            "89\n",
            "89\n",
            "89\n",
            "89\n",
            "89\n",
            "89\n",
            "89\n",
            "89\n",
            "89\n",
            "89\n",
            "89\n",
            "89\n",
            "89\n",
            "89\n",
            "89\n",
            "89\n",
            "89\n",
            "89\n",
            "89\n",
            "89\n",
            "89\n",
            "89\n",
            "89\n",
            "89\n",
            "89\n",
            "89\n",
            "89\n",
            "89\n",
            "89\n",
            "89\n",
            "89\n",
            "89\n",
            "89\n",
            "89\n",
            "89\n",
            "89\n",
            "89\n",
            "89\n",
            "89\n",
            "89\n",
            "89\n",
            "89\n",
            "89\n",
            "89\n",
            "89\n",
            "89\n",
            "89\n",
            "89\n",
            "89\n",
            "89\n",
            "89\n",
            "89\n",
            "89\n",
            "89\n",
            "89\n",
            "89\n",
            "89\n",
            "89\n",
            "89\n",
            "89\n",
            "89\n",
            "89\n",
            "89\n",
            "89\n",
            "89\n",
            "89\n",
            "89\n",
            "89\n",
            "89\n",
            "89\n",
            "89\n",
            "89\n",
            "89\n",
            "89\n",
            "89\n",
            "89\n",
            "89\n",
            "90\n",
            "90\n",
            "90\n",
            "90\n",
            "90\n",
            "90\n",
            "90\n",
            "90\n",
            "90\n",
            "90\n",
            "90\n",
            "90\n",
            "90\n",
            "90\n",
            "90\n",
            "90\n",
            "90\n",
            "90\n",
            "90\n",
            "90\n",
            "90\n",
            "90\n",
            "90\n",
            "90\n",
            "90\n",
            "90\n",
            "90\n",
            "90\n",
            "90\n",
            "90\n",
            "90\n",
            "90\n",
            "90\n",
            "90\n",
            "90\n",
            "90\n",
            "90\n",
            "90\n",
            "90\n",
            "90\n",
            "90\n",
            "90\n",
            "90\n",
            "90\n",
            "90\n",
            "90\n",
            "90\n",
            "90\n",
            "90\n",
            "90\n",
            "90\n",
            "90\n",
            "90\n",
            "90\n",
            "90\n",
            "90\n",
            "90\n",
            "90\n",
            "90\n",
            "90\n",
            "90\n",
            "90\n",
            "90\n",
            "90\n",
            "90\n",
            "90\n",
            "90\n",
            "90\n",
            "90\n",
            "90\n",
            "90\n",
            "90\n",
            "90\n",
            "90\n",
            "90\n",
            "90\n",
            "90\n",
            "90\n",
            "91\n",
            "91\n",
            "91\n",
            "91\n",
            "91\n",
            "91\n",
            "91\n",
            "91\n",
            "91\n",
            "91\n",
            "91\n",
            "91\n",
            "91\n",
            "91\n",
            "91\n",
            "91\n",
            "91\n",
            "91\n",
            "91\n",
            "91\n",
            "91\n",
            "91\n",
            "91\n",
            "91\n",
            "91\n",
            "91\n",
            "91\n",
            "91\n",
            "91\n",
            "91\n",
            "91\n",
            "91\n",
            "91\n",
            "91\n",
            "91\n",
            "91\n",
            "91\n",
            "91\n",
            "91\n",
            "91\n",
            "91\n",
            "91\n",
            "91\n",
            "91\n",
            "91\n",
            "91\n",
            "91\n",
            "91\n",
            "91\n",
            "91\n",
            "91\n",
            "91\n",
            "91\n",
            "91\n",
            "91\n",
            "91\n",
            "91\n",
            "91\n",
            "91\n",
            "91\n",
            "91\n",
            "91\n",
            "91\n",
            "91\n",
            "91\n",
            "91\n",
            "91\n",
            "91\n",
            "91\n",
            "91\n",
            "91\n",
            "91\n",
            "91\n",
            "91\n",
            "91\n",
            "91\n",
            "91\n",
            "91\n",
            "91\n",
            "91\n",
            "91\n",
            "91\n",
            "91\n",
            "91\n",
            "91\n",
            "91\n",
            "91\n",
            "92\n",
            "92\n",
            "92\n",
            "92\n",
            "92\n",
            "92\n",
            "92\n",
            "92\n",
            "92\n",
            "92\n",
            "92\n",
            "92\n",
            "92\n",
            "92\n",
            "92\n",
            "92\n",
            "92\n",
            "92\n",
            "92\n",
            "92\n",
            "92\n",
            "92\n",
            "92\n",
            "92\n",
            "92\n",
            "92\n",
            "92\n",
            "92\n",
            "92\n",
            "92\n",
            "92\n",
            "92\n",
            "92\n",
            "92\n",
            "92\n",
            "92\n",
            "92\n",
            "92\n",
            "92\n",
            "92\n",
            "92\n",
            "92\n",
            "92\n",
            "92\n",
            "92\n",
            "92\n",
            "92\n",
            "92\n",
            "92\n",
            "92\n",
            "92\n",
            "92\n",
            "92\n",
            "92\n",
            "92\n",
            "92\n",
            "92\n",
            "92\n",
            "92\n",
            "92\n",
            "92\n",
            "92\n",
            "92\n",
            "92\n",
            "92\n",
            "92\n",
            "92\n",
            "92\n",
            "92\n",
            "92\n",
            "92\n",
            "92\n",
            "92\n",
            "92\n",
            "92\n",
            "92\n",
            "92\n",
            "92\n",
            "92\n",
            "92\n",
            "92\n",
            "92\n",
            "92\n",
            "92\n",
            "92\n",
            "92\n",
            "93\n",
            "93\n",
            "93\n",
            "93\n",
            "93\n",
            "93\n",
            "93\n",
            "93\n",
            "93\n",
            "93\n",
            "93\n",
            "93\n",
            "93\n",
            "93\n",
            "93\n",
            "93\n",
            "93\n",
            "93\n",
            "93\n",
            "93\n",
            "93\n",
            "93\n",
            "93\n",
            "93\n",
            "93\n",
            "93\n",
            "93\n",
            "93\n",
            "93\n",
            "93\n",
            "93\n",
            "93\n",
            "93\n",
            "93\n",
            "93\n",
            "93\n",
            "93\n",
            "93\n",
            "93\n",
            "93\n",
            "93\n",
            "93\n",
            "93\n",
            "93\n",
            "93\n",
            "93\n",
            "93\n",
            "93\n",
            "93\n",
            "93\n",
            "93\n",
            "93\n",
            "93\n",
            "93\n",
            "93\n",
            "93\n",
            "93\n",
            "93\n",
            "93\n",
            "93\n",
            "93\n",
            "93\n",
            "93\n",
            "93\n",
            "93\n",
            "93\n",
            "93\n",
            "93\n",
            "93\n",
            "93\n",
            "93\n",
            "93\n",
            "93\n",
            "93\n",
            "93\n",
            "93\n",
            "93\n",
            "93\n",
            "93\n",
            "93\n",
            "93\n",
            "93\n",
            "93\n",
            "93\n",
            "93\n",
            "93\n",
            "93\n",
            "93\n",
            "93\n",
            "94\n",
            "94\n",
            "94\n",
            "94\n",
            "94\n",
            "94\n",
            "94\n",
            "94\n",
            "94\n",
            "94\n",
            "94\n",
            "94\n",
            "94\n",
            "94\n",
            "94\n",
            "94\n",
            "94\n",
            "94\n",
            "94\n",
            "94\n",
            "94\n",
            "94\n",
            "94\n",
            "94\n",
            "94\n",
            "94\n",
            "94\n",
            "94\n",
            "94\n",
            "94\n",
            "94\n",
            "94\n",
            "94\n",
            "94\n",
            "94\n",
            "94\n",
            "94\n",
            "94\n",
            "94\n",
            "94\n",
            "94\n",
            "94\n",
            "94\n",
            "94\n",
            "94\n",
            "94\n",
            "94\n",
            "94\n",
            "94\n",
            "94\n",
            "94\n",
            "94\n",
            "94\n",
            "94\n",
            "94\n",
            "94\n",
            "94\n",
            "94\n",
            "94\n",
            "94\n",
            "94\n",
            "94\n",
            "94\n",
            "94\n",
            "94\n",
            "94\n",
            "94\n",
            "94\n",
            "94\n",
            "94\n",
            "94\n",
            "94\n",
            "94\n",
            "94\n",
            "94\n",
            "94\n",
            "94\n",
            "94\n",
            "94\n",
            "94\n",
            "94\n",
            "94\n",
            "94\n",
            "94\n",
            "94\n",
            "94\n",
            "94\n",
            "94\n",
            "94\n",
            "94\n",
            "95\n",
            "95\n",
            "95\n",
            "95\n",
            "95\n",
            "95\n",
            "95\n",
            "95\n",
            "95\n",
            "95\n",
            "95\n",
            "95\n",
            "95\n",
            "95\n",
            "95\n",
            "95\n",
            "95\n",
            "95\n",
            "95\n",
            "95\n",
            "95\n",
            "95\n",
            "95\n",
            "95\n",
            "95\n",
            "95\n",
            "95\n",
            "95\n",
            "95\n",
            "95\n",
            "95\n",
            "95\n",
            "95\n",
            "95\n",
            "95\n",
            "95\n",
            "95\n",
            "95\n",
            "95\n",
            "95\n",
            "95\n",
            "95\n",
            "95\n",
            "95\n",
            "95\n",
            "95\n",
            "95\n",
            "95\n",
            "95\n",
            "95\n",
            "95\n",
            "95\n",
            "95\n",
            "95\n",
            "95\n",
            "95\n",
            "95\n",
            "95\n",
            "95\n",
            "95\n",
            "95\n",
            "95\n",
            "95\n",
            "95\n",
            "95\n",
            "95\n",
            "95\n",
            "95\n",
            "95\n",
            "95\n",
            "95\n",
            "95\n",
            "95\n",
            "95\n",
            "95\n",
            "95\n",
            "95\n",
            "95\n",
            "95\n",
            "95\n",
            "95\n",
            "95\n",
            "95\n",
            "95\n",
            "95\n",
            "95\n",
            "95\n",
            "95\n",
            "95\n",
            "95\n",
            "95\n",
            "96\n",
            "96\n",
            "96\n",
            "96\n",
            "96\n",
            "96\n",
            "96\n",
            "96\n",
            "96\n",
            "96\n",
            "96\n",
            "96\n",
            "96\n",
            "96\n",
            "96\n",
            "96\n",
            "96\n",
            "96\n",
            "96\n",
            "96\n",
            "96\n",
            "96\n",
            "96\n",
            "96\n",
            "96\n",
            "96\n",
            "96\n",
            "96\n",
            "96\n",
            "96\n",
            "96\n",
            "96\n",
            "96\n",
            "96\n",
            "96\n",
            "96\n",
            "96\n",
            "96\n",
            "96\n",
            "96\n",
            "96\n",
            "96\n",
            "96\n",
            "96\n",
            "96\n",
            "96\n",
            "96\n",
            "96\n",
            "96\n",
            "96\n",
            "96\n",
            "96\n",
            "96\n",
            "96\n",
            "96\n",
            "96\n",
            "96\n",
            "96\n",
            "96\n",
            "96\n",
            "96\n",
            "96\n",
            "96\n",
            "96\n",
            "96\n",
            "96\n",
            "96\n",
            "96\n",
            "96\n",
            "96\n",
            "96\n",
            "96\n",
            "96\n",
            "96\n",
            "96\n",
            "96\n",
            "96\n",
            "96\n",
            "96\n",
            "96\n",
            "96\n",
            "96\n",
            "96\n",
            "96\n",
            "97\n",
            "97\n",
            "97\n",
            "97\n",
            "97\n",
            "97\n",
            "97\n",
            "97\n",
            "97\n",
            "97\n",
            "97\n",
            "97\n",
            "97\n",
            "97\n",
            "97\n",
            "97\n",
            "97\n",
            "97\n",
            "97\n",
            "97\n",
            "97\n",
            "97\n",
            "97\n",
            "97\n",
            "97\n",
            "97\n",
            "97\n",
            "97\n",
            "97\n",
            "97\n",
            "97\n",
            "97\n",
            "97\n",
            "97\n",
            "97\n",
            "97\n",
            "97\n",
            "97\n",
            "97\n",
            "97\n",
            "97\n",
            "97\n",
            "97\n",
            "97\n",
            "97\n",
            "97\n",
            "97\n",
            "97\n",
            "97\n",
            "97\n",
            "97\n",
            "97\n",
            "97\n",
            "97\n",
            "97\n",
            "97\n",
            "97\n",
            "97\n",
            "97\n",
            "97\n",
            "97\n",
            "97\n",
            "97\n",
            "97\n",
            "97\n",
            "97\n",
            "97\n",
            "97\n",
            "97\n",
            "97\n",
            "97\n",
            "97\n",
            "97\n",
            "97\n",
            "97\n",
            "97\n",
            "97\n",
            "97\n",
            "97\n",
            "97\n",
            "97\n",
            "97\n",
            "97\n",
            "97\n",
            "97\n",
            "97\n",
            "97\n",
            "97\n",
            "97\n",
            "97\n",
            "97\n",
            "97\n",
            "97\n",
            "97\n",
            "97\n",
            "98\n",
            "98\n",
            "98\n",
            "98\n",
            "98\n",
            "98\n",
            "98\n",
            "98\n",
            "98\n",
            "98\n",
            "98\n",
            "98\n",
            "98\n",
            "98\n",
            "98\n",
            "98\n",
            "98\n",
            "98\n",
            "98\n",
            "98\n",
            "98\n",
            "98\n",
            "98\n",
            "98\n",
            "98\n",
            "98\n",
            "98\n",
            "98\n",
            "98\n",
            "98\n",
            "98\n",
            "98\n",
            "98\n",
            "98\n",
            "98\n",
            "98\n",
            "98\n",
            "98\n",
            "98\n",
            "98\n",
            "98\n",
            "98\n",
            "98\n",
            "98\n",
            "98\n",
            "98\n",
            "98\n",
            "98\n",
            "98\n",
            "98\n",
            "98\n",
            "98\n",
            "98\n",
            "98\n",
            "98\n",
            "98\n",
            "98\n",
            "98\n",
            "98\n",
            "98\n",
            "98\n",
            "98\n",
            "98\n",
            "98\n",
            "98\n",
            "98\n",
            "98\n",
            "98\n",
            "98\n",
            "98\n",
            "98\n",
            "98\n",
            "98\n",
            "98\n",
            "98\n",
            "98\n",
            "98\n",
            "98\n",
            "98\n",
            "98\n",
            "98\n",
            "98\n",
            "98\n",
            "98\n",
            "98\n",
            "98\n",
            "98\n",
            "98\n",
            "98\n",
            "98\n",
            "98\n",
            "98\n",
            "99\n",
            "99\n",
            "99\n",
            "99\n",
            "99\n",
            "99\n",
            "99\n",
            "99\n",
            "99\n",
            "99\n",
            "99\n",
            "99\n",
            "99\n",
            "99\n",
            "99\n",
            "99\n",
            "99\n",
            "99\n",
            "99\n",
            "99\n",
            "99\n",
            "99\n",
            "99\n",
            "99\n",
            "99\n",
            "99\n",
            "99\n",
            "99\n",
            "99\n",
            "99\n",
            "99\n",
            "99\n",
            "99\n",
            "99\n",
            "99\n",
            "99\n",
            "99\n",
            "99\n",
            "99\n",
            "99\n",
            "99\n",
            "99\n",
            "99\n",
            "99\n",
            "99\n",
            "99\n",
            "99\n",
            "99\n",
            "99\n",
            "99\n",
            "99\n",
            "99\n",
            "99\n",
            "99\n",
            "99\n",
            "99\n",
            "99\n",
            "99\n",
            "99\n",
            "99\n",
            "99\n",
            "99\n",
            "99\n",
            "99\n",
            "99\n",
            "99\n",
            "99\n",
            "99\n",
            "99\n",
            "99\n",
            "99\n",
            "99\n",
            "99\n",
            "99\n",
            "99\n",
            "99\n",
            "99\n",
            "99\n",
            "99\n",
            "99\n",
            "99\n",
            "99\n",
            "99\n",
            "99\n",
            "99\n",
            "99\n",
            "99\n",
            "99\n",
            "99\n",
            "99\n",
            "99\n",
            "99\n",
            "99\n"
          ]
        }
      ]
    },
    {
      "cell_type": "code",
      "source": [
        "class Parrot:\n",
        "  species=\"bird\"\n",
        "  def __init__(self,name,age):\n",
        "    self.name=name\n",
        "    self.age=age'\n",
        "  blu=Parrot(name)"
      ],
      "metadata": {
        "colab": {
          "base_uri": "https://localhost:8080/"
        },
        "id": "hsUVg4OGKUoL",
        "outputId": "8a0cddca-ea97-4917-bc61-0c6039c94f58"
      },
      "execution_count": null,
      "outputs": [
        {
          "output_type": "stream",
          "name": "stdout",
          "text": [
            "Blu is a bird\n",
            "Woo is also a bird\n",
            "Blu is 10 years old\n",
            "Woo is 15 years old\n"
          ]
        }
      ]
    },
    {
      "cell_type": "code",
      "source": [
        "a=int(input())\n",
        "b=int(input())\n",
        "c=input()\n",
        "multiply=a*2\n",
        "div=b/3\n",
        "con=c+str(div)\n",
        "print(multiply)\n",
        "print(div)\n",
        "print(con)"
      ],
      "metadata": {
        "colab": {
          "base_uri": "https://localhost:8080/"
        },
        "id": "mncgS8BaDL73",
        "outputId": "38fa4992-c526-4c83-eedb-402752955edc"
      },
      "execution_count": null,
      "outputs": [
        {
          "output_type": "stream",
          "name": "stdout",
          "text": [
            "-10\n",
            "5\n",
            "abc\n",
            "-20\n",
            "1.6666666666666667\n",
            "abc1.6666666666666667\n"
          ]
        }
      ]
    },
    {
      "cell_type": "code",
      "source": [],
      "metadata": {
        "id": "qYZiTHTyDSUi"
      },
      "execution_count": null,
      "outputs": []
    }
  ]
}